{
 "cells": [
  {
   "cell_type": "code",
   "execution_count": 2,
   "metadata": {},
   "outputs": [],
   "source": [
    "import nltk\n",
    "import spacy\n",
    "import os\n",
    "import numpy as np\n",
    "from nltk.tokenize import RegexpTokenizer\n",
    "import matplotlib.pylab as plt\n",
    "from tqdm import tqdm\n",
    "from nltk.stem.snowball import PorterStemmer,SnowballStemmer\n",
    "from nltk.stem import WordNetLemmatizer\n",
    "from nltk.tokenize import sent_tokenize, word_tokenize\n",
    "from scipy.cluster.hierarchy import dendrogram\n",
    "from sklearn.datasets import load_iris\n",
    "from sklearn.cluster import AgglomerativeClustering"
   ]
  },
  {
   "cell_type": "markdown",
   "metadata": {},
   "source": [
    "# part 1 code  for Comparing the values \n"
   ]
  },
  {
   "cell_type": "code",
   "execution_count": 4,
   "metadata": {},
   "outputs": [],
   "source": [
    "tokenizer = RegexpTokenizer(\"[a-zA-Z@]+\")"
   ]
  },
  {
   "cell_type": "code",
   "execution_count": 7,
   "metadata": {},
   "outputs": [],
   "source": [
    "fd = os.listdir(r\"C:\\Users\\babbe\\Downloads\\corpora\") "
   ]
  },
  {
   "cell_type": "code",
   "execution_count": 8,
   "metadata": {},
   "outputs": [
    {
     "name": "stdout",
     "output_type": "stream",
     "text": [
      "1056\n"
     ]
    }
   ],
   "source": [
    "splits = []\n",
    "unique = set([])\n",
    "for i in range(44):\n",
    "    split = fd[i*144:(i+1)*144]\n",
    "    select = np.random.choice(split, 24, replace=False)\n",
    "    \n",
    "    for x in select:\n",
    "        unique.add(x)\n",
    "        \n",
    "    splits.append(select)\n",
    "    \n",
    "print(len(unique))"
   ]
  },
  {
   "cell_type": "markdown",
   "metadata": {},
   "source": [
    "44*24 = 1056 files are selected and from these we will be further selecting 1000 files"
   ]
  },
  {
   "cell_type": "code",
   "execution_count": 9,
   "metadata": {},
   "outputs": [
    {
     "data": {
      "text/plain": [
       "44"
      ]
     },
     "execution_count": 9,
     "metadata": {},
     "output_type": "execute_result"
    }
   ],
   "source": [
    "len(splits)"
   ]
  },
  {
   "cell_type": "code",
   "execution_count": 10,
   "metadata": {},
   "outputs": [
    {
     "data": {
      "text/plain": [
       "24"
      ]
     },
     "execution_count": 10,
     "metadata": {},
     "output_type": "execute_result"
    }
   ],
   "source": [
    "len(splits[0])"
   ]
  },
  {
   "cell_type": "code",
   "execution_count": 11,
   "metadata": {},
   "outputs": [],
   "source": [
    "# final docs index to word(token) mapping\n",
    "\n",
    "class invertedIndex(object):\n",
    "    def __init__(self,docs):\n",
    "        self.docs = docs\n",
    "        self.termList = {}\n",
    "        self.freqTable = {}\n",
    "        for key,value in finalDocs.items():\n",
    "            for term in value:\n",
    "                if term in self.termList.keys():\n",
    "                    self.termList[term].add(key)\n",
    "                else:\n",
    "                    self.termList[term] = {key}\n",
    "        for term,ls in self.termList.items():\n",
    "            self.freqTable[term] = len(ls)\n",
    "    def search(self,term):\n",
    "        try:\n",
    "            return self.termList[term]\n",
    "        except:\n",
    "            return \"No results\""
   ]
  },
  {
   "cell_type": "code",
   "execution_count": 13,
   "metadata": {},
   "outputs": [
    {
     "data": {
      "text/plain": [
       "1056"
      ]
     },
     "execution_count": 13,
     "metadata": {},
     "output_type": "execute_result"
    }
   ],
   "source": [
    "finalDocs = {} \n",
    "corpora = [] \n",
    "i = 0\n",
    "unique = set([])\n",
    "indexToDoc = {}\n",
    "docToIndex = {}\n",
    "for chunks in splits:\n",
    "    for doc in chunks:\n",
    "        i+=1 \n",
    "        unique.add(doc)\n",
    "        f=open(r\"C:\\Users\\babbe\\Downloads\\corpora\\\\\"+doc, encoding = \"utf8\")\n",
    "        text = f.read()\n",
    "        corpora.append(text) \n",
    "        text = tokenizer.tokenize(text.lower())\n",
    "        finalDocs[i] = text\n",
    "        indexToDoc[i] = doc\n",
    "        docToIndex[doc] = i\n",
    "        f.close()\n",
    "        \n",
    "len(unique)\n",
    "# finalDocs[0] \n",
    "# type(finalDocs[0][0])"
   ]
  },
  {
   "cell_type": "code",
   "execution_count": 14,
   "metadata": {},
   "outputs": [
    {
     "name": "stdout",
     "output_type": "stream",
     "text": [
      "1\n",
      "GX000-56-16493385 ['skip', 'links', 'u', 's', 'department', 'of', 'state', 'home', 'contact', 'us']\n",
      "2\n",
      "GX001-49-1097872 ['logofpd', 'gif', 'button', 'gif', 'pearls', 'about', 'ten', 'years', 'ago', 'a']\n",
      "3\n",
      "GX002-01-16503738 ['spam', 'information', 'coalition', 'against', 'unsolicited', 'commercial', 'email', 'cauce', 'monty', 'python']\n",
      "4\n",
      "GX001-23-13679550 ['invasive', 'species', 'logo', 'control', 'of', 'invasive', 'species', 'management', 'plans', 'by']\n",
      "5\n",
      "GX000-98-16312886 ['who', 'we', 'are', 'whoweare', 'gif', 'apply', 'gif', 'iowa', 'writer', 's']\n",
      "6\n",
      "GX001-35-0432171 ['coastal', 'mdstrip', 'gif', 'a', 'building', 'stone', 'is', 'defined', 'as', 'any']\n",
      "7\n",
      "GX000-16-4063715 ['federal', 'citizen', 'information', 'center', 's', 'main', 'page', 'site', 'search', 'go']\n",
      "8\n",
      "GX000-90-7867636 ['usgs', 'water', 'basics', 'glossary', 'title', 'a', 'b', 'c', 'd', 'e']\n",
      "9\n",
      "GX001-08-7866949 ['hhs', 'logo', 'bird', 'faces', 'u', 's', 'department', 'of', 'health', 'and']\n"
     ]
    }
   ],
   "source": [
    "for j in range(1,10):\n",
    "    print(j)\n",
    "    print(indexToDoc[j],end=' ')\n",
    "    print(finalDocs[j][:10])"
   ]
  },
  {
   "cell_type": "code",
   "execution_count": 15,
   "metadata": {},
   "outputs": [],
   "source": [
    "ii = invertedIndex(finalDocs)\n",
    "# ii.termList"
   ]
  },
  {
   "cell_type": "code",
   "execution_count": 20,
   "metadata": {},
   "outputs": [],
   "source": [
    "ii.freqTable = sorted(ii.freqTable.items(), key = \n",
    "             lambda kv:(kv[1], kv[0]),reverse = True) "
   ]
  },
  {
   "cell_type": "code",
   "execution_count": 21,
   "metadata": {
    "scrolled": false
   },
   "outputs": [
    {
     "name": "stdout",
     "output_type": "stream",
     "text": [
      "The size of the vocabulary:\n"
     ]
    },
    {
     "data": {
      "text/plain": [
       "86403"
      ]
     },
     "execution_count": 21,
     "metadata": {},
     "output_type": "execute_result"
    }
   ],
   "source": [
    "print(\"The size of the vocabulary:\")\n",
    "len(ii.freqTable)"
   ]
  },
  {
   "cell_type": "code",
   "execution_count": 22,
   "metadata": {},
   "outputs": [],
   "source": [
    "q = open(r\"C:\\Users\\babbe\\Downloads\\query.txt\", \"r\")\n",
    "text = q.read().split(\"\\n\")\n",
    "q.close()\n",
    "op = open(r\"C:\\Users\\babbe\\Downloads\\output.txt\", \"r\")\n",
    "j = op.readlines()\n",
    "from collections import defaultdict\n",
    "k_dict = defaultdict(list)\n",
    "for i in j:\n",
    "    k_dict[int(i[:3])].append(i)\n",
    "op.close()"
   ]
  },
  {
   "cell_type": "code",
   "execution_count": 23,
   "metadata": {},
   "outputs": [],
   "source": [
    "queries = []\n",
    "for i in range(22):\n",
    "    query = text[i*3:(i+1)*3]\n",
    "    select = np.random.choice(query, 2, replace=False)\n",
    "    queries.append(select)"
   ]
  },
  {
   "cell_type": "code",
   "execution_count": 24,
   "metadata": {},
   "outputs": [],
   "source": [
    "queries = np.random.choice(text, 10, replace=False)"
   ]
  },
  {
   "cell_type": "code",
   "execution_count": 25,
   "metadata": {},
   "outputs": [
    {
     "data": {
      "text/plain": [
       "array(['834  global positioning system gps research monitoring earthquakes',\n",
       "       '850  frequently mississippi river flood banks',\n",
       "       '750  senator john edwards positions womens issues pay equity abortion title ix violence women',\n",
       "       '714  restrictions placed older persons renewing drivers licenses',\n",
       "       '709  limits regulations concerning jockey weight horse racing'],\n",
       "      dtype='<U141')"
      ]
     },
     "execution_count": 25,
     "metadata": {},
     "output_type": "execute_result"
    }
   ],
   "source": [
    "queries[:5]"
   ]
  },
  {
   "cell_type": "code",
   "execution_count": 26,
   "metadata": {},
   "outputs": [],
   "source": [
    "def or_query(termList, query):\n",
    "    ored = []\n",
    "    for st in query.split():\n",
    "        if st in termList.keys():\n",
    "            jj = termList[st]\n",
    "            ored.extend(jj)\n",
    "        else:\n",
    "            pass\n",
    "    return set(ored)"
   ]
  },
  {
   "cell_type": "code",
   "execution_count": 27,
   "metadata": {},
   "outputs": [],
   "source": [
    "mj = or_query(ii.termList, query[0][3:])\n",
    "# list(mj)"
   ]
  },
  {
   "cell_type": "code",
   "execution_count": 28,
   "metadata": {},
   "outputs": [],
   "source": [
    "def kthPrecisionRecall(k, termList, t_m, k_dict,finalDocs):\n",
    "    \n",
    "    average_pres = 0.0\n",
    "    average_recall = 0.0\n",
    "    for query in t_m:\n",
    "        #print(query)\n",
    "        mj = or_query(termList, query[3:])\n",
    "        #print(mj)\n",
    "        try:\n",
    "            outp_num = int(query[:3])\n",
    "        except:\n",
    "            continue\n",
    "        outp_file_list = k_dict[outp_num]\n",
    "        #print(outp_file_list)\n",
    "        predicted_file_list = []\n",
    "        #print(mj)\n",
    "        try:\n",
    "            #print(finalDocs[\"715 GX001-28-5148808 \\n\"])\n",
    "            for i in mj:\n",
    "                temp = indexToDoc[i]\n",
    "                #print(temp)\n",
    "                predicted_file_list.append(temp)\n",
    "            #predicted_file_list.append(indexToDoc[i] for i in mj)\n",
    "        except ValueError:\n",
    "            print(\"OUT\")\n",
    "        #print(predicted_file_list)\n",
    "        #predicted_file_list = set(predicted_file_list)\n",
    "        actual_file_list = [i[4:].rstrip() for i in outp_file_list]\n",
    "        top_k = actual_file_list[:k]\n",
    "        rel_num = len(list(set(predicted_file_list).intersection(top_k)))\n",
    "        tr_num = len(list(set(predicted_file_list).intersection(actual_file_list)))\n",
    "        if len(top_k) == 0:\n",
    "            continue\n",
    "        recall = (rel_num*1.0)/(len(top_k))\n",
    "        precision = (rel_num*1.0)/(len(predicted_file_list))\n",
    "        print(\"RECALL\")\n",
    "        print(recall)\n",
    "        print(\"PRECISION\")\n",
    "        print(precision)\n",
    "        \n",
    "        average_pres += precision\n",
    "        average_recall += recall\n",
    "        #break\n",
    "        \n",
    "        \n",
    "    average_pres /= 10\n",
    "    average_recall /= 10\n",
    "    print(\"AVERAGE RECALL\")\n",
    "    print(average_recall)\n",
    "    print(\"AVERAGE PRECISION\")\n",
    "    print(average_pres)"
   ]
  },
  {
   "cell_type": "code",
   "execution_count": 29,
   "metadata": {},
   "outputs": [
    {
     "name": "stdout",
     "output_type": "stream",
     "text": [
      "RECALL\n",
      "0.2\n",
      "PRECISION\n",
      "0.0013531799729364006\n",
      "RECALL\n",
      "0.0\n",
      "PRECISION\n",
      "0.0\n",
      "RECALL\n",
      "0.0\n",
      "PRECISION\n",
      "0.0\n",
      "RECALL\n",
      "0.0\n",
      "PRECISION\n",
      "0.0\n",
      "RECALL\n",
      "0.0\n",
      "PRECISION\n",
      "0.0\n",
      "RECALL\n",
      "0.2\n",
      "PRECISION\n",
      "0.0012376237623762376\n",
      "RECALL\n",
      "0.4\n",
      "PRECISION\n",
      "0.00392156862745098\n",
      "RECALL\n",
      "0.2\n",
      "PRECISION\n",
      "0.0016313213703099511\n",
      "RECALL\n",
      "0.0\n",
      "PRECISION\n",
      "0.0\n",
      "RECALL\n",
      "0.2\n",
      "PRECISION\n",
      "0.0017006802721088435\n",
      "AVERAGE RECALL\n",
      "0.12\n",
      "AVERAGE PRECISION\n",
      "0.0009844374005182413\n"
     ]
    }
   ],
   "source": [
    "kthPrecisionRecall(5, ii.termList, queries, k_dict,finalDocs)"
   ]
  },
  {
   "cell_type": "code",
   "execution_count": 30,
   "metadata": {},
   "outputs": [
    {
     "name": "stdout",
     "output_type": "stream",
     "text": [
      "RECALL\n",
      "0.1\n",
      "PRECISION\n",
      "0.0013531799729364006\n",
      "RECALL\n",
      "0.0\n",
      "PRECISION\n",
      "0.0\n",
      "RECALL\n",
      "0.1\n",
      "PRECISION\n",
      "0.0013386880856760374\n",
      "RECALL\n",
      "0.1\n",
      "PRECISION\n",
      "0.0018832391713747645\n",
      "RECALL\n",
      "0.1\n",
      "PRECISION\n",
      "0.0019083969465648854\n",
      "RECALL\n",
      "0.2\n",
      "PRECISION\n",
      "0.0024752475247524753\n",
      "RECALL\n",
      "0.3\n",
      "PRECISION\n",
      "0.0058823529411764705\n",
      "RECALL\n",
      "0.1\n",
      "PRECISION\n",
      "0.0016313213703099511\n",
      "RECALL\n",
      "0.1\n",
      "PRECISION\n",
      "0.0016806722689075631\n",
      "RECALL\n",
      "0.1\n",
      "PRECISION\n",
      "0.0017006802721088435\n",
      "AVERAGE RECALL\n",
      "0.12000000000000004\n",
      "AVERAGE PRECISION\n",
      "0.0019853778553807393\n"
     ]
    }
   ],
   "source": [
    "kthPrecisionRecall(10, ii.termList, queries, k_dict,finalDocs)"
   ]
  },
  {
   "cell_type": "code",
   "execution_count": 31,
   "metadata": {},
   "outputs": [
    {
     "name": "stdout",
     "output_type": "stream",
     "text": [
      "RECALL\n",
      "0.06666666666666667\n",
      "PRECISION\n",
      "0.0013531799729364006\n",
      "RECALL\n",
      "0.06666666666666667\n",
      "PRECISION\n",
      "0.0023584905660377358\n",
      "RECALL\n",
      "0.13333333333333333\n",
      "PRECISION\n",
      "0.002677376171352075\n",
      "RECALL\n",
      "0.06666666666666667\n",
      "PRECISION\n",
      "0.0018832391713747645\n",
      "RECALL\n",
      "0.06666666666666667\n",
      "PRECISION\n",
      "0.0019083969465648854\n",
      "RECALL\n",
      "0.26666666666666666\n",
      "PRECISION\n",
      "0.0049504950495049506\n",
      "RECALL\n",
      "0.26666666666666666\n",
      "PRECISION\n",
      "0.00784313725490196\n",
      "RECALL\n",
      "0.06666666666666667\n",
      "PRECISION\n",
      "0.0016313213703099511\n",
      "RECALL\n",
      "0.13333333333333333\n",
      "PRECISION\n",
      "0.0033613445378151263\n",
      "RECALL\n",
      "0.13333333333333333\n",
      "PRECISION\n",
      "0.003401360544217687\n",
      "AVERAGE RECALL\n",
      "0.12666666666666665\n",
      "AVERAGE PRECISION\n",
      "0.0031368341585015537\n"
     ]
    }
   ],
   "source": [
    "kthPrecisionRecall(15, ii.termList, queries, k_dict,finalDocs)"
   ]
  },
  {
   "cell_type": "markdown",
   "metadata": {},
   "source": [
    "   # Above are the values of precision and recall from previous code"
   ]
  },
  {
   "cell_type": "code",
   "execution_count": 32,
   "metadata": {},
   "outputs": [
    {
     "data": {
      "text/plain": [
       "array(['834  global positioning system gps research monitoring earthquakes',\n",
       "       '850  frequently mississippi river flood banks',\n",
       "       '750  senator john edwards positions womens issues pay equity abortion title ix violence women',\n",
       "       '714  restrictions placed older persons renewing drivers licenses',\n",
       "       '709  limits regulations concerning jockey weight horse racing',\n",
       "       '713  state maryland clean chesapeake bay',\n",
       "       '740  regulates assisted living facilities maryland',\n",
       "       '753  programs schools prevent bullying students',\n",
       "       '730  possible complications potential dangers gastric bypass surgery',\n",
       "       '743  regulations considerations concerning registering freighter country'],\n",
       "      dtype='<U141')"
      ]
     },
     "execution_count": 32,
     "metadata": {},
     "output_type": "execute_result"
    }
   ],
   "source": [
    "queries"
   ]
  },
  {
   "cell_type": "code",
   "execution_count": 33,
   "metadata": {},
   "outputs": [],
   "source": [
    "for i in queries:\n",
    "    corpora.append(i[3:])"
   ]
  },
  {
   "cell_type": "code",
   "execution_count": 34,
   "metadata": {},
   "outputs": [
    {
     "name": "stdout",
     "output_type": "stream",
     "text": [
      "1056\n"
     ]
    }
   ],
   "source": [
    "\n",
    "from nltk.tokenize import RegexpTokenizer\n",
    "finalDocs[1]\n",
    "print(len(indexToDoc))\n",
    "tokenizer = RegexpTokenizer(\"[a-zA-Z@]+\")"
   ]
  },
  {
   "cell_type": "code",
   "execution_count": 35,
   "metadata": {},
   "outputs": [],
   "source": [
    "from sklearn.feature_extraction.text import CountVectorizer\n",
    "from nltk.tokenize import sent_tokenize , word_tokenize "
   ]
  },
  {
   "cell_type": "code",
   "execution_count": 36,
   "metadata": {},
   "outputs": [
    {
     "data": {
      "text/plain": [
       "['skip',\n",
       " 'links',\n",
       " 'u',\n",
       " 's',\n",
       " 'department',\n",
       " 'of',\n",
       " 'state',\n",
       " 'home',\n",
       " 'contact',\n",
       " 'us',\n",
       " 'email',\n",
       " 'this',\n",
       " 'page',\n",
       " 'foia',\n",
       " 'privacy',\n",
       " 'notice',\n",
       " 'archive',\n",
       " 'search',\n",
       " 'go',\n",
       " 'u',\n",
       " 's',\n",
       " 'department',\n",
       " 'of',\n",
       " 'state',\n",
       " 'i',\n",
       " 'spcr',\n",
       " 'gif',\n",
       " 'about',\n",
       " 'the',\n",
       " 'state',\n",
       " 'dept',\n",
       " 'press',\n",
       " 'and',\n",
       " 'public',\n",
       " 'affairs',\n",
       " 'travel',\n",
       " 'and',\n",
       " 'living',\n",
       " 'abroad',\n",
       " 'countries',\n",
       " 'and',\n",
       " 'regions',\n",
       " 'international',\n",
       " 'issues',\n",
       " 'history',\n",
       " 'education',\n",
       " 'and',\n",
       " 'culture',\n",
       " 'business',\n",
       " 'center',\n",
       " 'other',\n",
       " 'services',\n",
       " 'employment',\n",
       " 'print',\n",
       " 'friendly',\n",
       " 'version',\n",
       " 'bureau',\n",
       " 'of',\n",
       " 'european',\n",
       " 'and',\n",
       " 'eurasian',\n",
       " 'affairs',\n",
       " 'november',\n",
       " 'people',\n",
       " 'history',\n",
       " 'government',\n",
       " 'political',\n",
       " 'conditions',\n",
       " 'economy',\n",
       " 'foreign',\n",
       " 'relations',\n",
       " 'u',\n",
       " 's',\n",
       " 'relations',\n",
       " 'travel',\n",
       " 'business',\n",
       " 'background',\n",
       " 'notes',\n",
       " 'a',\n",
       " 'z',\n",
       " 'background',\n",
       " 'note',\n",
       " 'ireland',\n",
       " 'profile',\n",
       " 'official',\n",
       " 'name',\n",
       " 'republic',\n",
       " 'of',\n",
       " 'ireland',\n",
       " 'government',\n",
       " 'area',\n",
       " 'sq',\n",
       " 'km',\n",
       " 'sq',\n",
       " 'mi',\n",
       " 'slightly',\n",
       " 'larger',\n",
       " 'than',\n",
       " 'west',\n",
       " 'virginia',\n",
       " 'cities',\n",
       " 'capital',\n",
       " 'county',\n",
       " 'dublin',\n",
       " 'pop',\n",
       " 'of',\n",
       " 'which',\n",
       " 'city',\n",
       " 'of',\n",
       " 'dublin',\n",
       " 'pop',\n",
       " 'other',\n",
       " 'cities',\n",
       " 'cork',\n",
       " 'galway',\n",
       " 'limerick',\n",
       " 'waterford',\n",
       " 'terrain',\n",
       " 'arable',\n",
       " 'meadows',\n",
       " 'and',\n",
       " 'pastures',\n",
       " 'rough',\n",
       " 'grazing',\n",
       " 'in',\n",
       " 'use',\n",
       " 'inland',\n",
       " 'water',\n",
       " 'climate',\n",
       " 'temperate',\n",
       " 'maritime',\n",
       " 'people',\n",
       " 'nationality',\n",
       " 'noun',\n",
       " 'irishman',\n",
       " 'irishwoman',\n",
       " 'adjective',\n",
       " 'irish',\n",
       " 'population',\n",
       " 'population',\n",
       " 'growth',\n",
       " 'rate',\n",
       " 'ethnic',\n",
       " 'groups',\n",
       " 'irish',\n",
       " 'with',\n",
       " 'english',\n",
       " 'minority',\n",
       " 'religions',\n",
       " 'roman',\n",
       " 'catholic',\n",
       " 'church',\n",
       " 'of',\n",
       " 'ireland',\n",
       " 'other',\n",
       " 'languages',\n",
       " 'english',\n",
       " 'irish',\n",
       " 'gaelic',\n",
       " 'education',\n",
       " 'compulsory',\n",
       " 'up',\n",
       " 'to',\n",
       " 'age',\n",
       " 'enrollment',\n",
       " 'rates',\n",
       " 'year',\n",
       " 'olds',\n",
       " 'year',\n",
       " 'olds',\n",
       " 'year',\n",
       " 'olds',\n",
       " 'literacy',\n",
       " 'health',\n",
       " 'infant',\n",
       " 'mortality',\n",
       " 'rate',\n",
       " 'life',\n",
       " 'expectancy',\n",
       " 'at',\n",
       " 'birth',\n",
       " 'male',\n",
       " 'yrs',\n",
       " 'female',\n",
       " 'yrs',\n",
       " 'work',\n",
       " 'force',\n",
       " 'services',\n",
       " 'industry',\n",
       " 'agriculture',\n",
       " 'government',\n",
       " 'government',\n",
       " 'type',\n",
       " 'parliamentary',\n",
       " 'republic',\n",
       " 'independence',\n",
       " 'december',\n",
       " 'constitution',\n",
       " 'december',\n",
       " 'branches',\n",
       " 'executive',\n",
       " 'president',\n",
       " 'chief',\n",
       " 'of',\n",
       " 'state',\n",
       " 'prime',\n",
       " 'minister',\n",
       " 'taoiseach',\n",
       " 'pronounced',\n",
       " 'tee',\n",
       " 'shock',\n",
       " 'head',\n",
       " 'of',\n",
       " 'government',\n",
       " 'legislative',\n",
       " 'bicameral',\n",
       " 'national',\n",
       " 'parliament',\n",
       " 'oireachtas',\n",
       " 'pronounced',\n",
       " 'o',\n",
       " 'rock',\n",
       " 'tas',\n",
       " 'house',\n",
       " 'of',\n",
       " 'representatives',\n",
       " 'dail',\n",
       " 'pronounced',\n",
       " 'doil',\n",
       " 'and',\n",
       " 'senate',\n",
       " 'seanad',\n",
       " 'pronounced',\n",
       " 'shan',\n",
       " 'ad',\n",
       " 'judicial',\n",
       " 'supreme',\n",
       " 'court',\n",
       " 'administrative',\n",
       " 'subdivisions',\n",
       " 'counties',\n",
       " 'local',\n",
       " 'authorities',\n",
       " 'major',\n",
       " 'political',\n",
       " 'parties',\n",
       " 'fianna',\n",
       " 'fail',\n",
       " 'fine',\n",
       " 'gael',\n",
       " 'labor',\n",
       " 'progressive',\n",
       " 'democrats',\n",
       " 'green',\n",
       " 'party',\n",
       " 'sinn',\n",
       " 'fein',\n",
       " 'suffrage',\n",
       " 'universal',\n",
       " 'over',\n",
       " 'flag',\n",
       " 'flag',\n",
       " 'of',\n",
       " 'ireland',\n",
       " 'economy',\n",
       " 'gdp',\n",
       " 'at',\n",
       " 'market',\n",
       " 'prices',\n",
       " 'billion',\n",
       " 'annual',\n",
       " 'growth',\n",
       " 'rate',\n",
       " 'est',\n",
       " 'per',\n",
       " 'capita',\n",
       " 'income',\n",
       " 'est',\n",
       " 'natural',\n",
       " 'resources',\n",
       " 'zinc',\n",
       " 'lead',\n",
       " 'natural',\n",
       " 'gas',\n",
       " 'barite',\n",
       " 'copper',\n",
       " 'gypsum',\n",
       " 'limestone',\n",
       " 'dolomite',\n",
       " 'peat',\n",
       " 'agriculture',\n",
       " 'of',\n",
       " 'gdp',\n",
       " 'products',\n",
       " 'cattle',\n",
       " 'meat',\n",
       " 'and',\n",
       " 'dairy',\n",
       " 'products',\n",
       " 'potatoes',\n",
       " 'barley',\n",
       " 'sugarbeets',\n",
       " 'hay',\n",
       " 'silage',\n",
       " 'wheat',\n",
       " 'industry',\n",
       " 'of',\n",
       " 'gdp',\n",
       " 'types',\n",
       " 'food',\n",
       " 'processing',\n",
       " 'beverages',\n",
       " 'engineering',\n",
       " 'computer',\n",
       " 'equipment',\n",
       " 'textiles',\n",
       " 'and',\n",
       " 'clothing',\n",
       " 'chemicals',\n",
       " 'pharmaceuticals',\n",
       " 'construction',\n",
       " 'trade',\n",
       " 'exports',\n",
       " 'billion',\n",
       " 'excluding',\n",
       " 'services',\n",
       " 'computer',\n",
       " 'equipment',\n",
       " 'chemicals',\n",
       " 'meat',\n",
       " 'dairy',\n",
       " 'products',\n",
       " 'machinery',\n",
       " 'imports',\n",
       " 'billion',\n",
       " 'excluding',\n",
       " 'services',\n",
       " 'grains',\n",
       " 'petroleum',\n",
       " 'products',\n",
       " 'machinery',\n",
       " 'transport',\n",
       " 'equipment',\n",
       " 'chemicals',\n",
       " 'textile',\n",
       " 'yarns',\n",
       " 'major',\n",
       " 'suppliers',\n",
       " 'eu',\n",
       " 'u',\n",
       " 'k',\n",
       " 'germany',\n",
       " 'france',\n",
       " 'u',\n",
       " 's',\n",
       " 'japan',\n",
       " 'china',\n",
       " 'people',\n",
       " 'and',\n",
       " 'history',\n",
       " 'the',\n",
       " 'irish',\n",
       " 'people',\n",
       " 'are',\n",
       " 'mainly',\n",
       " 'of',\n",
       " 'celtic',\n",
       " 'origin',\n",
       " 'with',\n",
       " 'the',\n",
       " 'country',\n",
       " 's',\n",
       " 'only',\n",
       " 'significant',\n",
       " 'sized',\n",
       " 'minority',\n",
       " 'having',\n",
       " 'descended',\n",
       " 'from',\n",
       " 'the',\n",
       " 'anglo',\n",
       " 'normans',\n",
       " 'english',\n",
       " 'is',\n",
       " 'the',\n",
       " 'common',\n",
       " 'language',\n",
       " 'but',\n",
       " 'irish',\n",
       " 'gaelic',\n",
       " 'also',\n",
       " 'is',\n",
       " 'an',\n",
       " 'official',\n",
       " 'language',\n",
       " 'and',\n",
       " 'is',\n",
       " 'taught',\n",
       " 'in',\n",
       " 'the',\n",
       " 'schools',\n",
       " 'anglo',\n",
       " 'irish',\n",
       " 'writers',\n",
       " 'including',\n",
       " 'swift',\n",
       " 'sheridan',\n",
       " 'goldsmith',\n",
       " 'burke',\n",
       " 'wilde',\n",
       " 'joyce',\n",
       " 'yeats',\n",
       " 'shaw',\n",
       " 'and',\n",
       " 'beckett',\n",
       " 'have',\n",
       " 'made',\n",
       " 'a',\n",
       " 'major',\n",
       " 'contribution',\n",
       " 'to',\n",
       " 'world',\n",
       " 'literature',\n",
       " 'over',\n",
       " 'the',\n",
       " 'past',\n",
       " 'years',\n",
       " 'the',\n",
       " 'earliest',\n",
       " 'inhabitants',\n",
       " 'people',\n",
       " 'of',\n",
       " 'a',\n",
       " 'mid',\n",
       " 'stone',\n",
       " 'age',\n",
       " 'culture',\n",
       " 'arrived',\n",
       " 'about',\n",
       " 'bc',\n",
       " 'about',\n",
       " 'years',\n",
       " 'later',\n",
       " 'tribes',\n",
       " 'from',\n",
       " 'southern',\n",
       " 'europe',\n",
       " 'arrived',\n",
       " 'and',\n",
       " 'established',\n",
       " 'a',\n",
       " 'high',\n",
       " 'neolithic',\n",
       " 'culture',\n",
       " 'leaving',\n",
       " 'behind',\n",
       " 'gold',\n",
       " 'ornaments',\n",
       " 'and',\n",
       " 'huge',\n",
       " 'stone',\n",
       " 'monuments',\n",
       " 'the',\n",
       " 'bronze',\n",
       " 'age',\n",
       " 'people',\n",
       " 'who',\n",
       " 'arrived',\n",
       " 'during',\n",
       " 'the',\n",
       " 'next',\n",
       " 'years',\n",
       " 'produced',\n",
       " 'elaborate',\n",
       " 'gold',\n",
       " 'and',\n",
       " 'bronze',\n",
       " 'ornaments',\n",
       " 'and',\n",
       " 'weapons',\n",
       " 'the',\n",
       " 'iron',\n",
       " 'age',\n",
       " 'arrived',\n",
       " 'abruptly',\n",
       " 'in',\n",
       " 'the',\n",
       " 'fourth',\n",
       " 'century',\n",
       " 'bc',\n",
       " 'with',\n",
       " 'the',\n",
       " 'invasion',\n",
       " 'of',\n",
       " 'the',\n",
       " 'celts',\n",
       " 'a',\n",
       " 'tall',\n",
       " 'energetic',\n",
       " 'people',\n",
       " 'who',\n",
       " 'had',\n",
       " 'spread',\n",
       " 'across',\n",
       " 'europe',\n",
       " 'and',\n",
       " 'great',\n",
       " 'britain',\n",
       " 'in',\n",
       " 'the',\n",
       " 'preceding',\n",
       " 'centuries',\n",
       " 'the',\n",
       " 'celts',\n",
       " 'or',\n",
       " 'gaels',\n",
       " 'and',\n",
       " 'their',\n",
       " 'more',\n",
       " 'numerous',\n",
       " 'predecessors',\n",
       " 'divided',\n",
       " 'into',\n",
       " 'five',\n",
       " 'kingdoms',\n",
       " 'in',\n",
       " 'which',\n",
       " 'despite',\n",
       " 'constant',\n",
       " 'strife',\n",
       " 'a',\n",
       " 'rich',\n",
       " 'culture',\n",
       " 'flourished',\n",
       " 'the',\n",
       " 'coming',\n",
       " 'of',\n",
       " 'christianity',\n",
       " 'from',\n",
       " 'across',\n",
       " 'the',\n",
       " 'irish',\n",
       " 'sea',\n",
       " 'brought',\n",
       " 'major',\n",
       " 'changes',\n",
       " 'and',\n",
       " 'civilizing',\n",
       " 'influences',\n",
       " 'tradition',\n",
       " 'maintains',\n",
       " 'that',\n",
       " 'in',\n",
       " 'ad',\n",
       " 'st',\n",
       " 'patrick',\n",
       " 'arrived',\n",
       " 'on',\n",
       " 'the',\n",
       " 'island',\n",
       " 'and',\n",
       " 'in',\n",
       " 'the',\n",
       " 'years',\n",
       " 'that',\n",
       " 'followed',\n",
       " 'worked',\n",
       " 'to',\n",
       " 'convert',\n",
       " 'the',\n",
       " 'irish',\n",
       " 'to',\n",
       " 'christianity',\n",
       " 'the',\n",
       " 'pagan',\n",
       " 'druid',\n",
       " 'tradition',\n",
       " 'collapsed',\n",
       " 'in',\n",
       " 'the',\n",
       " 'spread',\n",
       " 'of',\n",
       " 'the',\n",
       " 'new',\n",
       " 'faith',\n",
       " 'and',\n",
       " 'irish',\n",
       " 'scholars',\n",
       " 'excelled',\n",
       " 'in',\n",
       " 'the',\n",
       " 'study',\n",
       " 'of',\n",
       " 'latin',\n",
       " 'learning',\n",
       " 'and',\n",
       " 'christian',\n",
       " 'theology',\n",
       " 'in',\n",
       " 'the',\n",
       " 'monasteries',\n",
       " 'that',\n",
       " 'flourished',\n",
       " 'missionaries',\n",
       " 'from',\n",
       " 'ireland',\n",
       " 'to',\n",
       " 'england',\n",
       " 'and',\n",
       " 'the',\n",
       " 'continent',\n",
       " 'spread',\n",
       " 'news',\n",
       " 'of',\n",
       " 'the',\n",
       " 'flowering',\n",
       " 'of',\n",
       " 'learning',\n",
       " 'and',\n",
       " 'scholars',\n",
       " 'from',\n",
       " 'other',\n",
       " 'nations',\n",
       " 'came',\n",
       " 'to',\n",
       " 'irish',\n",
       " 'monasteries',\n",
       " 'the',\n",
       " 'excellence',\n",
       " 'and',\n",
       " 'isolation',\n",
       " 'of',\n",
       " 'these',\n",
       " 'monasteries',\n",
       " 'helped',\n",
       " 'preserve',\n",
       " 'latin',\n",
       " 'learning',\n",
       " 'during',\n",
       " 'the',\n",
       " 'dark',\n",
       " 'ages',\n",
       " 'the',\n",
       " 'arts',\n",
       " 'of',\n",
       " 'manuscript',\n",
       " 'illumination',\n",
       " 'metalworking',\n",
       " 'and',\n",
       " 'sculpture',\n",
       " 'flourished',\n",
       " 'and',\n",
       " 'produced',\n",
       " 'such',\n",
       " 'treasures',\n",
       " 'as',\n",
       " 'the',\n",
       " 'book',\n",
       " 'of',\n",
       " 'kells',\n",
       " 'ornate',\n",
       " 'jewelry',\n",
       " 'and',\n",
       " 'the',\n",
       " 'many',\n",
       " 'carved',\n",
       " 'stone',\n",
       " 'crosses',\n",
       " 'that',\n",
       " 'dot',\n",
       " 'the',\n",
       " 'island',\n",
       " 'two',\n",
       " 'hundred',\n",
       " 'years',\n",
       " 'of',\n",
       " 'viking',\n",
       " 'invasion',\n",
       " 'and',\n",
       " 'settlement',\n",
       " 'was',\n",
       " 'later',\n",
       " 'followed',\n",
       " 'by',\n",
       " 'a',\n",
       " 'norman',\n",
       " 'conquest',\n",
       " 'in',\n",
       " 'the',\n",
       " 'twelfth',\n",
       " 'century',\n",
       " 'the',\n",
       " 'norman',\n",
       " 'conquest',\n",
       " 'resulted',\n",
       " 'in',\n",
       " 'the',\n",
       " 'assimilation',\n",
       " 'of',\n",
       " 'the',\n",
       " 'norman',\n",
       " 'settlers',\n",
       " 'into',\n",
       " 'irish',\n",
       " 'society',\n",
       " 'the',\n",
       " 'early',\n",
       " 'th',\n",
       " 'century',\n",
       " 'saw',\n",
       " 'the',\n",
       " 'arrival',\n",
       " 'of',\n",
       " 'scottish',\n",
       " 'and',\n",
       " 'english',\n",
       " 'protestants',\n",
       " 'sent',\n",
       " 'as',\n",
       " 'colonists',\n",
       " 'to',\n",
       " 'the',\n",
       " 'north',\n",
       " 'of',\n",
       " 'ireland',\n",
       " 'and',\n",
       " 'the',\n",
       " 'pale',\n",
       " 'around',\n",
       " 'dublin',\n",
       " 'from',\n",
       " 'to',\n",
       " 'ireland',\n",
       " 'was',\n",
       " 'an',\n",
       " 'integral',\n",
       " 'part',\n",
       " 'of',\n",
       " 'the',\n",
       " 'united',\n",
       " 'kingdom',\n",
       " 'religious',\n",
       " 'freedom',\n",
       " 'was',\n",
       " 'restored',\n",
       " 'in',\n",
       " 'but',\n",
       " 'this',\n",
       " 'victory',\n",
       " 'for',\n",
       " 'the',\n",
       " 'irish',\n",
       " 'catholic',\n",
       " 'majority',\n",
       " 'was',\n",
       " 'overshadowed',\n",
       " 'by',\n",
       " 'severe',\n",
       " 'economic',\n",
       " 'depression',\n",
       " 'and',\n",
       " 'mass',\n",
       " 'famine',\n",
       " 'from',\n",
       " 'when',\n",
       " 'the',\n",
       " 'potato',\n",
       " 'crop',\n",
       " 'failed',\n",
       " 'the',\n",
       " 'famine',\n",
       " 'spawned',\n",
       " 'the',\n",
       " 'first',\n",
       " 'mass',\n",
       " 'wave',\n",
       " 'of',\n",
       " 'irish',\n",
       " 'emigration',\n",
       " 'to',\n",
       " 'the',\n",
       " 'united',\n",
       " 'states',\n",
       " 'a',\n",
       " 'decade',\n",
       " 'later',\n",
       " 'in',\n",
       " 'the',\n",
       " 'irish',\n",
       " 'republican',\n",
       " 'brotherhood',\n",
       " 'irb',\n",
       " 'also',\n",
       " 'known',\n",
       " 'as',\n",
       " 'the',\n",
       " 'fenians',\n",
       " 'was',\n",
       " 'founded',\n",
       " 'as',\n",
       " 'a',\n",
       " 'secret',\n",
       " 'society',\n",
       " 'dedicated',\n",
       " 'to',\n",
       " 'armed',\n",
       " 'rebellion',\n",
       " 'against',\n",
       " 'the',\n",
       " 'british',\n",
       " 'an',\n",
       " 'above',\n",
       " 'ground',\n",
       " 'political',\n",
       " 'counterpart',\n",
       " 'the',\n",
       " 'home',\n",
       " 'rule',\n",
       " 'movement',\n",
       " 'was',\n",
       " 'created',\n",
       " 'in',\n",
       " 'advocating',\n",
       " 'constitutional',\n",
       " 'change',\n",
       " 'for',\n",
       " 'independence',\n",
       " 'galvanized',\n",
       " 'by',\n",
       " 'the',\n",
       " 'leadership',\n",
       " 'of',\n",
       " 'charles',\n",
       " 'stewart',\n",
       " 'parnell',\n",
       " 'the',\n",
       " 'party',\n",
       " 'was',\n",
       " 'able',\n",
       " 'to',\n",
       " 'force',\n",
       " 'british',\n",
       " 'governments',\n",
       " 'after',\n",
       " 'to',\n",
       " 'introduce',\n",
       " 'several',\n",
       " 'home',\n",
       " 'rule',\n",
       " 'bills',\n",
       " 'the',\n",
       " 'turn',\n",
       " 'of',\n",
       " 'the',\n",
       " 'century',\n",
       " 'witnessed',\n",
       " 'a',\n",
       " 'surge',\n",
       " 'of',\n",
       " 'interest',\n",
       " 'in',\n",
       " 'irish',\n",
       " 'nationalism',\n",
       " 'including',\n",
       " 'the',\n",
       " 'founding',\n",
       " 'of',\n",
       " 'sinn',\n",
       " 'fein',\n",
       " 'ourselves',\n",
       " 'alone',\n",
       " 'as',\n",
       " 'an',\n",
       " 'open',\n",
       " 'political',\n",
       " 'movement',\n",
       " 'nationalism',\n",
       " 'was',\n",
       " 'and',\n",
       " 'is',\n",
       " 'a',\n",
       " 'potent',\n",
       " 'populist',\n",
       " 'force',\n",
       " 'in',\n",
       " 'irish',\n",
       " 'politics',\n",
       " 'while',\n",
       " 'home',\n",
       " 'rule',\n",
       " 'was',\n",
       " 'granted',\n",
       " 'in',\n",
       " 'its',\n",
       " 'enactment',\n",
       " 'was',\n",
       " 'to',\n",
       " 'be',\n",
       " 'suspended',\n",
       " 'until',\n",
       " 'war',\n",
       " 'in',\n",
       " 'europe',\n",
       " 'ended',\n",
       " 'believing',\n",
       " 'the',\n",
       " 'mantra',\n",
       " 'england',\n",
       " 's',\n",
       " 'problem',\n",
       " 'is',\n",
       " 'ireland',\n",
       " 'opportunity',\n",
       " 'and',\n",
       " 'tapping',\n",
       " 'into',\n",
       " 'a',\n",
       " 'mood',\n",
       " 'of',\n",
       " 'gaelic',\n",
       " 'revivalism',\n",
       " 'padraic',\n",
       " 'pearse',\n",
       " 'and',\n",
       " 'james',\n",
       " 'connolly',\n",
       " 'led',\n",
       " 'the',\n",
       " 'unsuccessful',\n",
       " 'easter',\n",
       " 'rising',\n",
       " 'of',\n",
       " 'pearse',\n",
       " 'and',\n",
       " 'the',\n",
       " 'leaders',\n",
       " 'declared',\n",
       " 'an',\n",
       " 'independent',\n",
       " 'irish',\n",
       " 'republic',\n",
       " 'only',\n",
       " 'to',\n",
       " 'be',\n",
       " 'driven',\n",
       " 'out',\n",
       " 'of',\n",
       " 'their',\n",
       " 'headquarters',\n",
       " 'in',\n",
       " 'the',\n",
       " 'general',\n",
       " 'post',\n",
       " 'office',\n",
       " 'and',\n",
       " 'formally',\n",
       " 'surrendering',\n",
       " 'less',\n",
       " 'than',\n",
       " 'a',\n",
       " 'week',\n",
       " 'later',\n",
       " 'the',\n",
       " 'decision',\n",
       " 'by',\n",
       " 'the',\n",
       " 'british',\n",
       " 'imposed',\n",
       " 'court',\n",
       " 'structure',\n",
       " 'to',\n",
       " 'execute',\n",
       " 'the',\n",
       " 'leaders',\n",
       " 'of',\n",
       " 'the',\n",
       " 'rebellion',\n",
       " 'coupled',\n",
       " 'with',\n",
       " 'the',\n",
       " 'british',\n",
       " 'government',\n",
       " 's',\n",
       " 'threat',\n",
       " 'of',\n",
       " 'conscription',\n",
       " 'alienated',\n",
       " 'public',\n",
       " 'opinion',\n",
       " 'and',\n",
       " 'produced',\n",
       " 'massive',\n",
       " 'support',\n",
       " 'for',\n",
       " 'sinn',\n",
       " 'fein',\n",
       " 'in',\n",
       " 'the',\n",
       " 'general',\n",
       " 'election',\n",
       " ...]"
      ]
     },
     "execution_count": 36,
     "metadata": {},
     "output_type": "execute_result"
    }
   ],
   "source": [
    "def myTokenizer(sentence):\n",
    "    words = tokenizer.tokenize(sentence.lower())\n",
    "    return words\n",
    "myTokenizer(corpora[0])"
   ]
  },
  {
   "cell_type": "code",
   "execution_count": 37,
   "metadata": {},
   "outputs": [
    {
     "data": {
      "text/plain": [
       "'Skip Links U.S. Department of State\\nHome Contact Us Email this Page FOIA Privacy Notice Archive\\nSearch __________ Go\\nU.S. Department of State [i_spcr08.gif] About the State Dept.\\nPress and Public Affairs Travel and Living Abroad Countries and Regions International Issues History, Education and Culture Business Center Other Services Employment\\n[Print Friendly Version]\\nBureau of European and Eurasian Affairs November 2003\\nPeople History Government Political Conditions Economy Foreign Relations U.S. Relations Travel/Business Background Notes A-Z Background Note: Ireland\\nPROFILE\\nOFFICIAL NAME: Republic of Ireland\\nGovernment Area: 70,282 sq. km. (27,136 sq. mi.); slightly larger than West Virginia.\\nCities: Capital--County Dublin (pop.\\n1,122,821) of which City of Dublin (pop.495,101).\\nOther cities--Cork (123,338), Galway (65,774), Limerick (54,058), Waterford, (44,564).\\nTerrain: Arable 10%, meadows and pastures 77%, rough grazing in use 11%, inland water 2%.\\nClimate: Temperate maritime.\\nPeople Nationality: Noun--Irishman, Irishwoman.\\nAdjective--Irish.\\nPopulation: 3,917,203.\\nPopulation growth rate: .93%.\\nEthnic groups: Irish, with English minority.\\nReligions: Roman Catholic 88.4%; Church of Ireland 3.0%; other 8.7%.\\nLanguages: English, Irish (Gaelic).\\nEducation: Compulsory up to age 16.\\nEnrollment rates--5-14 year olds--100%; 15 year olds, 97%; 16 year olds, 91%.\\nLiteracy--98%-99%.\\nHealth: Infant mortality rate--5.3/1,000.\\nLife expectancy at birth--male 73.0 yrs., female 77.5 yrs.\\nWork force: Services--56%; industry--29%; agriculture--10%; government--5%.\\nGovernment Type: Parliamentary republic.\\nIndependence: December 6, 1921.\\nConstitution: December 29, 1937.\\nBranches: Executive--president, chief of state; prime minister (Taoiseach--pronounced \"TEE-shock\"), head of government.\\nLegislative--bicameral National Parliament (Oireachtas--pronounced \"o-ROCK-tas\"): House of Representatives (Dail--pronounced \"DOIL\") and Senate (Seanad--pronounced \"SHAN-ad\").\\nJudicial--Supreme Court.\\nAdministrative subdivisions: 26 counties, 34 local authorities.\\nMajor political parties: Fianna Fail, Fine Gael, Labor, Progressive Democrats, Green Party, Sinn Fein.\\nSuffrage: Universal over 18.\\nFlag: flag of ireland\\nEconomy GDP at market prices (2003.): $148 billion.\\nAnnual growth rate (2003 est.): 1.5%.\\nPer capita income (2003 est.): $38,172.\\nNatural resources: Zinc, lead, natural gas, barite, copper, gypsum, limestone, dolomite, peat.\\nAgriculture (4% of GDP): Products--cattle, meat, and dairy products; potatoes; barley; sugarbeets; hay; silage; wheat.\\nIndustry (38% of GDP): Types--food processing, beverages, engineering, computer equipment, textiles and clothing, chemicals, pharmaceuticals, construction.\\nTrade (2002): Exports--$93.7 billion (excluding services): computer equipment, chemicals, meat, dairy products, machinery.\\nImports--$55.3 billion (excluding services): grains, petroleum products, machinery, transport equipment, chemicals, textile yarns.\\nMajor suppliers--EU 56%, U.K. 55%, Germany 13%, France 7%, U.S. 15%, Japan 5%, China 4%.\\nPEOPLE AND HISTORY The Irish people are mainly of Celtic origin, with the country\\'s only significant sized minority having descended from the Anglo-Normans.\\nEnglish is the common language, but Irish (Gaelic) also is an official language and is taught in the schools.\\nAnglo-Irish writers, including Swift, Sheridan, Goldsmith, Burke, Wilde, Joyce, Yeats, Shaw, and Beckett, have made a major contribution to world literature over the past 300 years.\\nThe earliest inhabitants--people of a mid-Stone Age culture--arrived about 6000 BC.\\nAbout 4,000 years later, tribes from southern Europe arrived and established a high Neolithic culture, leaving behind gold ornaments and huge stone monuments.\\nThe Bronze Age people, who arrived during the next 1,000 years, produced elaborate gold and bronze ornaments and weapons.\\nThe Iron Age arrived abruptly in the fourth century BC with the invasion of the Celts, a tall, energetic people who had spread across Europe and Great Britain in the preceding centuries.\\nThe Celts, or Gaels, and their more numerous predecessors divided into five kingdoms in which, despite constant strife, a rich culture flourished.\\nThe coming of Christianity from across the Irish Sea brought major changes and civilizing influences.\\nTradition maintains that in 432 AD, St. Patrick arrived on the island and, in the years that followed, worked to convert the Irish to Christianity.\\nThe pagan druid tradition collapsed in the spread of the new faith, and Irish scholars excelled in the study of Latin learning and Christian theology in the monasteries that flourished.\\nMissionaries from Ireland to England and the continent spread news of the flowering of learning, and scholars from other nations came to Irish monasteries.\\nThe excellence and isolation of these monasteries helped preserve Latin learning during the Dark Ages.\\nThe arts of manuscript illumination, metalworking, and sculpture flourished and produced such treasures as the Book of Kells, ornate jewelry, and the many carved stone crosses that dot the island.\\nTwo hundred years of Viking invasion and settlement was later followed by a Norman Conquest in the twelfth century.\\nThe Norman conquest resulted in the assimilation of the Norman settlers into Irish society.\\nThe early 17th century saw the arrival of Scottish and English Protestants, sent as colonists to the north of Ireland and the Pale around Dublin.\\nFrom 1800 to 1921, Ireland was an integral part of the United Kingdom.\\nReligious freedom was restored in 1829.\\nBut this victory for the Irish Catholic majority was overshadowed by severe economic depression and mass famine from 1846-48 when the potato crop failed.\\nThe famine spawned the first mass wave of Irish emigration to the United States.\\nA decade later, in 1858, the Irish Republican Brotherhood (IRB--also known as the Fenians) was founded as a secret society dedicated to armed rebellion against the British.\\nAn above-ground political counterpart, the Home Rule Movement, was created in 1874, advocating constitutional change for independence.\\nGalvanized by the leadership of Charles Stewart Parnell, the party was able to force British governments after 1885 to introduce several home rule bills.\\nThe turn of the century witnessed a surge of interest in Irish nationalism, including the founding of Sinn Fein (\"Ourselves Alone\") as an open political movement.\\nNationalism was and is a potent populist force in Irish politics.\\nWhile Home Rule was granted in 1914, its enactment was to be suspended until war in Europe ended.\\nBelieving the mantra: \"England\\'s problem is Ireland opportunity\" and tapping into a mood of Gaelic revivalism, Padraic Pearse and James Connolly led the unsuccessful Easter Rising of 1916.\\nPearse and the 1916 leaders declared an independent Irish republic, only to be driven out of their Headquarters in the General Post Office and formally surrendering less than a week later.\\nThe decision by the British-imposed court structure to execute the leaders of the rebellion, coupled with the British Government\\'s threat of conscription, alienated public opinion and produced massive support for Sinn Fein in the 1918 general election.\\nUnder the leadership of Eamon de Valera, the elected Sinn Fein deputies constituted themselves as the first Dail.\\nTensions only increased: British attempts to smash Sinn Fein ignited the Anglo-Irish War of 1919-21.\\nThe end of the war brought the Anglo-Irish treaty of 1921, which established the Irish Free State of 26 counties within the British Commonwealth and recognized the partition of the island into Ireland and Northern Ireland, though supposedly as a temporary measure.\\nThe six predominantly Protestant counties of northeast Ulster--Northern Ireland--remained a part of the United Kingdom with limited self-government.\\nA significant Irish minority repudiated the treaty settlement because of the continuance of subordinate ties to the British monarch and the partition of the island.\\nThis opposition led to further hostilities--a civil war (1922-23), which was won by the pro-treaty forces.\\nIn 1932, Eamon de Valera, the political leader of the forces initially opposed to the treaty, became prime minister, and a new Irish constitution was enacted in 1937.\\nThe last British military bases were soon withdrawn, and the ports were returned to Irish control.\\nIreland was neutral in World War II.\\nThe government formally declared Ireland a republic in 1948; however, it does not normally use the term \"Republic of Ireland,\" which tacitly acknowledges the partition but refers to the country simply as \"Ireland.\"\\nGOVERNMENT AND POLITICAL CONDITIONS Ireland is a sovereign, independent, democratic state with a parliamentary system of government.\\nThe president, who serves as chief of state in a largely ceremonial role, is elected for a 7-year term and can be re-elected only once.\\nIn carrying out certain constitutional powers and functions, the president is aided by the Council of State, an advisory body.\\nOn the Taoiseach\\'s (prime minister\\'s) advice, the president also dissolves the Oireachtas (Parliament).\\nThe prime minister is elected by the Dail (lower house of Parliament) as the leader of the political party, or coalition of parties, which wins the most seats in the national elections, held approximately every five years (unless called earlier).\\nExecutive power is vested in a cabinet whose ministers are nominated by the Taoiseach and approved by the Dail.\\nThe bicameral Oireachtas (Parliament) consists of the Seanad Eireann (senate) and the Dail Eireann (house of representatives).\\nThe Seanad is composed of 60 members--11 nominated by the prime minister, 6 elected by the national universities, and 43 elected from panels of candidates established on a vocational basis.\\nThe Senate has the power to delay legislative proposals and is allowed 90 days to consider and amend bills sent to it by the Dail, which wields greater power in parliament.\\nThe Dail has 166 members popularly elected to a maximum term of 5 years under a complex system of proportional representation.\\nJudges are appointed by the president on nomination by the government and can be removed from office only for misbehaviour or incapacity and then only by resolution of both houses of parliament.\\nThe ultimate court of appeal is the Supreme Court, consisting of the Chief Justice and five other justices.\\nThe Supreme Court also can decide upon the constitutionality of legislative acts if the president asks for an opinion.\\nLocal government is by elected county councils and--in the cities of Dublin, Cork, Limerick, and Waterford--by county borough corporations.\\nIn practice, however, authority remains with the central government.\\nIrish politics remain dominated by the two political parties that grew out of Ireland\\'s bitter 1922-23 civil war.\\nFianna Fail was formed by those who opposed the 1921 treaty that partitioned the island.\\nAlthough treaty opponents lost the civil war, Fianna Fail soon became Ireland\\'s largest political party.\\nFine Gael, representative of the pro-treaty forces, remains the country\\'s second-largest party.\\nThis party system, however, is evolving.\\nFine Gael\\'s core vote collapsed in the May 2002 general election, perhaps signalling an end to the civil war divide.\\nA feature of recent general elections has been the emergence of \"Independent\" TDs as a political force.\\nIn the 2002 general election, 14 \"Independent\" TDs were elected to the Dail.\\nThe May 2002 national elections returned Fianna Fail and its coalition partner, the Progressive Democrats, to power.\\nFianna Fail increased its seats in the Dail to 81 while the Progressive Democrats doubled their representation to 8 seats.\\nFine Gael lost a total of 23 seats, primarily to a number of smaller parties and independents.\\nSinn Fein increased its representation in the Dail from 1 to 5 seats in the May 17 election.\\nPrime Minister Ahern was re-elected Taoiseach on June 6, and organized the government with very few changes in the ministerial appointments; Mary Harney was reappointed as Tanaiste (Deputy Prime Minister).\\nIreland enjoyed more than 6 years of impressive economic growth from 1996-2002--the fastest growing in economy in the OECD during the period.\\nWith large budget surpluses during these boom years, it also expanded public spending, at rates approaching 20% per year in 2000-01.\\nBeginning in 2002, however, the worldwide economic downturn brought new challenges to the Government as the surpluses evaporated and tough government cut-backs are now necessary.\\nNorthern Ireland Consolidating the peace process in Northern Ireland and encouraging the full implementation of the 1998 Good Friday Agreement (GFA) remain priority U.S. goals in Ireland.\\nThe conflict in Northern Ireland stems from a history of British rule and the various armed and political attempts to gain independence.\\n\"Nationalist\" and \"republican\" communities seek a united Ireland, while \"unionists\" want Northern Ireland to remain part of the U.K.\\nAfter decades of violence by republican paramilitaries, most notably the Irish Republican Army (IRA), the British and Irish governments negotiated an IRA cease-fire in 1997, which was followed by the U.S.-brokered Good Friday Agreement (GFA) in 1998.\\nThe landmark GFA established a power-sharing legislative assembly to serve as the autonomous local government of Northern Ireland.\\nThe 108-member Northern Ireland Assembly is led by a First Minister and Deputy First Minister, one from each of the two communities, and a 10-Minister Executive.\\nThe GFA also provided for changes in both the British and Irish Constitutions.\\nIreland ceded territorial claim to Northern Ireland, and the U.K. agreed that Northern Ireland could become part of Ireland if a majority (north and south) so voted in the future.\\nFinally, the GFA provides the blueprint for \"normalization,\" to include the eventual removal of British forces, devolution of police and justice functions, and guarantees of human rights and equal opportunity for all individuals.\\nThe Agreement was approved in a referendum by 71% of Northern Ireland voters and 95% of Irish voters.\\nThe major political parties in Northern Ireland are the Ulster Unionist Party (UUP), the Social Democratic and Labor Party (SDLP), the Democratic Unionist Party (DUP), and Sinn Fein.\\nFrom the time the Assembly was created in 1998, up until October 2002, the governing parties were the pro-Agreement UUP and the nationalist party SDLP.\\nIn October 2002, the British Government suspended (for the fourth time) the Assembly, following a breakdown in trust between unionists and republican party Sinn Fein.\\nThe British and Irish government began discussions with the parties to try to resolve longstanding unresolved differences between the communities, and to secure a commitment from Sinn Fein that republicans would divest themselves of all paramilitary activities and capabilities.\\nEfforts to restore the political process in time to stage new elections to the Assembly in May 2003 broke down when the two governments concluded they did not have sufficient assurances from republicans.\\nHowever, the governments proceeded to publish a Joint Declaration, mapping out the timetable to full implementation of the GFA.\\nThe governments also announced, in September 2003, the creation of an International Monitoring Commission that will serve as a forum to hear complaints of alleged breaches of GFA commitments by the political parties and/or by British authorities.\\nThe four-member Commission includes a representative from the United States.\\nAs of October 2003, negotiations had been renewed to try to secure a commitment from republicans to sever all paramilitary ties, and to pave the way for Assembly elections in the fall, which are scheduled to take place November 26, 2003.\\nThe United States supports the efforts of the British and Irish Governments to restore the democratic process in Northern Ireland and to fully implement the GFA, which the United States believe is the only viable blueprint for a lasting peace.\\nThe United States remains engaged in dialogue with all parties, in coordination with its embassies in Dublin and London, its consulate in Belfast, and the office of the President\\'s Special Envoy for Northern Ireland.\\nU.S. goals are a demonstrated commitment by republicans to a peaceful and political solution, and an equally clear commitment by unionists to a full and equal partnership with nationalists.\\nAs the United States urges an end to paramilitary activities, it seeks to strengthen the democratic rule of law, to include a reformed Police Service of Northern Ireland with representation by both communities.\\nThe United States also continues to provide funding ($25 million annually) for projects administered under the International Fund for Ireland, created in 1986 to generate economic opportunity and cross-community engagement in the border areas, both north and south.\\nPrincipal Government Officials President--Mary McAleese Taoiseach (Prime Minister)--Bertie Ahern Tanaiste (Deputy Prime Minister) and Minister for Enterprise, Trade and Employment--Mary Harney Ambassador to the United States--Noel Fahey\\nThe Irish Embassy in the United States is at 2234 Massachusetts Ave.\\nNW, Washington, DC 20008 (tel. 202-462-3939/40/41/42).\\nIrish Consulates are located in New York, Chicago, Boston, and San Francisco.\\nECONOMY In the first 6 months of 2003, trade between Ireland and the United States was worth approximately $12.0 billion, a 10% decrease compared to the same period in 2002.\\nIn 2002 U.S. exports to Ireland were valued at $8.5 billion, less than half the value of Irish exports to the U.S. ($16.5 billion).\\nThe range of U.S. products includes electrical components, computers and peripherals, drugs and pharmaceuticals, electrical equipment, and livestock feed.\\nIrish exports to the United States represents approximately15%-20% of all Irish exports.\\nThe U.S. is Ireland\\'s second largest export destination - second only to the U.K. Exports to the United States include alcoholic beverages, chemicals and related products, electronic data processing equipment, electrical machinery, textiles and clothing, and glassware.\\nThe United States currently contributes $25 million annually to the International Fund for Ireland, a program that supports cross-border initiatives and economic development.\\nU.S. investment has been particularly important to the growth and modernization of Irish industry over the past 25 years, providing new technology, export capabilities, and employment opportunities.\\nThe stock of U.S. investment in Ireland was valued at $35.7 billion in 2002.\\nCurrently, there are more than 507 U.S. subsidiaries, employing approximately 90,000 people and spanning activities from manufacturing of high-tech electronics, computer products, medical supplies, and pharmaceuticals to retailing, banking and finance, and other services.\\nMany U.S. businesses find Ireland an attractive location to manufacture for the EU market, since it is inside the EU customs area.\\nGovernment policies are generally formulated to facilitate trade and inward direct investment.\\nThe availability of an educated, well-trained, English-speaking work force and relatively moderate wage costs have been important factors.\\nIreland offers good long-term growth prospects for U.S. companies under an innovative financial incentive program, including capital grants and favorable tax treatment, such as a low corporation income tax rate for manufacturing firms and certain financial services firms.\\nU.S.-IRISH RELATIONS U.S. relations with Ireland have long been based on common ancestral ties and on similar values and political views.\\nThese relations, however, have now broadened and matured, given the substantial U.S. corporate involvement in the Irish economy.\\nThe United States seeks to maintain and strengthen the traditionally cordial relations between the people of the United States and Ireland.\\nEconomic and trade relations are an important element of the bilateral relationship.\\nU.S. investment has been a major factor in the growth of the Irish economy, and Irish membership in the European Union (EU) means that discussion of EU trade and economic policies, as well as other aspects of EU policy, are a key element in exchanges between the two countries.\\nEmigration, long a vital element in the U.S.-Irish relationship, has declined significantly with Ireland\\'s economic boom in the 1990s.\\nFor the first time in its modern history, immigration to Ireland, especially of non-Europeans, is a growing phenomenon with political, economic, and social consequences.\\nHowever, Irish citizens do continue the common practice of taking temporary residence overseas for work or study, mainly in the U.S., U.K., and elsewhere in Europe, before returning to establish careers in Ireland.\\nPrincipal U.S. Officials Ambassador--James Kenny Deputy Chief of Mission--Jane Fort Administrative Officer--Lewis Lukens Commercial AttachÃ©--Dale Tarsharski Consular Officer--Jill Johnson Defense AttachÃ©--Col. John O\\'Sullivan, USA Economic Officer--John Fennerty Political Officer--Eva Weigold Public Affairs Officer--Morgan Kulla\\nThe U.S. Embassy in Ireland is located at 42 Elgin Road, Ballsbridge, Dublin 4 (tel. 668-7122; fax 668-9946).\\nTRAVEL AND BUSINESS INFORMATION The U.S. Department of State\\'s Consular Information Program provides Consular Information Sheets, Travel Warnings, and Public Announcements.\\nConsular Information Sheets exist for all countries and include information on entry requirements, currency regulations, health conditions, areas of instability, crime and security, political disturbances, and the addresses of the U.S. posts in the country.\\nTravel Warnings are issued when the State Department recommends that Americans avoid travel to a certain country.\\nPublic Announcements are issued as a means to disseminate information quickly about terrorist threats and other relatively short-term conditions overseas which pose significant risks to the security of American travelers.\\nFree copies of this information are available by calling the Bureau of Consular Affairs at 202-647-5225 or via the fax-on-demand system: 202-647-3000.\\nConsular Information Sheets and Travel Warnings also are available on the Consular Affairs Internet home page: http://travel.state.gov.\\nConsular Affairs Tips for Travelers publication series, which contain information on obtaining passports and planning a safe trip abroad are on the internet and hard copies can be purchased from the Superintendent of Documents, U.S. Government Printing Office, telephone: 202-512-1800; fax 202-512-2250.\\nEmergency information concerning Americans traveling abroad may be obtained from the Office of Overseas Citizens Services at (202) 647-5225.\\nFor after-hours emergencies, Sundays and holidays, call 202-647-4000.\\nThe National Passport Information Center (NPIC) is the U.S. Department of State\\'s single, centralized public contact center for U.S. passport information.\\nTelephone: 1-877-4USA-PPT (1-877-487-2778).\\nCustomer service representatives and operators for TDD/TTY are available Monday-Friday, 8:00 a.m. to 8:00 p.m., Eastern Time, excluding federal holidays.\\nTravelers can check the latest health information with the U.S. Centers for Disease Control and Prevention in Atlanta, Georgia.\\nA hotline at 877-FYI-TRIP (877-394-8747) and a web site at http://www.cdc.gov/travel/index.htm give the most recent health advisories, immunization recommendations or requirements, and advice on food and drinking water safety for regions and countries.\\nA booklet entitled Health Information for International Travel (HHS publication number CDC-95-8280) is available from the U.S. Government Printing Office, Washington, DC 20402, tel. (202) 512-1800.\\nInformation on travel conditions, visa requirements, currency and customs regulations, legal holidays, and other items of interest to travelers also may be obtained before your departure from a country\\'s embassy and/or consulates in the U.S. (for this country, see \"Principal Government Officials\" listing in this publication).\\nU.S. citizens who are long-term visitors or traveling in dangerous areas are encouraged to register at the Consular section of the U.S. embassy upon arrival in a country by filling out a short form and sending in a copy of their passports.\\nThis may help family members contact you in case of an emergency.\\nFurther Electronic Information Department of State Web Site.\\nAvailable on the Internet at http://state.gov, the Department of State web site provides timely, global access to official U.S. foreign policy information, including Background Notes; daily press briefings; Country Commercial Guides; directories of key officers of Foreign Service posts and more.\\nNational Trade Data Bank (NTDB) .\\nOperated by the U.S. Department of Commerce, the NTDB contains a wealth of trade-related information.\\nIt is available on the Internet (www.stat-usa.gov) and on CD-ROM.\\nCall the NTDB Help-Line at (202) 482-1986 for more information.\\nThis site is managed by the Bureau of Public Affairs, U.S. Department of State.\\nExternal links to other Internet sites should not be construed as an endorsement of the views contained therein.\\n'"
      ]
     },
     "execution_count": 37,
     "metadata": {},
     "output_type": "execute_result"
    }
   ],
   "source": [
    "corpora[0]"
   ]
  },
  {
   "cell_type": "markdown",
   "metadata": {},
   "source": [
    "\n",
    "# Raw Term Frequency Method"
   ]
  },
  {
   "cell_type": "code",
   "execution_count": 38,
   "metadata": {},
   "outputs": [],
   "source": [
    "cv = CountVectorizer(tokenizer=myTokenizer)\n",
    "vectorized_corpus = cv.fit_transform(corpora)\n",
    "vc = vectorized_corpus.toarray()"
   ]
  },
  {
   "cell_type": "code",
   "execution_count": 39,
   "metadata": {},
   "outputs": [
    {
     "data": {
      "text/plain": [
       "86403"
      ]
     },
     "execution_count": 39,
     "metadata": {},
     "output_type": "execute_result"
    }
   ],
   "source": [
    "len(cv.vocabulary_)"
   ]
  },
  {
   "cell_type": "code",
   "execution_count": 42,
   "metadata": {},
   "outputs": [],
   "source": [
    "import sklearn\n",
    "cos_sim = sklearn.metrics.pairwise.cosine_similarity(vc[-10:], Y=vc[:-10], dense_output=True)"
   ]
  },
  {
   "cell_type": "code",
   "execution_count": 43,
   "metadata": {},
   "outputs": [],
   "source": [
    "file_set = set([])\n",
    "for (index, file_name) in indexToDoc.items():\n",
    "    file_set.add(file_name)"
   ]
  },
  {
   "cell_type": "code",
   "execution_count": 45,
   "metadata": {
    "scrolled": true
   },
   "outputs": [
    {
     "name": "stdout",
     "output_type": "stream",
     "text": [
      "834 {'GX045-41-2168949', 'GX004-25-13019835', 'GX021-78-14111704', 'GX010-35-15955392', 'GX040-81-16166035', 'GX243-29-13067685'}\n",
      "834 {762, 103, 204, 369, 52, 314}\n",
      "850 {'GX269-26-14945333', 'GX184-99-15143494', 'GX042-96-1892904', 'GX257-21-0731466'}\n",
      "850 {600, 1010, 910, 351}\n",
      "750 {'GX027-18-10108767', 'GX008-89-13408841', 'GX271-80-2290494', 'GX026-16-11928943', 'GX032-08-7220157', 'GX234-42-9347863', 'GX017-50-16727292', 'GX008-29-15595938', 'GX240-51-15929960', 'GX233-86-13327098', 'GX044-14-8159649', 'GX266-12-2124404'}\n",
      "750 {350, 259, 73, 1037, 77, 303, 721, 658, 180, 985, 670, 255}\n",
      "714 {'GX229-13-4367716', 'GX231-46-2838862', 'GX230-88-16182282', 'GX249-94-9625890', 'GX238-98-6238053'}\n",
      "714 {609, 642, 742, 647, 810}\n",
      "709 {'GX235-23-0231479', 'GX271-74-0546425', 'GX271-37-14516566', 'GX233-58-3122862'}\n",
      "709 {1056, 649, 1050, 695}\n",
      "713 {'GX023-29-8603905', 'GX272-04-8612731', 'GX256-83-11559847', 'GX268-44-16055966', 'GX238-39-8334591', 'GX228-20-4909978', 'GX240-87-3277355', 'GX241-85-7094895', 'GX268-44-14627838'}\n",
      "713 {229, 614, 748, 751, 1016, 1049, 698, 1019, 889}\n",
      "740 {'GX248-92-13590837', 'GX044-24-0113937', 'GX001-08-7866949', 'GX271-89-9415561', 'GX263-11-15446113', 'GX267-70-14024521', 'GX266-99-4300156', 'GX264-28-2445174', 'GX265-06-5380204', 'GX000-65-2909487', 'GX270-93-4603181', 'GX244-85-9972911', 'GX083-67-2451131', 'GX263-24-0198074', 'GX231-51-12806291', 'GX244-77-13676750'}\n",
      "740 {801, 937, 9, 1002, 972, 12, 489, 975, 337, 945, 792, 791, 632, 986, 1052, 1053}\n",
      "753 {'GX263-57-5703493', 'GX251-09-15641167', 'GX265-17-5156200'}\n",
      "753 {970, 826, 966}\n",
      "730 {'GX243-58-6973567', 'GX074-99-11082839', 'GX042-83-11589615', 'GX012-94-0685684', 'GX230-56-5973216', 'GX005-02-4464054'}\n",
      "730 {481, 66, 648, 777, 139, 348}\n",
      "743 {'GX044-11-11692423', 'GX250-62-3689769', 'GX234-71-13975336', 'GX257-01-5803525', 'GX253-87-16296738', 'GX262-16-6201074', 'GX134-50-1701043'}\n",
      "743 {833, 684, 944, 862, 341, 537, 894}\n"
     ]
    }
   ],
   "source": [
    "f = open(r\"C:\\Users\\babbe\\Downloads\\output.txt\", \"r\")\n",
    "queryToOutput = {}\n",
    "text = f.read().split(\"\\n\")\n",
    "\n",
    "for line in text:\n",
    "    if len(line.split()) < 2:\n",
    "        continue\n",
    "    queryIndex = line.split()[0]\n",
    "    fileName = line.split()[1]\n",
    "    if queryIndex in queryToOutput.keys():\n",
    "        queryToOutput[queryIndex].add(fileName)\n",
    "    else:\n",
    "        queryToOutput[queryIndex] = set([fileName])\n",
    "        \n",
    "query_numbers = []\n",
    "query_sets = []\n",
    "query_index = []\n",
    "for i in queries:\n",
    "    query_numbers.append(i.split()[0])\n",
    "    query_sets.append(queryToOutput[i.split()[0]] & file_set)\n",
    "    query_index.append(set([]))\n",
    "    for x in query_sets[-1]:\n",
    "        query_index[-1].add(docToIndex[x])\n",
    "    print(i.split()[0], query_sets[-1])\n",
    "    print(i.split()[0], query_index[-1])\n",
    "\n",
    "f.close()"
   ]
  },
  {
   "cell_type": "markdown",
   "metadata": {},
   "source": [
    "#### Result calculation after Raw Term Frequency Method"
   ]
  },
  {
   "cell_type": "code",
   "execution_count": 46,
   "metadata": {
    "scrolled": true
   },
   "outputs": [],
   "source": [
    "def calc(count):\n",
    "    import heapq\n",
    "    matchList = [None]*10\n",
    "    result = [None]*10\n",
    "    print(\"Results - (Precision, Recall) for Level \", count, \": \")\n",
    "    for i in range(10):\n",
    "        matchList[i] = set([x+1 for x in heapq.nlargest(count, range(len(cos_sim[i])), cos_sim[i].__getitem__)])\n",
    "        #print(matchList[i])\n",
    "        matchCount = len(matchList[i] & query_index[i])\n",
    "        result[i] = (matchCount/count, matchCount/len(query_index[i]))\n",
    "        print(\"Query \", i+1, \": \", result[i])"
   ]
  },
  {
   "cell_type": "markdown",
   "metadata": {},
   "source": [
    "*** 5th level precision and recall ***"
   ]
  },
  {
   "cell_type": "code",
   "execution_count": 47,
   "metadata": {},
   "outputs": [
    {
     "name": "stdout",
     "output_type": "stream",
     "text": [
      "Results - (Precision, Recall) for Level  5 : \n",
      "Query  1 :  (0.8, 0.6666666666666666)\n",
      "Query  2 :  (0.8, 1.0)\n",
      "Query  3 :  (1.0, 0.4166666666666667)\n",
      "Query  4 :  (0.4, 0.4)\n",
      "Query  5 :  (0.6, 0.75)\n",
      "Query  6 :  (1.0, 0.5555555555555556)\n",
      "Query  7 :  (1.0, 0.3125)\n",
      "Query  8 :  (0.4, 0.6666666666666666)\n",
      "Query  9 :  (0.8, 0.6666666666666666)\n",
      "Query  10 :  (0.0, 0.0)\n"
     ]
    }
   ],
   "source": [
    "calc(5)"
   ]
  },
  {
   "cell_type": "markdown",
   "metadata": {},
   "source": [
    "*** 10th level precision and recall ***"
   ]
  },
  {
   "cell_type": "code",
   "execution_count": 48,
   "metadata": {},
   "outputs": [
    {
     "name": "stdout",
     "output_type": "stream",
     "text": [
      "Results - (Precision, Recall) for Level  10 : \n",
      "Query  1 :  (0.5, 0.8333333333333334)\n",
      "Query  2 :  (0.4, 1.0)\n",
      "Query  3 :  (0.8, 0.6666666666666666)\n",
      "Query  4 :  (0.2, 0.4)\n",
      "Query  5 :  (0.4, 1.0)\n",
      "Query  6 :  (0.8, 0.8888888888888888)\n",
      "Query  7 :  (0.9, 0.5625)\n",
      "Query  8 :  (0.3, 1.0)\n",
      "Query  9 :  (0.6, 1.0)\n",
      "Query  10 :  (0.1, 0.14285714285714285)\n"
     ]
    }
   ],
   "source": [
    "calc(10)"
   ]
  },
  {
   "cell_type": "markdown",
   "metadata": {},
   "source": [
    "*** 15th level precision and recall ***"
   ]
  },
  {
   "cell_type": "code",
   "execution_count": 49,
   "metadata": {
    "scrolled": true
   },
   "outputs": [
    {
     "name": "stdout",
     "output_type": "stream",
     "text": [
      "Results - (Precision, Recall) for Level  15 : \n",
      "Query  1 :  (0.4, 1.0)\n",
      "Query  2 :  (0.26666666666666666, 1.0)\n",
      "Query  3 :  (0.6666666666666666, 0.8333333333333334)\n",
      "Query  4 :  (0.26666666666666666, 0.8)\n",
      "Query  5 :  (0.26666666666666666, 1.0)\n",
      "Query  6 :  (0.6, 1.0)\n",
      "Query  7 :  (0.8666666666666667, 0.8125)\n",
      "Query  8 :  (0.2, 1.0)\n",
      "Query  9 :  (0.4, 1.0)\n",
      "Query  10 :  (0.06666666666666667, 0.14285714285714285)\n"
     ]
    }
   ],
   "source": [
    "calc(15)"
   ]
  },
  {
   "cell_type": "markdown",
   "metadata": {},
   "source": [
    "# **Comparison of result with previous precision and recall   <br>\n",
    "# Please click on the block to get the view<br> \n",
    "Comparing 10th level values<br>\n",
    "\n",
    "Results - new(Precision, Recall)                               old(Precision , Recall) \n",
    "Query  1 :  (0.5, 0.8333333333333334)                             (0.0013 , 0.1)<br>\n",
    "Query  2 :  (0.4, 1.0)                                            (0 , 0)<br>\n",
    "Query  3 :  (0.8, 0.6666666666666666)                             (0.00134 , 0.1)<br>\n",
    "Query  4 :  (0.2, 0.4)                                            (0.00188, 0.1)<br>\n",
    "Query  5 :  (0.4, 1.0)                                             (0.00191, 0.1)<br>\n",
    "Query  6 :  (0.8, 0.8888888888888888)                              (0.00247, 0.2)<br>\n",
    "Query  7 :  (0.9, 0.5625)                                          (0.00588, 0.3)<br>\n",
    "Query  8 :  (0.3, 1.0)                                             (0.00163, 0.1)<br>\n",
    "Query  9 :  (0.6, 1.0)                                             (0.00168, 0.1)<br>\n",
    "Query  10 :  (0.1, 0.14285714285714285)                            (0.0017 , 0.1)<br>\n",
    "\n",
    "By using Raw term frequency we have a significant improvement over precision and recall as showed by results. <br>\n"
   ]
  },
  {
   "cell_type": "markdown",
   "metadata": {},
   "source": [
    "# TF-IDF Method"
   ]
  },
  {
   "cell_type": "code",
   "execution_count": 50,
   "metadata": {},
   "outputs": [
    {
     "data": {
      "text/plain": [
       "numpy.ndarray"
      ]
     },
     "execution_count": 50,
     "metadata": {},
     "output_type": "execute_result"
    }
   ],
   "source": [
    "type(vc)"
   ]
  },
  {
   "cell_type": "markdown",
   "metadata": {},
   "source": [
    "Using library function of  TfidfVectorizer for better implementation."
   ]
  },
  {
   "cell_type": "code",
   "execution_count": 51,
   "metadata": {},
   "outputs": [
    {
     "name": "stdout",
     "output_type": "stream",
     "text": [
      "[[0. 0. 0. ... 0. 0. 0.]\n",
      " [0. 0. 0. ... 0. 0. 0.]\n",
      " [0. 0. 0. ... 0. 0. 0.]\n",
      " ...\n",
      " [0. 0. 0. ... 0. 0. 0.]\n",
      " [0. 0. 0. ... 0. 0. 0.]\n",
      " [0. 0. 0. ... 0. 0. 0.]]\n"
     ]
    }
   ],
   "source": [
    "from sklearn.feature_extraction.text import TfidfVectorizer\n",
    "tfidf_vectorizer = TfidfVectorizer(tokenizer=myTokenizer)\n",
    "vc = tfidf_vectorizer.fit_transform(corpora).toarray()\n",
    "print(vc)"
   ]
  },
  {
   "cell_type": "code",
   "execution_count": 4,
   "metadata": {},
   "outputs": [],
   "source": [
    "############# IF WE WANT TO MAKE OUR OWN VECTORIZER Functions are as follows #############\n",
    "\n",
    "# def computeTF(word_Dict, bow):\n",
    "#     tfDict = {}\n",
    "#     bowCount = len(bow)\n",
    "#     for word, count in word_Dict.items():\n",
    "#         tfDict[word] = count / float(bowCount)\n",
    "#     return tfDict\n",
    "# def computeIDF(docList):\n",
    "#     import math\n",
    "#     idfDict = {}\n",
    "#     N = len(docList)\n",
    "#     #Counts the number of documents that contain a word w\n",
    "#     idfDict = dict.fromkeys(docList[0].keys(),0)\n",
    "#     for doc in docList:\n",
    "#         for word, val in doc.items():\n",
    "#             if val > 0:\n",
    "#                 idfDict[word] += 1\n",
    "#     #Divide N by denominator above, take the log of that\n",
    "#     for word, val in idfDict.items():\n",
    "#         idfDict[word]= math.log(N / float(val),2)\n",
    "#     return idfDict\n",
    "# def computeTFIDF(tfBow, idfs):\n",
    "#     tfidf = {}\n",
    "#     for word, val in tfBow.items():\n",
    "#         if word in idfs:\n",
    "#             tfidf[word] = val * idfs[word]\n",
    "#         else:\n",
    "#             tfidf[word] = 0\n",
    "#     return tfidf\n",
    "# tf = {}\n",
    "# for ii in word_dict:\n",
    "#     tf[ii] = computeTF(word_dict[ii], bag_of_words[ii])\n",
    "# #list of word_dict of all documents\n",
    "# list_of_word_dict = []\n",
    "# for i in word_dict:\n",
    "#     list_of_word_dict.append(word_dict[i])\n",
    "# #compute idf for all terms\n",
    "# idfs = computeIDF(list_of_word_dict)\n",
    "# #list of word_dict of all documents\n",
    "# list_of_word_dict = []\n",
    "# for i in word_dict:\n",
    "#     list_of_word_dict.append(word_dict[i])\n",
    "# #compute idf for all terms\n",
    "# idfs = computeIDF(list_of_word_dict)\n",
    "# tf_idfs = {}\n",
    "# for i in tf:\n",
    "#     tf_idfs[i] = computeTFIDF(tf[i], idfs)\n",
    "# list_of_tf_idfs = []\n",
    "# for i in tf_idfs:\n",
    "#     list_of_tf_idfs.append(tf_idfs[i])"
   ]
  },
  {
   "cell_type": "code",
   "execution_count": 52,
   "metadata": {},
   "outputs": [
    {
     "name": "stdout",
     "output_type": "stream",
     "text": [
      "GX000-56-16493385\n",
      "0.11768152994268286\n"
     ]
    }
   ],
   "source": [
    "#print(vc[0])\n",
    "v = vc[0]\n",
    "print(indexToDoc[1])\n",
    "#print(v)\n",
    "#print(cv.inverse_transform(v)[0][0])\n",
    "i = cv.vocabulary_['a']\n",
    "print(v[i])"
   ]
  },
  {
   "cell_type": "code",
   "execution_count": 53,
   "metadata": {},
   "outputs": [],
   "source": [
    "import sklearn\n",
    "cos_sim = sklearn.metrics.pairwise.cosine_similarity(vc[-10:], Y=vc[:-10], dense_output=True)"
   ]
  },
  {
   "cell_type": "code",
   "execution_count": 54,
   "metadata": {},
   "outputs": [],
   "source": [
    "file_set = set([])\n",
    "for (index, file_name) in indexToDoc.items():\n",
    "    file_set.add(file_name)"
   ]
  },
  {
   "cell_type": "code",
   "execution_count": 55,
   "metadata": {
    "scrolled": true
   },
   "outputs": [
    {
     "name": "stdout",
     "output_type": "stream",
     "text": [
      "834 {'GX045-41-2168949', 'GX004-25-13019835', 'GX021-78-14111704', 'GX010-35-15955392', 'GX040-81-16166035', 'GX243-29-13067685'}\n",
      "834 {762, 103, 204, 369, 52, 314}\n",
      "850 {'GX269-26-14945333', 'GX184-99-15143494', 'GX042-96-1892904', 'GX257-21-0731466'}\n",
      "850 {600, 1010, 910, 351}\n",
      "750 {'GX027-18-10108767', 'GX008-89-13408841', 'GX271-80-2290494', 'GX026-16-11928943', 'GX032-08-7220157', 'GX234-42-9347863', 'GX017-50-16727292', 'GX008-29-15595938', 'GX240-51-15929960', 'GX233-86-13327098', 'GX044-14-8159649', 'GX266-12-2124404'}\n",
      "750 {350, 259, 73, 1037, 77, 303, 721, 658, 180, 985, 670, 255}\n",
      "714 {'GX229-13-4367716', 'GX231-46-2838862', 'GX230-88-16182282', 'GX249-94-9625890', 'GX238-98-6238053'}\n",
      "714 {609, 642, 742, 647, 810}\n",
      "709 {'GX235-23-0231479', 'GX271-74-0546425', 'GX271-37-14516566', 'GX233-58-3122862'}\n",
      "709 {1056, 649, 1050, 695}\n",
      "713 {'GX023-29-8603905', 'GX272-04-8612731', 'GX256-83-11559847', 'GX268-44-16055966', 'GX238-39-8334591', 'GX228-20-4909978', 'GX240-87-3277355', 'GX241-85-7094895', 'GX268-44-14627838'}\n",
      "713 {229, 614, 748, 751, 1016, 1049, 698, 1019, 889}\n",
      "740 {'GX248-92-13590837', 'GX044-24-0113937', 'GX001-08-7866949', 'GX271-89-9415561', 'GX263-11-15446113', 'GX267-70-14024521', 'GX266-99-4300156', 'GX264-28-2445174', 'GX265-06-5380204', 'GX000-65-2909487', 'GX270-93-4603181', 'GX244-85-9972911', 'GX083-67-2451131', 'GX263-24-0198074', 'GX231-51-12806291', 'GX244-77-13676750'}\n",
      "740 {801, 937, 9, 1002, 972, 12, 489, 975, 337, 945, 792, 791, 632, 986, 1052, 1053}\n",
      "753 {'GX263-57-5703493', 'GX251-09-15641167', 'GX265-17-5156200'}\n",
      "753 {970, 826, 966}\n",
      "730 {'GX243-58-6973567', 'GX074-99-11082839', 'GX042-83-11589615', 'GX012-94-0685684', 'GX230-56-5973216', 'GX005-02-4464054'}\n",
      "730 {481, 66, 648, 777, 139, 348}\n",
      "743 {'GX044-11-11692423', 'GX250-62-3689769', 'GX234-71-13975336', 'GX257-01-5803525', 'GX253-87-16296738', 'GX262-16-6201074', 'GX134-50-1701043'}\n",
      "743 {833, 684, 944, 862, 341, 537, 894}\n"
     ]
    }
   ],
   "source": [
    "f = open(r\"C:\\Users\\babbe\\Downloads\\output.txt\", \"r\")\n",
    "\n",
    "queryToOutput = {}\n",
    "text = f.read().split(\"\\n\")\n",
    "\n",
    "for line in text:\n",
    "    if len(line.split()) < 2:\n",
    "        continue\n",
    "    queryIndex = line.split()[0]\n",
    "    fileName = line.split()[1]\n",
    "    if queryIndex in queryToOutput.keys():\n",
    "        queryToOutput[queryIndex].add(fileName)\n",
    "    else:\n",
    "        queryToOutput[queryIndex] = set([fileName])\n",
    "        \n",
    "query_numbers = []\n",
    "query_sets = []\n",
    "query_index = []\n",
    "for i in queries:\n",
    "    query_numbers.append(i.split()[0])\n",
    "    query_sets.append(queryToOutput[i.split()[0]] & file_set)\n",
    "    query_index.append(set([]))\n",
    "    for x in query_sets[-1]:\n",
    "        query_index[-1].add(docToIndex[x])\n",
    "    print(i.split()[0], query_sets[-1])\n",
    "    print(i.split()[0], query_index[-1])\n",
    "\n",
    "f.close()"
   ]
  },
  {
   "cell_type": "markdown",
   "metadata": {},
   "source": [
    "#### Result calculation after TFIDF Method"
   ]
  },
  {
   "cell_type": "code",
   "execution_count": 56,
   "metadata": {
    "scrolled": true
   },
   "outputs": [],
   "source": [
    "def calc(count):\n",
    "    import heapq\n",
    "    matchList = [None]*10\n",
    "    result = [None]*10\n",
    "    print(\"Results - (Precision, Recall) for Level \", count, \": \")\n",
    "    for i in range(10):\n",
    "        matchList[i] = set([x+1 for x in heapq.nlargest(count, range(len(cos_sim[i])), cos_sim[i].__getitem__)])\n",
    "        #print(matchList[i])\n",
    "        matchCount = len(matchList[i] & query_index[i])\n",
    "        result[i] = (matchCount/count, matchCount/len(query_index[i]))\n",
    "        print(\"Query \", i+1, \": \", result[i])"
   ]
  },
  {
   "cell_type": "code",
   "execution_count": 57,
   "metadata": {},
   "outputs": [
    {
     "name": "stdout",
     "output_type": "stream",
     "text": [
      "Results - (Precision, Recall) for Level  5 : \n",
      "Query  1 :  (0.8, 0.6666666666666666)\n",
      "Query  2 :  (0.8, 1.0)\n",
      "Query  3 :  (1.0, 0.4166666666666667)\n",
      "Query  4 :  (0.4, 0.4)\n",
      "Query  5 :  (0.8, 1.0)\n",
      "Query  6 :  (1.0, 0.5555555555555556)\n",
      "Query  7 :  (1.0, 0.3125)\n",
      "Query  8 :  (0.4, 0.6666666666666666)\n",
      "Query  9 :  (1.0, 0.8333333333333334)\n",
      "Query  10 :  (0.4, 0.2857142857142857)\n"
     ]
    }
   ],
   "source": [
    "calc(5)"
   ]
  },
  {
   "cell_type": "code",
   "execution_count": 58,
   "metadata": {
    "scrolled": true
   },
   "outputs": [
    {
     "name": "stdout",
     "output_type": "stream",
     "text": [
      "Results - (Precision, Recall) for Level  10 : \n",
      "Query  1 :  (0.5, 0.8333333333333334)\n",
      "Query  2 :  (0.4, 1.0)\n",
      "Query  3 :  (0.9, 0.75)\n",
      "Query  4 :  (0.4, 0.8)\n",
      "Query  5 :  (0.4, 1.0)\n",
      "Query  6 :  (0.9, 1.0)\n",
      "Query  7 :  (1.0, 0.625)\n",
      "Query  8 :  (0.3, 1.0)\n",
      "Query  9 :  (0.6, 1.0)\n",
      "Query  10 :  (0.2, 0.2857142857142857)\n"
     ]
    }
   ],
   "source": [
    "calc(10)"
   ]
  },
  {
   "cell_type": "code",
   "execution_count": 59,
   "metadata": {
    "scrolled": false
   },
   "outputs": [
    {
     "name": "stdout",
     "output_type": "stream",
     "text": [
      "Results - (Precision, Recall) for Level  15 : \n",
      "Query  1 :  (0.4, 1.0)\n",
      "Query  2 :  (0.26666666666666666, 1.0)\n",
      "Query  3 :  (0.6666666666666666, 0.8333333333333334)\n",
      "Query  4 :  (0.26666666666666666, 0.8)\n",
      "Query  5 :  (0.26666666666666666, 1.0)\n",
      "Query  6 :  (0.6, 1.0)\n",
      "Query  7 :  (0.9333333333333333, 0.875)\n",
      "Query  8 :  (0.2, 1.0)\n",
      "Query  9 :  (0.4, 1.0)\n",
      "Query  10 :  (0.2, 0.42857142857142855)\n"
     ]
    }
   ],
   "source": [
    "calc(15)"
   ]
  },
  {
   "cell_type": "markdown",
   "metadata": {},
   "source": [
    "#  Raw term model vs TF-IDF model"
   ]
  },
  {
   "cell_type": "markdown",
   "metadata": {},
   "source": [
    "**Comparing 15th level precision and recall  <br>\n",
    "TF-IDF<br>\n",
    "  Results - (Precision, Recall) for Level  15 : \n",
    "Query  1 :  (0.4, 1.0)<br>\n",
    "Query  2 :  (0.26666666666666666, 1.0)<br>\n",
    "Query  3 :  (0.6666666666666666, 0.8333333333333334)<br>\n",
    "Query  4 :  (0.26666666666666666, 0.8)<br>\n",
    "Query  5 :  (0.26666666666666666, 1.0)<br>\n",
    "Query  6 :  (0.6, 1.0)<br>\n",
    "Query  7 :  (0.9333333333333333, 0.875)<br>\n",
    "Query  8 :  (0.2, 1.0)<br>\n",
    "Query  9 :  (0.4, 1.0)<br>\n",
    "Query  10 :  (0.2, 0.42857142857142855)<br>\n",
    "RAW TERM FREQ :<br>\n",
    "Results - (Precision, Recall) for Level  15 :<br> \n",
    "Query  1 :  (0.4, 1.0)<br>\n",
    "Query  2 :  (0.26666666666666666, 1.0)<br>\n",
    "Query  3 :  (0.6666666666666666, 0.8333333333333334)<br>\n",
    "Query  4 :  (0.26666666666666666, 0.8)<br>\n",
    "Query  5 :  (0.26666666666666666, 1.0)<br>\n",
    "Query  6 :  (0.6, 1.0)<br>\n",
    "Query  7 :  (0.8666666666666667, 0.8125)<br>\n",
    "Query  8 :  (0.2, 1.0)<br>\n",
    "Query  9 :  (0.4, 1.0)<br>\n",
    "Query  10 :  (0.06666666666666667, 0.14285714285714285)<br>\n",
    "Recall is increased for each query.<br>\n",
    "Precision depending on the query has shown both the sides as total correct answers in our selected corpora can be less than 15(level).<br>\n",
    "As a general trend the values for each query either remained same or increased in  TF-IDF MODEL.\n",
    "The reason is due to weightage of rarity of term is also included.Thus supporting that TF-IDF construction is better. <br>\n",
    "The result is what we expected .\n",
    "\n"
   ]
  },
  {
   "cell_type": "markdown",
   "metadata": {},
   "source": [
    "# Clustering"
   ]
  },
  {
   "cell_type": "code",
   "execution_count": 60,
   "metadata": {},
   "outputs": [],
   "source": [
    "from sklearn.cluster import KMeans"
   ]
  },
  {
   "cell_type": "code",
   "execution_count": 61,
   "metadata": {},
   "outputs": [
    {
     "data": {
      "text/plain": [
       "array([[0., 0., 0., ..., 0., 0., 0.],\n",
       "       [0., 0., 0., ..., 0., 0., 0.],\n",
       "       [0., 0., 0., ..., 0., 0., 0.],\n",
       "       ...,\n",
       "       [0., 0., 0., ..., 0., 0., 0.],\n",
       "       [0., 0., 0., ..., 0., 0., 0.],\n",
       "       [0., 0., 0., ..., 0., 0., 0.]])"
      ]
     },
     "execution_count": 61,
     "metadata": {},
     "output_type": "execute_result"
    }
   ],
   "source": [
    "clusters = []\n",
    "orignalVC = vc\n",
    "normalisedVC = vc\n",
    "sklearn.preprocessing.normalize(normalisedVC)"
   ]
  },
  {
   "cell_type": "markdown",
   "metadata": {},
   "source": [
    "***Module for K means clustering <br>\n"
   ]
  },
  {
   "cell_type": "code",
   "execution_count": 62,
   "metadata": {},
   "outputs": [],
   "source": [
    "def kMeansAlgo(kClusters,vc):\n",
    "    kmeans_model = KMeans(n_clusters=kClusters, max_iter=300)\n",
    "    kmeans_model.fit(vc)\n",
    "    clusters = kmeans_model.labels_.tolist()\n",
    "    print(clusters) \n",
    "    "
   ]
  },
  {
   "cell_type": "markdown",
   "metadata": {},
   "source": [
    "# K means clustering with eucledeian distance with k = 2 <br>\n",
    "passed with original VC(vectorized corpus ,TF-IDF ONE ) "
   ]
  },
  {
   "cell_type": "markdown",
   "metadata": {},
   "source": [
    "Clusters in the form of list "
   ]
  },
  {
   "cell_type": "code",
   "execution_count": 63,
   "metadata": {
    "scrolled": false
   },
   "outputs": [
    {
     "name": "stdout",
     "output_type": "stream",
     "text": [
      "[1, 1, 0, 0, 1, 1, 1, 1, 0, 1, 0, 1, 1, 1, 1, 0, 1, 0, 1, 1, 1, 0, 0, 1, 0, 1, 1, 1, 1, 1, 1, 1, 1, 0, 1, 1, 1, 1, 0, 1, 1, 1, 1, 0, 1, 0, 1, 1, 1, 1, 0, 1, 1, 0, 1, 1, 1, 1, 1, 1, 1, 0, 0, 1, 0, 0, 1, 1, 1, 1, 0, 1, 0, 1, 1, 1, 0, 1, 0, 0, 0, 1, 1, 1, 0, 1, 1, 1, 0, 0, 1, 1, 0, 1, 1, 1, 1, 1, 1, 1, 1, 1, 1, 1, 1, 1, 1, 0, 0, 1, 1, 1, 0, 0, 0, 1, 1, 1, 1, 1, 1, 0, 1, 1, 1, 0, 1, 1, 1, 1, 0, 0, 1, 1, 1, 1, 1, 0, 1, 1, 0, 1, 0, 1, 1, 0, 1, 0, 1, 0, 1, 1, 0, 0, 0, 0, 1, 0, 0, 0, 0, 0, 1, 1, 0, 0, 1, 1, 0, 1, 0, 0, 1, 1, 1, 1, 1, 1, 0, 1, 0, 1, 1, 1, 1, 1, 1, 0, 0, 1, 0, 1, 1, 1, 1, 1, 1, 0, 0, 1, 1, 0, 0, 0, 0, 1, 0, 1, 0, 1, 1, 1, 1, 1, 1, 1, 0, 1, 1, 0, 1, 1, 1, 0, 1, 1, 1, 0, 0, 1, 0, 1, 0, 0, 0, 1, 1, 1, 0, 1, 1, 1, 1, 0, 0, 0, 0, 0, 1, 0, 1, 1, 0, 1, 0, 1, 1, 0, 0, 1, 1, 0, 0, 1, 0, 1, 1, 1, 0, 0, 0, 0, 0, 1, 0, 0, 1, 1, 0, 0, 0, 1, 1, 1, 1, 0, 0, 0, 1, 1, 1, 0, 1, 1, 0, 0, 1, 1, 0, 0, 0, 1, 1, 1, 0, 1, 0, 1, 0, 1, 0, 1, 1, 0, 1, 0, 1, 1, 0, 1, 1, 1, 1, 1, 0, 1, 1, 1, 1, 1, 0, 1, 1, 1, 1, 1, 1, 1, 1, 1, 1, 1, 1, 1, 1, 1, 0, 0, 1, 0, 0, 1, 1, 1, 1, 1, 1, 1, 1, 0, 1, 0, 0, 0, 0, 1, 1, 1, 1, 1, 1, 1, 0, 1, 0, 1, 1, 0, 1, 1, 1, 1, 1, 1, 0, 1, 1, 0, 0, 1, 0, 1, 1, 1, 0, 1, 1, 1, 1, 1, 1, 1, 1, 1, 1, 1, 1, 0, 0, 0, 1, 1, 1, 1, 1, 1, 1, 0, 1, 1, 0, 0, 1, 1, 1, 1, 1, 0, 0, 1, 1, 1, 1, 1, 0, 1, 1, 1, 1, 1, 1, 1, 1, 1, 1, 1, 1, 1, 1, 1, 0, 1, 1, 0, 1, 1, 1, 1, 0, 1, 1, 1, 0, 0, 0, 0, 0, 0, 1, 1, 1, 1, 1, 1, 1, 1, 0, 0, 0, 1, 1, 1, 1, 0, 1, 0, 1, 1, 1, 1, 1, 0, 1, 1, 1, 1, 1, 0, 0, 1, 1, 1, 1, 1, 0, 0, 1, 1, 0, 0, 1, 0, 1, 0, 0, 0, 0, 0, 1, 1, 0, 0, 0, 1, 1, 0, 0, 1, 1, 1, 0, 1, 0, 1, 0, 1, 1, 0, 0, 1, 1, 1, 1, 1, 1, 1, 0, 0, 1, 0, 1, 1, 0, 1, 1, 0, 0, 0, 1, 0, 1, 1, 0, 0, 0, 0, 0, 0, 0, 1, 1, 1, 0, 0, 0, 1, 0, 0, 0, 0, 0, 0, 0, 1, 0, 0, 0, 1, 1, 1, 0, 0, 1, 0, 1, 1, 0, 0, 0, 1, 1, 0, 1, 1, 0, 0, 1, 0, 1, 1, 0, 1, 1, 0, 1, 1, 1, 0, 0, 1, 1, 0, 1, 0, 0, 1, 1, 1, 1, 0, 1, 1, 1, 1, 1, 1, 0, 0, 1, 1, 1, 1, 1, 1, 1, 1, 1, 0, 1, 0, 1, 1, 0, 0, 1, 1, 1, 1, 1, 0, 0, 1, 1, 0, 0, 0, 1, 1, 1, 1, 0, 1, 1, 1, 1, 1, 1, 1, 1, 1, 1, 1, 0, 1, 1, 1, 1, 1, 1, 1, 1, 1, 0, 1, 1, 1, 0, 0, 1, 1, 0, 1, 0, 1, 1, 0, 1, 1, 1, 1, 0, 1, 1, 0, 1, 0, 0, 0, 0, 0, 1, 1, 1, 1, 1, 1, 1, 1, 1, 0, 1, 0, 1, 0, 1, 1, 0, 1, 1, 1, 1, 1, 1, 1, 1, 0, 0, 1, 1, 0, 0, 1, 1, 1, 1, 1, 1, 1, 0, 1, 1, 1, 1, 1, 1, 0, 1, 1, 1, 0, 0, 0, 1, 0, 1, 1, 1, 1, 1, 0, 1, 1, 0, 1, 0, 0, 1, 0, 1, 0, 1, 1, 1, 0, 1, 0, 0, 1, 1, 1, 1, 0, 0, 1, 0, 1, 1, 1, 1, 1, 0, 1, 1, 1, 1, 1, 1, 1, 1, 0, 1, 0, 1, 1, 1, 1, 0, 1, 0, 1, 1, 0, 1, 1, 1, 0, 0, 1, 1, 1, 1, 0, 0, 1, 1, 1, 1, 1, 0, 0, 1, 1, 1, 1, 0, 1, 1, 1, 1, 1, 1, 1, 1, 1, 1, 0, 0, 1, 1, 1, 1, 1, 1, 0, 1, 0, 1, 1, 0, 1, 1, 1, 1, 1, 1, 0, 1, 1, 1, 1, 1, 1, 0, 1, 1, 1, 1, 1, 1, 1, 1, 1, 1, 1, 1, 1, 1, 1, 0, 1, 1, 0, 1, 1, 1, 1, 1, 1, 1, 1, 1, 1, 0, 0, 1, 1, 1, 0, 1, 1, 1, 1, 1, 1, 1, 0, 1, 0, 1, 0, 0, 1, 1, 1, 1, 1, 1, 1, 1, 1, 1, 1, 0, 0, 1, 1, 0, 0, 1, 1, 1, 1, 1, 1, 1, 1, 1, 1, 1, 0, 1, 1, 1, 1, 1, 1, 1, 0, 0, 1, 1, 0, 1, 1, 1, 0, 0, 1, 1, 1, 0, 1, 1, 0, 0, 1, 1, 0, 0, 1, 1, 0, 0, 1, 1, 1, 1, 1, 1, 1, 1, 1, 0, 1, 1, 1, 0, 1, 1, 0, 0, 1, 0, 1, 0, 0, 1, 1, 1, 1, 1, 1, 1, 1, 1, 1, 1, 0, 1, 1, 1, 1, 1, 1, 1, 1, 1, 1, 1, 1, 0, 1, 1, 1, 0, 1, 0, 0, 0, 0, 0, 0, 0, 0, 0, 0]\n"
     ]
    }
   ],
   "source": [
    "kMeansAlgo(2,orignalVC)"
   ]
  },
  {
   "cell_type": "markdown",
   "metadata": {},
   "source": [
    "# K means clustering with cosine simmilarity with k = 3 <br>\n",
    "Here vectorized corpus is passed as normalised vectorized corpus and then we used the same code as for 3(a) beacuse\n",
    "It should be the same, for normalized vectors cosine similarity and euclidean similarity are connected linearly. Here's the explanation:<br>\n",
    "\n",
    "Cosine distance is actually cosine similarity: cos(x,y)=∑xiyi/(∑x(i)^2∑y(i)^2)^(1/2).<br>\n",
    "\n",
    "Now, let's see what we can do with euclidean distance for normalized vectors (∑x(i)^2=∑y(i)^2=1):<br>\n",
    "\n",
    "||x−y||2=∑(xi−yi)2=∑(x2i+y2i−2xiyi)=∑x2i+∑y2i−2∑xiyi=1+1−2cos(x,y)=2(1−cos(x,y))<br>\n",
    "Note that for normalized vectors cos(x,y)=∑xiyi∑x2i∑y2i√=∑xiyi<br>\n",
    "\n",
    "For more refrence https://stats.stackexchange.com/questions/299013/cosine-distance-as-similarity-measure-in-kmeans"
   ]
  },
  {
   "cell_type": "markdown",
   "metadata": {},
   "source": [
    "clusters in the form of list"
   ]
  },
  {
   "cell_type": "code",
   "execution_count": 64,
   "metadata": {},
   "outputs": [
    {
     "name": "stdout",
     "output_type": "stream",
     "text": [
      "[0, 1, 2, 1, 0, 1, 0, 0, 1, 1, 2, 1, 1, 1, 0, 2, 1, 2, 0, 1, 0, 1, 2, 0, 1, 1, 0, 0, 0, 1, 1, 1, 0, 1, 0, 1, 1, 0, 1, 0, 0, 0, 0, 2, 1, 2, 0, 0, 1, 1, 1, 1, 1, 2, 0, 0, 1, 0, 0, 0, 1, 1, 1, 0, 2, 1, 0, 0, 1, 1, 1, 0, 1, 0, 1, 1, 2, 1, 2, 2, 1, 0, 1, 0, 1, 0, 0, 0, 1, 2, 0, 0, 2, 0, 0, 1, 0, 0, 0, 0, 0, 1, 1, 0, 0, 0, 1, 1, 1, 0, 0, 1, 2, 2, 1, 0, 1, 0, 0, 1, 0, 1, 0, 0, 1, 1, 0, 0, 1, 1, 1, 2, 0, 0, 0, 1, 1, 2, 0, 1, 2, 0, 1, 0, 1, 1, 0, 2, 1, 2, 0, 0, 1, 2, 2, 2, 1, 1, 1, 1, 1, 1, 0, 1, 2, 1, 0, 0, 1, 0, 1, 1, 0, 1, 0, 0, 0, 0, 2, 0, 2, 0, 1, 0, 1, 1, 0, 1, 1, 0, 1, 0, 0, 0, 0, 0, 1, 2, 2, 0, 1, 2, 1, 2, 1, 1, 2, 0, 1, 0, 0, 0, 0, 1, 1, 0, 1, 0, 0, 1, 1, 1, 0, 2, 1, 1, 0, 2, 1, 0, 1, 0, 2, 1, 2, 0, 1, 0, 1, 0, 0, 0, 0, 2, 2, 1, 1, 1, 0, 2, 0, 1, 1, 0, 2, 1, 1, 1, 2, 0, 0, 2, 1, 0, 2, 0, 0, 1, 1, 1, 2, 1, 2, 1, 1, 1, 0, 0, 2, 2, 1, 1, 1, 0, 0, 1, 1, 2, 0, 0, 1, 2, 0, 0, 2, 2, 0, 0, 1, 1, 1, 0, 0, 0, 1, 0, 2, 0, 2, 0, 1, 0, 0, 2, 0, 2, 1, 1, 1, 1, 0, 0, 0, 0, 1, 0, 1, 0, 0, 1, 1, 0, 0, 0, 0, 1, 0, 0, 0, 0, 0, 1, 0, 0, 1, 0, 1, 1, 0, 2, 1, 0, 0, 0, 0, 1, 1, 0, 0, 1, 0, 1, 2, 2, 2, 0, 1, 1, 1, 0, 1, 1, 1, 0, 1, 0, 0, 1, 0, 0, 0, 1, 1, 0, 1, 0, 0, 1, 2, 1, 2, 1, 0, 0, 1, 1, 0, 0, 0, 0, 1, 0, 0, 0, 0, 1, 0, 2, 1, 2, 1, 0, 0, 0, 0, 0, 0, 2, 1, 0, 2, 2, 0, 1, 0, 1, 0, 1, 1, 0, 0, 0, 1, 1, 1, 0, 0, 0, 0, 0, 0, 0, 0, 1, 1, 0, 1, 1, 1, 0, 1, 1, 0, 2, 0, 0, 1, 0, 1, 0, 0, 0, 2, 1, 1, 1, 1, 1, 0, 0, 1, 1, 0, 1, 0, 0, 1, 2, 2, 0, 0, 0, 0, 2, 0, 1, 0, 0, 0, 0, 0, 2, 1, 0, 1, 1, 0, 1, 2, 0, 0, 0, 0, 0, 2, 1, 0, 0, 2, 2, 0, 1, 0, 2, 2, 2, 1, 2, 0, 0, 2, 1, 2, 1, 0, 1, 2, 0, 0, 0, 2, 0, 2, 0, 1, 1, 0, 2, 2, 0, 1, 0, 0, 0, 1, 0, 1, 2, 0, 1, 0, 0, 2, 0, 0, 2, 1, 2, 0, 2, 1, 0, 2, 2, 1, 2, 2, 2, 1, 0, 0, 1, 1, 1, 1, 0, 2, 1, 2, 2, 1, 2, 1, 1, 2, 2, 2, 0, 1, 0, 2, 2, 0, 2, 1, 0, 2, 2, 1, 0, 1, 2, 1, 0, 1, 2, 1, 2, 1, 0, 2, 1, 0, 1, 1, 0, 0, 2, 2, 1, 1, 1, 1, 1, 1, 0, 0, 0, 0, 2, 0, 0, 0, 0, 1, 0, 1, 1, 0, 0, 0, 0, 0, 1, 0, 0, 1, 1, 0, 2, 1, 1, 1, 1, 1, 0, 1, 0, 1, 2, 1, 0, 0, 1, 2, 1, 1, 1, 1, 1, 1, 0, 0, 0, 0, 0, 1, 0, 1, 1, 0, 0, 1, 0, 0, 0, 0, 0, 1, 1, 0, 1, 1, 1, 0, 1, 1, 1, 0, 0, 2, 1, 1, 0, 0, 1, 0, 0, 1, 0, 1, 1, 0, 1, 0, 2, 1, 1, 2, 1, 0, 0, 0, 0, 0, 0, 0, 0, 0, 1, 0, 1, 1, 1, 0, 0, 2, 0, 0, 0, 0, 1, 1, 1, 0, 1, 1, 0, 1, 1, 1, 0, 0, 0, 0, 1, 1, 0, 1, 0, 0, 0, 1, 1, 0, 2, 1, 0, 0, 1, 1, 1, 0, 2, 0, 0, 1, 0, 0, 1, 0, 0, 1, 1, 1, 1, 0, 1, 0, 1, 0, 0, 1, 2, 0, 1, 1, 1, 0, 0, 0, 1, 1, 0, 1, 0, 0, 0, 0, 1, 1, 0, 1, 1, 0, 0, 0, 0, 0, 1, 0, 1, 0, 0, 0, 0, 1, 0, 1, 1, 0, 1, 0, 0, 0, 1, 1, 1, 1, 1, 0, 1, 2, 0, 0, 0, 0, 0, 1, 1, 1, 0, 0, 0, 1, 1, 1, 0, 1, 0, 0, 0, 0, 1, 0, 1, 1, 0, 0, 0, 0, 1, 0, 2, 0, 1, 0, 0, 2, 0, 1, 0, 1, 0, 0, 1, 0, 0, 1, 0, 0, 0, 1, 0, 0, 0, 0, 0, 1, 0, 0, 0, 1, 1, 0, 0, 0, 1, 1, 1, 0, 1, 0, 1, 0, 0, 0, 0, 0, 0, 0, 0, 1, 1, 1, 0, 0, 1, 1, 1, 1, 0, 0, 1, 0, 1, 0, 1, 1, 1, 1, 1, 0, 0, 0, 1, 0, 1, 0, 0, 0, 0, 1, 2, 0, 1, 1, 1, 1, 0, 1, 0, 1, 0, 0, 0, 0, 0, 1, 1, 0, 0, 0, 0, 0, 0, 0, 1, 2, 0, 0, 2, 0, 1, 0, 1, 1, 0, 0, 0, 1, 1, 1, 1, 1, 1, 0, 2, 1, 0, 0, 1, 1, 1, 0, 1, 1, 1, 0, 0, 0, 1, 1, 1, 0, 0, 1, 1, 0, 1, 2, 1, 1, 0, 1, 1, 0, 0, 0, 0, 0, 0, 0, 0, 1, 0, 0, 1, 1, 0, 1, 0, 0, 1, 0, 0, 0, 0, 0, 0, 1, 0, 1, 1, 1, 0, 2, 2, 2, 2, 2, 2, 2, 2, 2, 2]\n"
     ]
    }
   ],
   "source": [
    "kMeansAlgo(3,normalisedVC)"
   ]
  },
  {
   "cell_type": "code",
   "execution_count": 65,
   "metadata": {},
   "outputs": [],
   "source": [
    "from sklearn.cluster import AgglomerativeClustering"
   ]
  },
  {
   "cell_type": "code",
   "execution_count": 66,
   "metadata": {},
   "outputs": [],
   "source": [
    "import scipy"
   ]
  },
  {
   "cell_type": "markdown",
   "metadata": {},
   "source": [
    "Modules for making linkage matrix"
   ]
  },
  {
   "cell_type": "code",
   "execution_count": 67,
   "metadata": {},
   "outputs": [],
   "source": [
    "def dendogram_ward_linkage(originalVC, k): \n",
    "    cluster = AgglomerativeClustering(n_clusters=k, affinity='euclidean',linkage='ward')\n",
    "    linkage_matrix = cluster.fit_predict(orignalVC)\n",
    "    dendrogram(linkage_matrix.astype(np.double))"
   ]
  },
  {
   "cell_type": "code",
   "execution_count": 68,
   "metadata": {},
   "outputs": [],
   "source": [
    "def get_distances(X,model,mode='l2'):\n",
    "    distances = []\n",
    "    weights = []\n",
    "    children=model.children_\n",
    "    dims = (X.shape[1],1)\n",
    "    distCache = {}\n",
    "    weightCache = {}\n",
    "    for childs in children:\n",
    "        c1 = X[childs[0]].reshape(dims)\n",
    "        c2 = X[childs[1]].reshape(dims)\n",
    "        c1Dist = 0\n",
    "        c1W = 1\n",
    "        c2Dist = 0\n",
    "        c2W = 1\n",
    "        if childs[0] in distCache.keys():\n",
    "            c1Dist = distCache[childs[0]]\n",
    "            c1W = weightCache[childs[0]]\n",
    "        if childs[1] in distCache.keys():\n",
    "            c2Dist = distCache[childs[1]]\n",
    "            c2W = weightCache[childs[1]]\n",
    "        d = np.linalg.norm(c1-c2)\n",
    "        cc = ((c1W*c1)+(c2W*c2))/(c1W+c2W)\n",
    "\n",
    "        X = np.vstack((X,cc.T))\n",
    "\n",
    "        newChild_id = X.shape[0]-1\n",
    "\n",
    "        # How to deal with a higher level cluster merge with lower distance:\n",
    "        if mode=='l2':  # Increase the higher level cluster size suing an l2 norm\n",
    "            added_dist = (c1Dist**2+c2Dist**2)**0.5 \n",
    "            dNew = (d**2 + added_dist**2)**0.5\n",
    "        elif mode == 'max':  # If the previrous clusters had higher distance, use that one\n",
    "            dNew = max(d,c1Dist,c2Dist)\n",
    "        elif mode == 'actual':  # Plot the actual distance.\n",
    "            dNew = d\n",
    "\n",
    "\n",
    "        wNew = (c1W + c2W)\n",
    "        distCache[newChild_id] = dNew\n",
    "        weightCache[newChild_id] = wNew\n",
    "\n",
    "        distances.append(dNew)\n",
    "        weights.append( wNew)\n",
    "    return distances, weights\n"
   ]
  },
  {
   "cell_type": "markdown",
   "metadata": {},
   "source": [
    "Module for showing dendrograms with input as k , agglomerative clustering type and vectorized corpus"
   ]
  },
  {
   "cell_type": "code",
   "execution_count": 69,
   "metadata": {},
   "outputs": [],
   "source": [
    "def dendrogram_ag(k,ltype,vc):    \n",
    "    model = AgglomerativeClustering(n_clusters=k, affinity='euclidean',linkage=ltype)\n",
    "    linkage_matrix = model.fit_predict(vc)\n",
    "    distances, weights = get_distances(vc, model)\n",
    "    linkage_matrix = np.column_stack([model.children_, distances, weights]).astype(float)\n",
    "    plt.figure(figsize=(20,10))\n",
    "    dendrogram(linkage_matrix)\n",
    "    plt.show()\n"
   ]
  },
  {
   "cell_type": "markdown",
   "metadata": {},
   "source": [
    "# Single  Agg Clustering"
   ]
  },
  {
   "cell_type": "code",
   "execution_count": 70,
   "metadata": {
    "scrolled": true
   },
   "outputs": [
    {
     "data": {
      "image/png": "[encoded data removed]",
      "text/plain": [
       "<Figure size 1440x720 with 1 Axes>"
      ]
     },
     "metadata": {
      "needs_background": "light"
     },
     "output_type": "display_data"
    }
   ],
   "source": [
    "dendrogram_ag(4,\"single\",vc)"
   ]
  },
  {
   "cell_type": "markdown",
   "metadata": {},
   "source": [
    "# Average Agg Clustering"
   ]
  },
  {
   "cell_type": "code",
   "execution_count": 63,
   "metadata": {
    "scrolled": true
   },
   "outputs": [
    {
     "data": {
      "image/png": "[encoded data removed]",
      "text/plain": [
       "<Figure size 1440x720 with 1 Axes>"
      ]
     },
     "metadata": {
      "needs_background": "light"
     },
     "output_type": "display_data"
    }
   ],
   "source": [
    "dendrogram_ag(4,\"average\",vc)"
   ]
  },
  {
   "cell_type": "markdown",
   "metadata": {},
   "source": [
    "# Complete Agg Clustering "
   ]
  },
  {
   "cell_type": "code",
   "execution_count": 71,
   "metadata": {
    "scrolled": true
   },
   "outputs": [
    {
     "data": {
      "image/png": "[encoded data removed]",
      "text/plain": [
       "<Figure size 1440x720 with 1 Axes>"
      ]
     },
     "metadata": {
      "needs_background": "light"
     },
     "output_type": "display_data"
    }
   ],
   "source": [
    "dendrogram_ag(4,\"complete\",vc)"
   ]
  },
  {
   "cell_type": "markdown",
   "metadata": {},
   "source": [
    "# Ward Agglomerative clustering"
   ]
  },
  {
   "cell_type": "code",
   "execution_count": 72,
   "metadata": {
    "scrolled": true
   },
   "outputs": [
    {
     "data": {
      "image/png": "[encoded data removed]",
      "text/plain": [
       "<Figure size 1440x720 with 1 Axes>"
      ]
     },
     "metadata": {
      "needs_background": "light"
     },
     "output_type": "display_data"
    }
   ],
   "source": [
    "dendrogram_ag(4,\"ward\",vc)"
   ]
  },
  {
   "cell_type": "markdown",
   "metadata": {},
   "source": []
  },
  {
   "cell_type": "markdown",
   "metadata": {},
   "source": [
    "# Finding the best K"
   ]
  },
  {
   "cell_type": "markdown",
   "metadata": {},
   "source": [
    "\n",
    "# The “Elbow” Method\n",
    "Probably the most well known method, the elbow method, in which the cost at each number of clusters is calculated and graphed, and the user looks for a change of slope from steep to shallow (an elbow) to determine the optimal number of clusters. This method is inexact, but still potentially helpful.<br>\n",
    "\n",
    "# Our aim is to minimize intrasimmilairty and to maximize intersimmilarity (as both of them are  distance based).\n",
    "So by looking at both the values we will be predicting the value of k . <br>\n",
    "\n",
    "Module for Calculating Intersimilarity<br>\n",
    "Intrasimilarity is calculated using intertia_ for k means algo and using get Intra similarity with euclidean system as the cost calculation criteria.\n"
   ]
  },
  {
   "cell_type": "code",
   "execution_count": 73,
   "metadata": {},
   "outputs": [],
   "source": [
    "def intersimilarity(centres,labels,vc,similarity_measure='euclidean'):\n",
    "    dist = 0\n",
    "    for point_index in range(len(vc)):\n",
    "        for cluster_index in range(len(centres)):\n",
    "            if(labels[point_index]!=cluster_index):\n",
    "                if(similarity_measure=='euclidean'):\n",
    "                    dist+=np.linalg.norm(vc[point_index]-centres[cluster_index])**2\n",
    "    return dist"
   ]
  },
  {
   "cell_type": "markdown",
   "metadata": {},
   "source": [
    "Module for calculating center of clusters "
   ]
  },
  {
   "cell_type": "code",
   "execution_count": 74,
   "metadata": {},
   "outputs": [],
   "source": [
    "def get_cluster_centers(labels,vc):\n",
    "    s = {}\n",
    "    c = {}\n",
    "    centers = []\n",
    "    for point_index in range(len(vc)):\n",
    "        if(labels[point_index] in s):\n",
    "            s[labels[point_index]]+=vc[point_index]\n",
    "            c[labels[point_index]]+=1\n",
    "        else:\n",
    "            s[labels[point_index]]=vc[point_index]\n",
    "            c[labels[point_index]]=1\n",
    "    for i in np.unique(labels):\n",
    "        centers.append(s[i]/c[i])\n",
    "    return np.array(centers)     "
   ]
  },
  {
   "cell_type": "markdown",
   "metadata": {},
   "source": [
    "Module for calculating intrasimilarity"
   ]
  },
  {
   "cell_type": "code",
   "execution_count": 75,
   "metadata": {},
   "outputs": [],
   "source": [
    "def intrasimilarity(centres,labels,vc,similarity_measure='euclidean'):\n",
    "    dist = 0\n",
    "    for point_index in range(len(vc)):\n",
    "        for cluster_index in range(len(centres)):\n",
    "            if(labels[point_index]==cluster_index):\n",
    "                if(similarity_measure=='euclidean'):\n",
    "                    dist+=(np.linalg.norm(vc[point_index]-centres[cluster_index]))**2\n",
    "    return dist"
   ]
  },
  {
   "cell_type": "markdown",
   "metadata": {},
   "source": [
    "# From here we will start calculating inter and intra simillarity for different clustering algo shown in previous part .\n",
    "# We will be storing k values , intrasimilarity  and intersimilarity values in these variables.\n",
    "# Please click on the cell to get better view\n",
    "\n",
    " CLUSTERING NAME                          K                            INTER                           INTRA <br>\n",
    "K MEANS EUCLIDEAN                       k_vals                         inter                          intra<br>\n",
    "K Means Cosine                          k_vals2                        inter2                         intra2<br>\n",
    "Agglomerative Single                    k_vals3                        inter3                         intra3<br>\n",
    "Agglomerative Average                   k_vals4                        inter4                         intra4<br>\n",
    "Agglomerative Complete                  k_valsComplete                interComplete                  intraComplete<br>\n",
    "Agglomerative Ward                      k_valsWard                    interWard                      intraWard<br>\n",
    "\n",
    "\n",
    "# Computation starts here \n",
    "\n"
   ]
  },
  {
   "cell_type": "markdown",
   "metadata": {},
   "source": [
    "# KMeans Clustering :  eucledian "
   ]
  },
  {
   "cell_type": "code",
   "execution_count": 157,
   "metadata": {},
   "outputs": [],
   "source": [
    "vc = normalisedVC"
   ]
  },
  {
   "cell_type": "code",
   "execution_count": 159,
   "metadata": {
    "scrolled": false
   },
   "outputs": [
    {
     "name": "stderr",
     "output_type": "stream",
     "text": [
      "\n",
      "\n",
      "\n",
      "  0%|                                                                                           | 0/19 [00:00<?, ?it/s]\n",
      "\n",
      "\n",
      "  5%|████▎                                                                              | 1/19 [00:16<04:51, 16.18s/it]\n",
      "\n",
      "\n",
      " 11%|████████▋                                                                          | 2/19 [00:36<04:54, 17.33s/it]\n",
      "\n",
      "\n",
      " 16%|█████████████                                                                      | 3/19 [00:57<04:56, 18.52s/it]\n",
      "\n",
      "\n",
      " 21%|█████████████████▍                                                                 | 4/19 [01:21<05:03, 20.20s/it]\n",
      "\n",
      "\n",
      " 26%|█████████████████████▊                                                             | 5/19 [01:49<05:15, 22.51s/it]\n",
      "\n",
      "\n",
      " 32%|██████████████████████████▏                                                        | 6/19 [02:21<05:27, 25.21s/it]\n",
      "\n",
      "\n",
      " 37%|██████████████████████████████▌                                                    | 7/19 [02:54<05:30, 27.55s/it]\n",
      "\n",
      "\n",
      " 42%|██████████████████████████████████▉                                                | 8/19 [03:29<05:29, 29.95s/it]\n",
      "\n",
      "\n",
      " 47%|███████████████████████████████████████▎                                           | 9/19 [04:07<05:24, 32.43s/it]\n",
      "\n",
      "\n",
      " 53%|███████████████████████████████████████████▏                                      | 10/19 [04:48<05:14, 34.99s/it]\n",
      "\n",
      "\n",
      " 58%|███████████████████████████████████████████████▍                                  | 11/19 [05:32<05:00, 37.56s/it]\n",
      "\n",
      "\n",
      " 63%|███████████████████████████████████████████████████▊                              | 12/19 [06:18<04:40, 40.07s/it]\n",
      "\n",
      "\n",
      " 68%|████████████████████████████████████████████████████████                          | 13/19 [07:08<04:18, 43.04s/it]\n",
      "\n",
      "\n",
      " 74%|████████████████████████████████████████████████████████████▍                     | 14/19 [07:59<03:47, 45.58s/it]\n",
      "\n",
      "\n",
      " 79%|████████████████████████████████████████████████████████████████▋                 | 15/19 [08:54<03:13, 48.42s/it]\n",
      "\n",
      "\n",
      " 84%|█████████████████████████████████████████████████████████████████████             | 16/19 [09:52<02:33, 51.24s/it]\n",
      "\n",
      "\n",
      " 89%|█████████████████████████████████████████████████████████████████████████▎        | 17/19 [10:52<01:47, 53.93s/it]\n",
      "\n",
      "\n",
      " 95%|█████████████████████████████████████████████████████████████████████████████▋    | 18/19 [11:55<00:56, 56.62s/it]\n",
      "\n",
      "\n",
      "100%|██████████████████████████████████████████████████████████████████████████████████| 19/19 [13:01<00:00, 41.15s/it]\n"
     ]
    }
   ],
   "source": [
    "\n",
    "k_vals = []\n",
    "inter = []\n",
    "intra = []\n",
    "for k in tqdm(range(2, 40, 2)):\n",
    "    km=KMeans(k,max_iter=150)\n",
    "    km.fit(vc)\n",
    "    k_vals.append(k)\n",
    "    intra.append(km.inertia_/k)\n",
    "    inter.append(intersimilarity(km.cluster_centers_,km.labels_,vc)/k)"
   ]
  },
  {
   "cell_type": "code",
   "execution_count": 248,
   "metadata": {
    "scrolled": false
   },
   "outputs": [
    {
     "name": "stdout",
     "output_type": "stream",
     "text": [
      "k       inter-similarity       intra-similarity\n",
      "2       4.217168096786433e+28       8.273266682189163e+31\n",
      "4       2.40651626884689e+27       9.45183802113745e+31\n",
      "6       1.6552863445773806e+26       6.768025480204532e+31\n",
      "8       1.7514199715921483e+25       5.1058517304882865e+31\n",
      "10       4.210649038328042e+24       4.115956224483229e+31\n",
      "12       4.481531512049096e+23       3.4370511412922337e+31\n",
      "14       1.1001830927184926e+23       3.0269545227475625e+31\n",
      "16       3.2927700868510136e+22       2.653563321520401e+31\n",
      "18       9.330275190242172e+21       2.363130187656177e+31\n",
      "20       5.3028817667259715e+20       2.1307674230008405e+31\n",
      "22       6.323581217086714e+19       1.9406553387518998e+31\n",
      "24       3.527435348074156e+18       1.78223096684442e+31\n",
      "26       1.1751119566354293e+17       1.6481803967201807e+31\n",
      "28       1.0340472692277068e+16       1.5332799117949494e+31\n",
      "30       1762685173353639.8       1.4336995337931076e+31\n",
      "32       103382250349609.22       1.3465667244247911e+31\n",
      "34       17653244455085.188       1.269684834758776e+31\n",
      "36       3775243317005.9194       1.201345377659831e+31\n",
      "38       1246344853635.855       1.1401995478528009e+31\n"
     ]
    }
   ],
   "source": [
    "print(\"k       inter-similarity       intra-similarity\")\n",
    "for ind,k in enumerate(k_vals):\n",
    "    print(str(k)+\"       \"+str(intra[ind])+\"       \"+str(inter[ind]))"
   ]
  },
  {
   "cell_type": "code",
   "execution_count": 249,
   "metadata": {},
   "outputs": [
    {
     "data": {
      "image/png": "[encoded data removed]",
      "text/plain": [
       "<Figure size 432x288 with 1 Axes>"
      ]
     },
     "metadata": {
      "needs_background": "light"
     },
     "output_type": "display_data"
    },
    {
     "data": {
      "image/png": "[encoded data removed]",
      "text/plain": [
       "<Figure size 432x288 with 1 Axes>"
      ]
     },
     "metadata": {
      "needs_background": "light"
     },
     "output_type": "display_data"
    }
   ],
   "source": [
    "plt.plot(k_vals,inter,'bx-')\n",
    "#plt.plot(k_valsComplete,intraComplete,c='b',label='Intra-Similarity')\n",
    "plt.xlabel('Values of K') \n",
    "plt.ylabel('InterSim')\n",
    "plt.title('Inter Simmilarity vs k values') \n",
    "plt.show() \n",
    "#plt.plot(k_valsComplete,interComplete,'bx-')\n",
    "plt.plot(k_vals,intra,'bx-')\n",
    "plt.xlabel('Values of K') \n",
    "plt.ylabel('Inter Simmilarity vs k values') \n",
    "plt.show() \n",
    "\n",
    " "
   ]
  },
  {
   "cell_type": "markdown",
   "metadata": {},
   "source": [
    "#answer for k means clustering using euclidean distance \n",
    "Saturation Value for inter = 6 <br>\n",
    "Max Value for intra = 6 <br>\n",
    "Ans : So value of K is 6 \n"
   ]
  },
  {
   "cell_type": "markdown",
   "metadata": {},
   "source": [
    "# KMeans Clustering : cosine simmilarity"
   ]
  },
  {
   "cell_type": "code",
   "execution_count": 164,
   "metadata": {
    "scrolled": true
   },
   "outputs": [
    {
     "name": "stderr",
     "output_type": "stream",
     "text": [
      "\n",
      "\n",
      "\n",
      "  0%|                                                                                           | 0/19 [00:00<?, ?it/s]\n",
      "\n",
      "\n",
      "  5%|████▎                                                                              | 1/19 [00:15<04:45, 15.86s/it]\n",
      "\n",
      "\n",
      " 11%|████████▋                                                                          | 2/19 [00:35<04:50, 17.09s/it]\n",
      "\n",
      "\n",
      " 16%|█████████████                                                                      | 3/19 [00:57<04:53, 18.35s/it]\n",
      "\n",
      "\n",
      " 21%|█████████████████▍                                                                 | 4/19 [01:21<05:02, 20.15s/it]\n",
      "\n",
      "\n",
      " 26%|█████████████████████▊                                                             | 5/19 [01:49<05:14, 22.47s/it]\n",
      "\n",
      "\n",
      " 32%|██████████████████████████▏                                                        | 6/19 [02:20<05:25, 25.02s/it]\n",
      "\n",
      "\n",
      " 37%|██████████████████████████████▌                                                    | 7/19 [02:53<05:30, 27.51s/it]\n",
      "\n",
      "\n",
      " 42%|██████████████████████████████████▉                                                | 8/19 [03:28<05:28, 29.82s/it]\n",
      "\n",
      "\n",
      " 47%|███████████████████████████████████████▎                                           | 9/19 [04:06<05:22, 32.24s/it]\n",
      "\n",
      "\n",
      " 53%|███████████████████████████████████████████▏                                      | 10/19 [04:47<05:13, 34.86s/it]\n",
      "\n",
      "\n",
      " 58%|███████████████████████████████████████████████▍                                  | 11/19 [05:32<05:01, 37.75s/it]\n",
      "\n",
      "\n",
      " 63%|███████████████████████████████████████████████████▊                              | 12/19 [06:18<04:42, 40.35s/it]\n",
      "\n",
      "\n",
      " 68%|████████████████████████████████████████████████████████                          | 13/19 [07:09<04:20, 43.46s/it]\n",
      "\n",
      "\n",
      " 74%|████████████████████████████████████████████████████████████▍                     | 14/19 [08:01<03:49, 45.93s/it]\n",
      "\n",
      "\n",
      " 79%|████████████████████████████████████████████████████████████████▋                 | 15/19 [08:56<03:15, 48.76s/it]\n",
      "\n",
      "\n",
      " 84%|█████████████████████████████████████████████████████████████████████             | 16/19 [09:54<02:34, 51.64s/it]\n",
      "\n",
      "\n",
      " 89%|█████████████████████████████████████████████████████████████████████████▎        | 17/19 [10:55<01:48, 54.50s/it]\n",
      "\n",
      "\n",
      " 95%|█████████████████████████████████████████████████████████████████████████████▋    | 18/19 [11:59<00:57, 57.16s/it]\n",
      "\n",
      "\n",
      "100%|██████████████████████████████████████████████████████████████████████████████████| 19/19 [13:05<00:00, 41.34s/it]\n"
     ]
    }
   ],
   "source": [
    "k_vals2 = []\n",
    "inter2 = []\n",
    "intra2 = []\n",
    "for k in tqdm(range(2,40,2)):\n",
    "    km=KMeans(k,max_iter=150)\n",
    "    km.fit(normalisedVC)\n",
    "    k_vals2.append(k)\n",
    "    intra2.append(km.inertia_/k)\n",
    "    inter2.append(intersimilarity(km.cluster_centers_,km.labels_,vc)/k)"
   ]
  },
  {
   "cell_type": "code",
   "execution_count": 168,
   "metadata": {},
   "outputs": [
    {
     "name": "stdout",
     "output_type": "stream",
     "text": [
      "k       inter-similarity       intra-similarity\n",
      "2       4.217168096786433e+28       8.273266682189163e+31\n",
      "4       2.40651626884689e+27       9.45183802113745e+31\n",
      "6       1.6552863445773806e+26       6.768025480204532e+31\n",
      "8       1.7514199715921483e+25       5.1058517304882865e+31\n",
      "10       4.210649038328042e+24       4.115956224483229e+31\n",
      "12       4.481531512049096e+23       3.437051141292234e+31\n",
      "14       1.1001830927184926e+23       3.026954522747562e+31\n",
      "16       3.2927700868510136e+22       2.653563321520401e+31\n",
      "18       9.330275190242172e+21       2.3631301876561765e+31\n",
      "20       5.3028817667259715e+20       2.1307674230008405e+31\n",
      "22       6.323581217086714e+19       1.9406553387518998e+31\n",
      "24       3.527435348074156e+18       1.78223096684442e+31\n",
      "26       1.1751119566354293e+17       1.6481803967201807e+31\n",
      "28       1.0340472692277068e+16       1.5332799117949494e+31\n",
      "30       1762685173353639.8       1.4336995337931076e+31\n",
      "32       103382250349609.22       1.3465667244247911e+31\n",
      "34       17653244455085.188       1.269684834758776e+31\n",
      "36       3775243317005.9194       1.201345377659831e+31\n",
      "38       1235245010279.5312       1.140199547849913e+31\n"
     ]
    }
   ],
   "source": [
    "print(\"k       inter-similarity       intra-similarity\")\n",
    "for ind,k in enumerate(k_vals2):\n",
    "    print(str(k)+\"       \"+str(intra2[ind])+\"       \"+str(inter2[ind]))"
   ]
  },
  {
   "cell_type": "code",
   "execution_count": 224,
   "metadata": {},
   "outputs": [
    {
     "data": {
      "image/png": "[encoded data removed]",
      "text/plain": [
       "<Figure size 432x288 with 1 Axes>"
      ]
     },
     "metadata": {
      "needs_background": "light"
     },
     "output_type": "display_data"
    },
    {
     "data": {
      "image/png": "[encoded data removed]",
      "text/plain": [
       "<Figure size 432x288 with 1 Axes>"
      ]
     },
     "metadata": {
      "needs_background": "light"
     },
     "output_type": "display_data"
    }
   ],
   "source": [
    "plt.plot(k_vals2,inter2,'bx-')\n",
    "#plt.plot(k_valsComplete,intraComplete,c='b',label='Intra-Similarity')\n",
    "plt.xlabel('Values of K') \n",
    "plt.ylabel('InterSim')\n",
    "plt.title('Inter Simmilarity vs k values') \n",
    "plt.show() \n",
    "#plt.plot(k_valsComplete,interComplete,'bx-')\n",
    "plt.plot(k_vals2,intra2,'bx-')\n",
    "plt.xlabel('Values of K') \n",
    "plt.ylabel('Inter Simmilarity vs k values') \n",
    "plt.show() "
   ]
  },
  {
   "cell_type": "markdown",
   "metadata": {},
   "source": [
    "#answer for k means clustering using cosine simmilarity\n",
    "Saturation Value for inter = 7 <br>\n",
    "Max Value for intra = 6 <br>\n",
    "Ans : So value of K is 6  or 7 \n"
   ]
  },
  {
   "cell_type": "markdown",
   "metadata": {},
   "source": [
    "# Agglo Clustering : Single"
   ]
  },
  {
   "cell_type": "code",
   "execution_count": 171,
   "metadata": {},
   "outputs": [],
   "source": [
    "k_vals3 = []\n",
    "inter3 = []\n",
    "intra3 = []"
   ]
  },
  {
   "cell_type": "code",
   "execution_count": 172,
   "metadata": {},
   "outputs": [
    {
     "name": "stderr",
     "output_type": "stream",
     "text": [
      "\n",
      "\n",
      "\n",
      "\n",
      "  0%|                                                                                           | 0/19 [00:00<?, ?it/s]\n",
      "\n",
      "\n",
      "\n",
      "  5%|████▎                                                                              | 1/19 [00:49<14:58, 49.90s/it]\n",
      "\n",
      "\n",
      "\n",
      " 11%|████████▋                                                                          | 2/19 [01:39<14:09, 49.96s/it]\n",
      "\n",
      "\n",
      "\n",
      " 16%|█████████████                                                                      | 3/19 [02:29<13:15, 49.72s/it]\n",
      "\n",
      "\n",
      "\n",
      " 21%|█████████████████▍                                                                 | 4/19 [03:18<12:24, 49.63s/it]\n",
      "\n",
      "\n",
      "\n",
      " 26%|█████████████████████▊                                                             | 5/19 [04:08<11:34, 49.60s/it]\n",
      "\n",
      "\n",
      "\n",
      " 32%|██████████████████████████▏                                                        | 6/19 [04:58<10:48, 49.86s/it]\n",
      "\n",
      "\n",
      "\n",
      " 37%|██████████████████████████████▌                                                    | 7/19 [05:48<09:57, 49.83s/it]\n",
      "\n",
      "\n",
      "\n",
      " 42%|██████████████████████████████████▉                                                | 8/19 [06:38<09:08, 49.84s/it]\n",
      "\n",
      "\n",
      "\n",
      " 47%|███████████████████████████████████████▎                                           | 9/19 [07:28<08:19, 49.91s/it]\n",
      "\n",
      "\n",
      "\n",
      " 53%|███████████████████████████████████████████▏                                      | 10/19 [08:19<07:31, 50.21s/it]\n",
      "\n",
      "\n",
      "\n",
      " 58%|███████████████████████████████████████████████▍                                  | 11/19 [09:10<06:43, 50.40s/it]\n",
      "\n",
      "\n",
      "\n",
      " 63%|███████████████████████████████████████████████████▊                              | 12/19 [10:00<05:53, 50.50s/it]\n",
      "\n",
      "\n",
      "\n",
      " 68%|████████████████████████████████████████████████████████                          | 13/19 [10:52<05:04, 50.82s/it]\n",
      "\n",
      "\n",
      "\n",
      " 74%|████████████████████████████████████████████████████████████▍                     | 14/19 [11:43<04:14, 50.84s/it]\n",
      "\n",
      "\n",
      "\n",
      " 79%|████████████████████████████████████████████████████████████████▋                 | 15/19 [12:34<03:23, 50.90s/it]\n",
      "\n",
      "\n",
      "\n",
      " 84%|█████████████████████████████████████████████████████████████████████             | 16/19 [13:25<02:32, 50.98s/it]\n",
      "\n",
      "\n",
      "\n",
      " 89%|█████████████████████████████████████████████████████████████████████████▎        | 17/19 [14:17<01:42, 51.21s/it]\n",
      "\n",
      "\n",
      "\n",
      " 95%|█████████████████████████████████████████████████████████████████████████████▋    | 18/19 [15:08<00:51, 51.32s/it]\n",
      "\n",
      "\n",
      "\n",
      "100%|██████████████████████████████████████████████████████████████████████████████████| 19/19 [16:00<00:00, 50.56s/it]\n"
     ]
    }
   ],
   "source": [
    "for k in tqdm(range(2,40,2)):\n",
    "    cluster = AgglomerativeClustering(n_clusters=k, affinity='euclidean',linkage='single')\n",
    "    cluster.fit_predict(vc)\n",
    "    k_vals3.append(k)\n",
    "    intra3.append(intrasimilarity(get_cluster_centers(cluster.labels_,orignalVC),cluster.labels_,orignalVC)/k)\n",
    "    inter3.append(intersimilarity(get_cluster_centers(cluster.labels_,orignalVC),cluster.labels_,orignalVC)/k)"
   ]
  },
  {
   "cell_type": "code",
   "execution_count": 173,
   "metadata": {},
   "outputs": [
    {
     "name": "stdout",
     "output_type": "stream",
     "text": [
      "k       inter-similarity       intra-similarity\n",
      "2       2.9076019500666746e+30       1.0299974798487777e+33\n",
      "4       3.1528663129422553e+29       4.96715921008326e+33\n",
      "6       3.8182939226225e+28       3.9155678012014466e+33\n",
      "8       1.460455613211688e+28       3.038367995403989e+33\n",
      "10       2.0826405302187215e+27       2.4659833411079766e+33\n",
      "12       2.627607774801544e+26       2.062886086156683e+33\n",
      "14       2.8237416711150975e+25       1.771914916301614e+33\n",
      "16       2.4980528301954986e+24       1.553334919713293e+33\n",
      "18       1.1733966538600589e+23       1.383307477392994e+33\n",
      "20       5.172303610981006e+21       1.247290250823287e+33\n",
      "22       4.1646952955138094e+20       1.136005327576649e+33\n",
      "24       1.7137415017012472e+19       1.0432686110297866e+33\n",
      "26       2.0792165504716403e+18       9.647991955975868e+32\n",
      "28       1.6994938898205123e+17       8.97539720721142e+32\n",
      "30       1.1783200224467626e+16       8.392481834392472e+32\n",
      "32       3208878269378559.0       7.882430900688335e+32\n",
      "34       777330361334417.6       7.432385962655963e+32\n",
      "36       529260385101136.75       7.03234601996712e+32\n",
      "38       85960161951742.02       6.674415545910976e+32\n"
     ]
    }
   ],
   "source": [
    "print(\"k       inter-similarity       intra-similarity\")\n",
    "for ind,k in enumerate(k_vals3):\n",
    "    print(str(k)+\"       \"+str(intra3[ind])+\"       \"+str(inter3[ind]))"
   ]
  },
  {
   "cell_type": "code",
   "execution_count": 222,
   "metadata": {},
   "outputs": [
    {
     "data": {
      "image/png": "[encoded data removed]",
      "text/plain": [
       "<Figure size 432x288 with 1 Axes>"
      ]
     },
     "metadata": {
      "needs_background": "light"
     },
     "output_type": "display_data"
    },
    {
     "data": {
      "image/png": "[encoded data removed]",
      "text/plain": [
       "<Figure size 432x288 with 1 Axes>"
      ]
     },
     "metadata": {
      "needs_background": "light"
     },
     "output_type": "display_data"
    }
   ],
   "source": [
    "plt.plot(k_vals3,inter3,'bx-')\n",
    "#plt.plot(k_valsComplete,intraComplete,c='b',label='Intra-Similarity')\n",
    "plt.xlabel('Values of K') \n",
    "plt.ylabel('InterSim')\n",
    "plt.title('Inter Simmilarity vs k values') \n",
    "plt.show() \n",
    "#plt.plot(k_valsComplete,interComplete,'bx-')\n",
    "plt.plot(k_vals3,intra3,'bx-')\n",
    "plt.xlabel('Values of K') \n",
    "plt.ylabel('Inter Simmilarity vs k values') \n",
    "plt.show() "
   ]
  },
  {
   "cell_type": "markdown",
   "metadata": {},
   "source": [
    "#answer for Agglo Single Clustering <br>\n",
    "Saturation Value for inter = 6 <br>\n",
    "Max Value for intra = 7 <br>\n",
    "Ans : So value of K is 6 or 7  \n"
   ]
  },
  {
   "cell_type": "markdown",
   "metadata": {},
   "source": [
    "# Agglo Clustering : Average"
   ]
  },
  {
   "cell_type": "code",
   "execution_count": 177,
   "metadata": {},
   "outputs": [],
   "source": [
    "k_vals4= []\n",
    "inter4 = []\n",
    "intra4 = []"
   ]
  },
  {
   "cell_type": "code",
   "execution_count": 178,
   "metadata": {},
   "outputs": [
    {
     "name": "stderr",
     "output_type": "stream",
     "text": [
      "\n",
      "\n",
      "\n",
      "\n",
      "  0%|                                                                                           | 0/19 [00:00<?, ?it/s]\n",
      "\n",
      "\n",
      "\n",
      "  5%|████▎                                                                              | 1/19 [00:49<14:42, 49.03s/it]\n",
      "\n",
      "\n",
      "\n",
      " 11%|████████▋                                                                          | 2/19 [01:38<13:54, 49.09s/it]\n",
      "\n",
      "\n",
      "\n",
      " 16%|█████████████                                                                      | 3/19 [02:27<13:07, 49.19s/it]\n",
      "\n",
      "\n",
      "\n",
      " 21%|█████████████████▍                                                                 | 4/19 [03:17<12:20, 49.38s/it]\n",
      "\n",
      "\n",
      "\n",
      " 26%|█████████████████████▊                                                             | 5/19 [04:07<11:33, 49.56s/it]\n",
      "\n",
      "\n",
      "\n",
      " 32%|██████████████████████████▏                                                        | 6/19 [04:57<10:47, 49.79s/it]\n",
      "\n",
      "\n",
      "\n",
      " 37%|██████████████████████████████▌                                                    | 7/19 [05:47<09:58, 49.90s/it]\n",
      "\n",
      "\n",
      "\n",
      " 42%|██████████████████████████████████▉                                                | 8/19 [06:38<09:11, 50.10s/it]\n",
      "\n",
      "\n",
      "\n",
      " 47%|███████████████████████████████████████▎                                           | 9/19 [07:30<08:26, 50.61s/it]\n",
      "\n",
      "\n",
      "\n",
      " 53%|███████████████████████████████████████████▏                                      | 10/19 [08:22<07:40, 51.13s/it]\n",
      "\n",
      "\n",
      "\n",
      " 58%|███████████████████████████████████████████████▍                                  | 11/19 [09:16<06:56, 52.08s/it]\n",
      "\n",
      "\n",
      "\n",
      " 63%|███████████████████████████████████████████████████▊                              | 12/19 [10:08<06:04, 52.00s/it]\n",
      "\n",
      "\n",
      "\n",
      " 68%|████████████████████████████████████████████████████████                          | 13/19 [11:02<05:15, 52.53s/it]\n",
      "\n",
      "\n",
      "\n",
      " 74%|████████████████████████████████████████████████████████████▍                     | 14/19 [11:54<04:22, 52.42s/it]\n",
      "\n",
      "\n",
      "\n",
      " 79%|████████████████████████████████████████████████████████████████▋                 | 15/19 [12:47<03:29, 52.44s/it]\n",
      "\n",
      "\n",
      "\n",
      " 84%|█████████████████████████████████████████████████████████████████████             | 16/19 [13:39<02:37, 52.54s/it]\n",
      "\n",
      "\n",
      "\n",
      " 89%|█████████████████████████████████████████████████████████████████████████▎        | 17/19 [14:32<01:45, 52.63s/it]\n",
      "\n",
      "\n",
      "\n",
      " 95%|█████████████████████████████████████████████████████████████████████████████▋    | 18/19 [15:27<00:53, 53.22s/it]\n",
      "\n",
      "\n",
      "\n",
      "100%|██████████████████████████████████████████████████████████████████████████████████| 19/19 [16:20<00:00, 51.59s/it]\n"
     ]
    }
   ],
   "source": [
    "for k in tqdm(range(2,40,2)):\n",
    "    cluster = AgglomerativeClustering(n_clusters=k, affinity='euclidean',linkage='average')\n",
    "    cluster.fit_predict(vc)\n",
    "    k_vals4.append(k)\n",
    "    intra4.append(intrasimilarity(get_cluster_centers(cluster.labels_,orignalVC),cluster.labels_,orignalVC)/k)\n",
    "    inter4.append(intersimilarity(get_cluster_centers(cluster.labels_,orignalVC),cluster.labels_,orignalVC)/k)"
   ]
  },
  {
   "cell_type": "code",
   "execution_count": 179,
   "metadata": {
    "scrolled": true
   },
   "outputs": [
    {
     "name": "stdout",
     "output_type": "stream",
     "text": [
      "k       inter-similarity       intra-similarity\n",
      "2       2.2229362239948056e+31       8.673916816829239e+33\n",
      "4       2.6454583088869815e+30       3.858211681908151e+34\n",
      "6       3.1591004336064993e+29       3.1217236721485274e+34\n",
      "8       1.010262535895655e+29       2.4831059622858905e+34\n",
      "10       3.4123394264406224e+29       2.0396583070914652e+34\n",
      "12       2.5128627455712653e+30       2.0214232149501139e+34\n",
      "14       2.2254443818588387e+26       3.5146592537149255e+34\n",
      "16       6.669657351765842e+24       3.0810461324864953e+34\n",
      "18       4.2276849207435943e+24       2.743792878192142e+34\n",
      "20       3.479171688754275e+22       2.4739999379206045e+34\n",
      "22       2.3737831014394484e+21       2.2532671326454185e+34\n",
      "24       8.682671954319587e+20       2.0693235343206544e+34\n",
      "26       1.5195962200838875e+19       1.9136790994672187e+34\n",
      "28       6.225411545902287e+17       1.7802697069926822e+34\n",
      "30       2.381422312524154e+17       1.6646482418220078e+34\n",
      "32       3.923828960967994e+16       1.563479462524048e+34\n",
      "34       6836804195541898.0       1.4742128934064344e+34\n",
      "36       1.4785452681585782e+16       1.3948648321312955e+34\n",
      "38       1780433834226810.0       1.323869198380876e+34\n"
     ]
    }
   ],
   "source": [
    "print(\"k       inter-similarity       intra-similarity\")\n",
    "for ind,k in enumerate(k_vals4):\n",
    "    print(str(k)+\"       \"+str(intra4[ind])+\"       \"+str(inter4[ind]))"
   ]
  },
  {
   "cell_type": "code",
   "execution_count": 250,
   "metadata": {},
   "outputs": [
    {
     "data": {
      "image/png": "[encoded data removed]",
      "text/plain": [
       "<Figure size 432x288 with 1 Axes>"
      ]
     },
     "metadata": {
      "needs_background": "light"
     },
     "output_type": "display_data"
    },
    {
     "data": {
      "image/png": "[encoded data removed]",
      "text/plain": [
       "<Figure size 432x288 with 1 Axes>"
      ]
     },
     "metadata": {
      "needs_background": "light"
     },
     "output_type": "display_data"
    }
   ],
   "source": [
    "plt.plot(k_vals4,inter4,'bx-')\n",
    "plt.xlabel('Values of K') \n",
    "plt.ylabel('InterSim')\n",
    "plt.title('Inter Simmilarity vs k values') \n",
    "plt.show() \n",
    "\n",
    "plt.plot(k_vals4,intra4,'bx-')\n",
    "plt.xlabel('Values of K') \n",
    "plt.ylabel('Inter Simmilarity vs k values') \n",
    "plt.show() "
   ]
  },
  {
   "cell_type": "markdown",
   "metadata": {},
   "source": [
    "#answer for Agglo Average Clustering <br>\n",
    "Saturation Value for inter = 6 <br>\n",
    "Max Value for intra = 6 <br>\n",
    "Ans : So value of K is 6   \n"
   ]
  },
  {
   "cell_type": "markdown",
   "metadata": {},
   "source": [
    "# Agglo Clustering : Complete"
   ]
  },
  {
   "cell_type": "code",
   "execution_count": 183,
   "metadata": {},
   "outputs": [],
   "source": [
    "k_valsComplete = []\n",
    "interComplete = []\n",
    "intraComplete = []"
   ]
  },
  {
   "cell_type": "code",
   "execution_count": 184,
   "metadata": {
    "scrolled": true
   },
   "outputs": [
    {
     "name": "stderr",
     "output_type": "stream",
     "text": [
      "\n",
      "\n",
      "\n",
      "\n",
      "  0%|                                                                                           | 0/19 [00:00<?, ?it/s]\n",
      "\n",
      "\n",
      "\n",
      "  5%|████▎                                                                              | 1/19 [00:49<14:53, 49.63s/it]\n",
      "\n",
      "\n",
      "\n",
      " 11%|████████▋                                                                          | 2/19 [01:39<14:07, 49.83s/it]\n",
      "\n",
      "\n",
      "\n",
      " 16%|█████████████                                                                      | 3/19 [02:32<13:32, 50.80s/it]\n",
      "\n",
      "\n",
      "\n",
      " 21%|█████████████████▍                                                                 | 4/19 [03:26<12:53, 51.53s/it]\n",
      "\n",
      "\n",
      "\n",
      " 26%|█████████████████████▊                                                             | 5/19 [04:19<12:09, 52.10s/it]\n",
      "\n",
      "\n",
      "\n",
      " 32%|██████████████████████████▏                                                        | 6/19 [05:12<11:20, 52.34s/it]\n",
      "\n",
      "\n",
      "\n",
      " 37%|██████████████████████████████▌                                                    | 7/19 [06:04<10:26, 52.24s/it]\n",
      "\n",
      "\n",
      "\n",
      " 42%|██████████████████████████████████▉                                                | 8/19 [06:54<09:28, 51.68s/it]\n",
      "\n",
      "\n",
      "\n",
      " 47%|███████████████████████████████████████▎                                           | 9/19 [07:45<08:33, 51.38s/it]\n",
      "\n",
      "\n",
      "\n",
      " 53%|███████████████████████████████████████████▏                                      | 10/19 [08:37<07:42, 51.41s/it]\n",
      "\n",
      "\n",
      "\n",
      " 58%|███████████████████████████████████████████████▍                                  | 11/19 [09:28<06:51, 51.45s/it]\n",
      "\n",
      "\n",
      "\n",
      " 63%|███████████████████████████████████████████████████▊                              | 12/19 [10:19<05:58, 51.25s/it]\n",
      "\n",
      "\n",
      "\n",
      " 68%|████████████████████████████████████████████████████████                          | 13/19 [11:13<05:13, 52.19s/it]\n",
      "\n",
      "\n",
      "\n",
      " 74%|████████████████████████████████████████████████████████████▍                     | 14/19 [12:04<04:19, 51.86s/it]\n",
      "\n",
      "\n",
      "\n",
      " 79%|████████████████████████████████████████████████████████████████▋                 | 15/19 [12:56<03:26, 51.67s/it]\n",
      "\n",
      "\n",
      "\n",
      " 84%|█████████████████████████████████████████████████████████████████████             | 16/19 [13:48<02:35, 51.99s/it]\n",
      "\n",
      "\n",
      "\n",
      " 89%|█████████████████████████████████████████████████████████████████████████▎        | 17/19 [14:40<01:43, 51.86s/it]\n",
      "\n",
      "\n",
      "\n",
      " 95%|█████████████████████████████████████████████████████████████████████████████▋    | 18/19 [15:32<00:51, 51.82s/it]\n",
      "\n",
      "\n",
      "\n",
      "100%|██████████████████████████████████████████████████████████████████████████████████| 19/19 [16:24<00:00, 51.79s/it]\n"
     ]
    }
   ],
   "source": [
    "for k in tqdm(range(2,40,2)):\n",
    "    cluster = AgglomerativeClustering(n_clusters=k, affinity='euclidean',linkage='complete')\n",
    "    cluster.fit_predict(vc)\n",
    "    k_valsComplete.append(k)\n",
    "    intraComplete.append(intrasimilarity(get_cluster_centers(cluster.labels_,orignalVC),cluster.labels_,orignalVC)/k)\n",
    "    interComplete.append(intersimilarity(get_cluster_centers(cluster.labels_,orignalVC),cluster.labels_,orignalVC)/k)"
   ]
  },
  {
   "cell_type": "code",
   "execution_count": 185,
   "metadata": {},
   "outputs": [
    {
     "name": "stdout",
     "output_type": "stream",
     "text": [
      "k       inter-similarity       intra-similarity\n",
      "2       2.858048306111686e+32       2.6016168525562776e+35\n",
      "4       5.330484300192866e+31       8.663254741494421e+35\n",
      "6       5.537265194427011e+30       6.702925348536664e+35\n",
      "8       4.511173078525367e+29       5.1480078503907304e+35\n",
      "10       9.928956495097788e+29       4.142288152621008e+35\n",
      "12       8.32757685847161e+28       3.52496542906792e+35\n",
      "14       1.1021112105812112e+28       3.0318204855971217e+35\n",
      "16       1.1602886145573587e+26       2.6584208326955457e+35\n",
      "18       3.1485781759175283e+24       2.367441970990623e+35\n",
      "20       2.7004492815427594e+23       2.1346656463518496e+35\n",
      "22       2.3846480197384562e+22       1.9442138289050537e+35\n",
      "24       8.729500304021704e+20       1.7855045665809657e+35\n",
      "26       8.787028754264696e+19       1.6512122204943476e+35\n",
      "28       1.5758098134750198e+19       1.5361045183864729e+35\n",
      "30       2.6363806183519355e+18       1.4363445191476746e+35\n",
      "32       5.94774343656328e+18       1.3490545207761628e+35\n",
      "34       5.320594304923283e+17       1.2720339343159252e+35\n",
      "36       1.729790606508132e+17       1.2035711933593764e+35\n",
      "38       1.535827794477855e+16       1.1423150573944218e+35\n"
     ]
    }
   ],
   "source": [
    "print(\"k       inter-similarity       intra-similarity\")\n",
    "for ind,k in enumerate(k_valsComplete):\n",
    "    print(str(k)+\"       \"+str(intraComplete[ind])+\"       \"+str(interComplete[ind]))"
   ]
  },
  {
   "cell_type": "code",
   "execution_count": 220,
   "metadata": {},
   "outputs": [
    {
     "data": {
      "image/png": "[encoded data removed]",
      "text/plain": [
       "<Figure size 432x288 with 1 Axes>"
      ]
     },
     "metadata": {
      "needs_background": "light"
     },
     "output_type": "display_data"
    },
    {
     "data": {
      "image/png": "[encoded data removed]",
      "text/plain": [
       "<Figure size 432x288 with 1 Axes>"
      ]
     },
     "metadata": {
      "needs_background": "light"
     },
     "output_type": "display_data"
    }
   ],
   "source": [
    "plt.plot(k_valsComplete,interComplete,'bx-')\n",
    "#plt.plot(k_valsComplete,intraComplete,c='b',label='Intra-Similarity')\n",
    "plt.xlabel('Values of K') \n",
    "plt.ylabel('InterSim')\n",
    "plt.title('Inter Simmilarity vs k values') \n",
    "plt.show() \n",
    "#plt.plot(k_valsComplete,interComplete,'bx-')\n",
    "plt.plot(k_valsComplete,intraComplete,'bx-')\n",
    "plt.xlabel('Values of K') \n",
    "plt.ylabel('Inter Simmilarity vs k values') \n",
    "plt.show() "
   ]
  },
  {
   "cell_type": "markdown",
   "metadata": {},
   "source": [
    "#answer for Agglo Complete Clustering <br>\n",
    "Saturation Value for inter = 6 <br>\n",
    "Max Value for intra = 6 <br>\n",
    "Ans : So value of K is 6   \n"
   ]
  },
  {
   "cell_type": "markdown",
   "metadata": {},
   "source": [
    "# Agglo Clustering :  Ward"
   ]
  },
  {
   "cell_type": "code",
   "execution_count": 194,
   "metadata": {},
   "outputs": [],
   "source": [
    "k_valsWard1 = []\n",
    "interWard1 = []\n",
    "intraWard1 = []"
   ]
  },
  {
   "cell_type": "code",
   "execution_count": 195,
   "metadata": {},
   "outputs": [
    {
     "name": "stderr",
     "output_type": "stream",
     "text": [
      "\n",
      "\n",
      "\n",
      "\n",
      "  0%|                                                                                           | 0/19 [00:00<?, ?it/s]\n",
      "\n",
      "\n",
      "\n",
      "  5%|████▎                                                                              | 1/19 [00:49<14:54, 49.68s/it]\n",
      "\n",
      "\n",
      "\n",
      " 11%|████████▋                                                                          | 2/19 [02:03<16:07, 56.94s/it]\n",
      "\n",
      "\n",
      "\n",
      " 16%|█████████████                                                                      | 3/19 [04:02<20:08, 75.52s/it]\n",
      "\n",
      "\n",
      "\n",
      " 21%|█████████████████▍                                                                 | 4/19 [05:58<21:57, 87.82s/it]\n",
      "\n",
      "\n",
      "\n",
      " 26%|█████████████████████▊                                                             | 5/19 [07:58<22:44, 97.44s/it]\n",
      "\n",
      "\n",
      "\n",
      " 32%|█████████████████████████▉                                                        | 6/19 [09:52<22:09, 102.26s/it]\n",
      "\n",
      "\n",
      "\n",
      " 37%|██████████████████████████████▏                                                   | 7/19 [11:47<21:12, 106.05s/it]\n",
      "\n",
      "\n",
      "\n",
      " 42%|██████████████████████████████████▉                                                | 8/19 [12:41<16:36, 90.57s/it]\n",
      "\n",
      "\n",
      "\n",
      " 47%|███████████████████████████████████████▎                                           | 9/19 [13:33<13:10, 79.08s/it]\n",
      "\n",
      "\n",
      "\n",
      " 53%|███████████████████████████████████████████▏                                      | 10/19 [14:28<10:44, 71.58s/it]\n",
      "\n",
      "\n",
      "\n",
      " 58%|███████████████████████████████████████████████▍                                  | 11/19 [15:20<08:46, 65.84s/it]\n",
      "\n",
      "\n",
      "\n",
      " 63%|███████████████████████████████████████████████████▊                              | 12/19 [16:13<07:14, 62.03s/it]\n",
      "\n",
      "\n",
      "\n",
      " 68%|████████████████████████████████████████████████████████                          | 13/19 [17:07<05:58, 59.68s/it]\n",
      "\n",
      "\n",
      "\n",
      " 74%|████████████████████████████████████████████████████████████▍                     | 14/19 [18:00<04:47, 57.48s/it]\n",
      "\n",
      "\n",
      "\n",
      " 79%|████████████████████████████████████████████████████████████████▋                 | 15/19 [18:52<03:43, 55.93s/it]\n",
      "\n",
      "\n",
      "\n",
      " 84%|█████████████████████████████████████████████████████████████████████             | 16/19 [19:46<02:46, 55.50s/it]\n",
      "\n",
      "\n",
      "\n",
      " 89%|█████████████████████████████████████████████████████████████████████████▎        | 17/19 [20:39<01:49, 54.61s/it]\n",
      "\n",
      "\n",
      "\n",
      " 95%|█████████████████████████████████████████████████████████████████████████████▋    | 18/19 [21:32<00:54, 54.26s/it]\n",
      "\n",
      "\n",
      "\n",
      "100%|██████████████████████████████████████████████████████████████████████████████████| 19/19 [22:25<00:00, 70.82s/it]\n"
     ]
    }
   ],
   "source": [
    "k_valsWard1 = []\n",
    "interWard1 = []\n",
    "intraWard1 = []\n",
    "for k in tqdm(range(2,40,2)):\n",
    "    cluster = AgglomerativeClustering(n_clusters=k, affinity='euclidean',linkage='ward')\n",
    "    cluster.fit_predict(vc)\n",
    "    k_valsWard1.append(k)\n",
    "    intraWard1.append(intrasimilarity(get_cluster_centers(cluster.labels_,orignalVC),cluster.labels_,orignalVC)/k)\n",
    "    interWard1.append(intersimilarity(get_cluster_centers(cluster.labels_,orignalVC),cluster.labels_,orignalVC)/k\n",
    "                    )"
   ]
  },
  {
   "cell_type": "code",
   "execution_count": 196,
   "metadata": {},
   "outputs": [
    {
     "name": "stdout",
     "output_type": "stream",
     "text": [
      "k       inter-similarity       intra-similarity\n",
      "2       3.543544329425209e+37       3.543544329425209e+37\n",
      "4       2.218256297574731e+38       2.218256297574731e+38\n",
      "6       2.290494629756624e+38       2.290494629756624e+38\n",
      "8       1.8899955476384244e+38       1.8899955476384244e+38\n",
      "10       1.5439643703669221e+38       1.5439643703669221e+38\n",
      "12       1.2892956063210012e+38       1.2892956063210012e+38\n",
      "14       1.1071721624872415e+38       1.1071721624872415e+38\n",
      "16       9.705887637827104e+37       9.705887637827104e+37\n",
      "18       8.64352757391544e+37       8.64352757391544e+37\n",
      "20       7.79366214001365e+37       7.79366214001365e+37\n",
      "22       7.098329746949808e+37       7.098329746949808e+37\n",
      "24       6.518886809721051e+37       6.518886809721051e+37\n",
      "26       6.028589187187302e+37       6.028589187187302e+37\n",
      "28       5.608334114829195e+37       5.608334114829195e+37\n",
      "30       5.244113060353202e+37       5.244113060353202e+37\n",
      "32       4.925419692449167e+37       4.925419692449167e+37\n",
      "34       4.644219663886161e+37       4.644219663886161e+37\n",
      "36       4.394264068746698e+37       4.394264068746698e+37\n",
      "38       4.1706195891761675e+37       4.1706195891761675e+37\n"
     ]
    }
   ],
   "source": [
    "print(\"k       inter-similarity       intra-similarity\")\n",
    "for ind,k in enumerate(k_valsWard1):\n",
    "    print(str(k)+\"       \"+str(interWard1[ind])+\"       \"+str(interWard1[ind]))"
   ]
  },
  {
   "cell_type": "code",
   "execution_count": 225,
   "metadata": {
    "scrolled": true
   },
   "outputs": [
    {
     "data": {
      "image/png": "[encoded data removed]",
      "text/plain": [
       "<Figure size 432x288 with 1 Axes>"
      ]
     },
     "metadata": {
      "needs_background": "light"
     },
     "output_type": "display_data"
    },
    {
     "data": {
      "image/png": "[encoded data removed]",
      "text/plain": [
       "<Figure size 432x288 with 1 Axes>"
      ]
     },
     "metadata": {
      "needs_background": "light"
     },
     "output_type": "display_data"
    }
   ],
   "source": [
    "plt.plot(k_valsWard1,interWard1,'bx-')\n",
    "#plt.plot(k_valsComplete,intraComplete,c='b',label='Intra-Similarity')\n",
    "plt.xlabel('Values of K') \n",
    "plt.ylabel('InterSim')\n",
    "plt.title('Inter Simmilarity vs k values') \n",
    "plt.show()\n",
    "\n",
    "#plt.plot(k_valsComplete,interComplete,'bx-')\n",
    "plt.plot(k_valsWard1,intraWard1,'bx-')\n",
    "plt.xlabel('Values of K') \n",
    "plt.ylabel('Inter Simmilarity vs k values') \n",
    "plt.show() "
   ]
  },
  {
   "cell_type": "markdown",
   "metadata": {},
   "source": [
    "#answer for Agglo Ward Clustering <br>\n",
    "Saturation Value for inter = 8 <br>\n",
    "Max Value for intra = 8 <br>\n",
    "Ans : So value of K is 8   \n"
   ]
  },
  {
   "cell_type": "markdown",
   "metadata": {},
   "source": [
    "# Comparing Clustering vs TF-IDF model"
   ]
  },
  {
   "cell_type": "markdown",
   "metadata": {},
   "source": [
    "We want to predict all the documents in the cluster same as the query as retrieved documents<br>\n",
    "We have already added the queries as the last 10 elements of the corpora.\n",
    "We will show one result based on K means clustering and one on Agglo Clustering .\n"
   ]
  },
  {
   "cell_type": "code",
   "execution_count": 230,
   "metadata": {},
   "outputs": [
    {
     "data": {
      "text/plain": [
       "KMeans(algorithm='auto', copy_x=True, init='k-means++', max_iter=100,\n",
       "       n_clusters=8, n_init=10, n_jobs=None, precompute_distances='auto',\n",
       "       random_state=None, tol=0.0001, verbose=0)"
      ]
     },
     "execution_count": 230,
     "metadata": {},
     "output_type": "execute_result"
    }
   ],
   "source": [
    "km=KMeans(8,max_iter=100)\n",
    "km.fit(vc)"
   ]
  },
  {
   "cell_type": "code",
   "execution_count": 231,
   "metadata": {},
   "outputs": [
    {
     "name": "stdout",
     "output_type": "stream",
     "text": [
      "[2, 5, 1, 4, 3, 7, 3, 6, 6, 0, 0, 0, 0, 0, 0, 0, 0, 0, 0, 0, 0, 0, 0, 0, 0, 0, 0, 0, 0, 0, 0, 0, 0, 0, 0, 0, 0, 0, 0, 0, 0, 0, 0, 0, 0, 0, 0, 0, 0, 0, 0, 0, 0, 0, 0, 0, 0, 0, 0, 0, 0, 0, 0, 0, 0, 0, 0, 0, 0, 0, 0, 0, 0, 0, 0, 0, 0, 0, 0, 0, 0, 0, 0, 0, 0, 0, 0, 0, 0, 0, 0, 0, 0, 0, 0, 0, 0, 0, 0, 0, 0, 0, 0, 0, 0, 0, 0, 0, 0, 0, 0, 0, 0, 0, 0, 0, 0, 0, 0, 0, 0, 0, 0, 0, 0, 0, 0, 0, 0, 0, 0, 0, 0, 0, 0, 0, 0, 0, 0, 0, 0, 0, 0, 0, 0, 0, 0, 0, 0, 0, 0, 0, 0, 0, 0, 0, 0, 0, 0, 0, 0, 0, 0, 0, 0, 0, 0, 0, 0, 0, 0, 0, 0, 0, 0, 0, 0, 0, 0, 0, 0, 0, 0, 0, 0, 0, 0, 0, 0, 0, 0, 0, 0, 0, 0, 0, 0, 0, 0, 0, 0, 0, 0, 0, 0, 0, 0, 0, 0, 0, 0, 0, 0, 0, 0, 0, 0, 0, 0, 0, 0, 0, 0, 0, 0, 0, 0, 0, 0, 0, 0, 0, 0, 0, 0, 0, 0, 0, 0, 0, 0, 0, 0, 0, 0, 0, 0, 0, 0, 0, 0, 0, 0, 0, 0, 0, 0, 0, 0, 0, 0, 0, 0, 0, 0, 0, 0, 0, 0, 0, 0, 0, 0, 0, 0, 0, 0, 0, 0, 0, 0, 0, 0, 0, 0, 0, 0, 0, 0, 0, 0, 0, 0, 0, 0, 0, 0, 0, 0, 0, 0, 0, 0, 0, 0, 0, 0, 0, 0, 0, 0, 0, 0, 0, 0, 0, 0, 0, 0, 0, 0, 0, 0, 0, 0, 0, 0, 0, 0, 0, 0, 0, 0, 0, 0, 0, 0, 0, 0, 0, 0, 0, 0, 0, 0, 0, 0, 0, 0, 0, 0, 0, 0, 0, 0, 0, 0, 0, 0, 0, 0, 0, 0, 0, 0, 0, 0, 0, 0, 0, 0, 0, 0, 0, 0, 0, 0, 0, 0, 0, 0, 0, 0, 0, 0, 0, 0, 0, 0, 0, 0, 0, 0, 0, 0, 0, 0, 0, 0, 0, 0, 0, 0, 0, 0, 0, 0, 0, 0, 0, 0, 0, 0, 0, 0, 0, 0, 0, 0, 0, 0, 0, 0, 0, 0, 0, 0, 0, 0, 0, 0, 0, 0, 0, 0, 0, 0, 0, 0, 0, 0, 0, 0, 0, 0, 0, 0, 0, 0, 0, 0, 0, 0, 0, 0, 0, 0, 0, 0, 0, 0, 0, 0, 0, 0, 0, 0, 0, 0, 0, 0, 0, 0, 0, 0, 0, 0, 0, 0, 0, 0, 0, 0, 0, 0, 0, 0, 0, 0, 0, 0, 0, 0, 0, 0, 0, 0, 0, 0, 0, 0, 0, 0, 0, 0, 0, 0, 0, 0, 0, 0, 0, 0, 0, 0, 0, 0, 0, 0, 0, 0, 0, 0, 0, 0, 0, 0, 0, 0, 0, 0, 0, 0, 0, 0, 0, 0, 0, 0, 0, 0, 0, 0, 0, 0, 0, 0, 0, 0, 0, 0, 0, 0, 0, 0, 0, 0, 0, 0, 0, 0, 0, 0, 0, 0, 0, 0, 0, 0, 0, 0, 0, 0, 0, 0, 0, 0, 0, 0, 0, 0, 0, 0, 0, 0, 0, 0, 0, 0, 0, 0, 0, 0, 0, 0, 0, 0, 0, 0, 0, 0, 0, 0, 0, 0, 0, 0, 0, 0, 0, 0, 0, 0, 0, 0, 0, 0, 0, 0, 0, 0, 0, 0, 0, 0, 0, 0, 0, 0, 0, 0, 0, 0, 0, 0, 0, 0, 0, 0, 0, 0, 0, 0, 0, 0, 0, 0, 0, 0, 0, 0, 0, 0, 0, 0, 0, 0, 0, 0, 0, 0, 0, 0, 0, 0, 0, 0, 0, 0, 0, 0, 0, 0, 0, 0, 0, 0, 0, 0, 0, 0, 0, 0, 0, 0, 0, 0, 0, 0, 0, 0, 0, 0, 0, 0, 0, 0, 0, 0, 0, 0, 0, 0, 0, 0, 0, 0, 0, 0, 0, 0, 0, 0, 0, 0, 0, 0, 0, 0, 0, 0, 0, 0, 0, 0, 0, 0, 0, 0, 0, 0, 0, 0, 0, 0, 0, 0, 0, 0, 0, 0, 0, 0, 0, 0, 0, 0, 0, 0, 0, 0, 0, 0, 0, 0, 0, 0, 0, 0, 0, 0, 0, 0, 0, 0, 0, 0, 0, 0, 0, 0, 0, 0, 0, 0, 0, 0, 0, 0, 0, 0, 0, 0, 0, 0, 0, 0, 0, 0, 0, 0, 0, 0, 0, 0, 0, 0, 0, 0, 0, 0, 0, 0, 0, 0, 0, 0, 0, 0, 0, 0, 0, 0, 0, 0, 0, 0, 0, 0, 0, 0, 0, 0, 0, 0, 0, 0, 0, 0, 0, 0, 0, 0, 0, 0, 0, 0, 0, 0, 0, 0, 0, 0, 0, 0, 0, 0, 0, 0, 0, 0, 0, 0, 0, 0, 0, 0, 0, 0, 0, 0, 0, 0, 0, 0, 0, 0, 0, 0, 0, 0, 0, 0, 0, 0, 0, 0, 0, 0, 0, 0, 0, 0, 0, 0, 0, 0, 0, 0, 0, 0, 0, 0, 0, 0, 0, 0, 0, 0, 0, 0, 0, 0, 0, 0, 0, 0, 0, 0, 0, 0, 0, 0, 0, 0, 0, 0, 0, 0, 0, 0, 0, 0, 0, 0, 0, 0, 0, 0, 0, 0, 0, 0, 0, 0, 0, 0, 0, 0, 0, 0, 0, 0, 0, 0, 0, 0, 0, 0, 0, 0, 0, 0, 0, 0, 0, 0, 0, 0, 0, 0, 0, 0, 0, 0, 0, 0, 0, 0, 0, 0, 0, 0, 0, 0, 0, 0, 0, 0, 0, 0, 0, 0, 0, 0, 0, 0, 0, 0, 0, 0, 0, 0, 0, 0, 0, 0, 0, 0, 0, 0, 0, 0, 0, 0, 0, 0, 0, 0, 0, 0, 0, 0, 0, 0, 0, 0, 0, 0, 0, 0, 0, 0, 0, 0, 0, 0, 0, 0, 0, 0, 0, 0, 0, 0, 0, 0, 0, 0, 0, 0, 0, 0, 0, 0, 0, 0, 0, 0, 0, 0, 0, 0, 0, 0, 0, 0, 0, 0, 0, 0, 0, 0, 0, 0, 0]\n"
     ]
    }
   ],
   "source": [
    "clusters = km.labels_.tolist()\n",
    "print(clusters) \n"
   ]
  },
  {
   "cell_type": "code",
   "execution_count": 232,
   "metadata": {
    "scrolled": true
   },
   "outputs": [
    {
     "name": "stdout",
     "output_type": "stream",
     "text": [
      "[{10, 11, 12, 13, 14, 15, 16, 17, 18, 19, 20, 21, 22, 23, 24, 25, 26, 27, 28, 29, 30, 31, 32, 33, 34, 35, 36, 37, 38, 39, 40, 41, 42, 43, 44, 45, 46, 47, 48, 49, 50, 51, 52, 53, 54, 55, 56, 57, 58, 59, 60, 61, 62, 63, 64, 65, 66, 67, 68, 69, 70, 71, 72, 73, 74, 75, 76, 77, 78, 79, 80, 81, 82, 83, 84, 85, 86, 87, 88, 89, 90, 91, 92, 93, 94, 95, 96, 97, 98, 99, 100, 101, 102, 103, 104, 105, 106, 107, 108, 109, 110, 111, 112, 113, 114, 115, 116, 117, 118, 119, 120, 121, 122, 123, 124, 125, 126, 127, 128, 129, 130, 131, 132, 133, 134, 135, 136, 137, 138, 139, 140, 141, 142, 143, 144, 145, 146, 147, 148, 149, 150, 151, 152, 153, 154, 155, 156, 157, 158, 159, 160, 161, 162, 163, 164, 165, 166, 167, 168, 169, 170, 171, 172, 173, 174, 175, 176, 177, 178, 179, 180, 181, 182, 183, 184, 185, 186, 187, 188, 189, 190, 191, 192, 193, 194, 195, 196, 197, 198, 199, 200, 201, 202, 203, 204, 205, 206, 207, 208, 209, 210, 211, 212, 213, 214, 215, 216, 217, 218, 219, 220, 221, 222, 223, 224, 225, 226, 227, 228, 229, 230, 231, 232, 233, 234, 235, 236, 237, 238, 239, 240, 241, 242, 243, 244, 245, 246, 247, 248, 249, 250, 251, 252, 253, 254, 255, 256, 257, 258, 259, 260, 261, 262, 263, 264, 265, 266, 267, 268, 269, 270, 271, 272, 273, 274, 275, 276, 277, 278, 279, 280, 281, 282, 283, 284, 285, 286, 287, 288, 289, 290, 291, 292, 293, 294, 295, 296, 297, 298, 299, 300, 301, 302, 303, 304, 305, 306, 307, 308, 309, 310, 311, 312, 313, 314, 315, 316, 317, 318, 319, 320, 321, 322, 323, 324, 325, 326, 327, 328, 329, 330, 331, 332, 333, 334, 335, 336, 337, 338, 339, 340, 341, 342, 343, 344, 345, 346, 347, 348, 349, 350, 351, 352, 353, 354, 355, 356, 357, 358, 359, 360, 361, 362, 363, 364, 365, 366, 367, 368, 369, 370, 371, 372, 373, 374, 375, 376, 377, 378, 379, 380, 381, 382, 383, 384, 385, 386, 387, 388, 389, 390, 391, 392, 393, 394, 395, 396, 397, 398, 399, 400, 401, 402, 403, 404, 405, 406, 407, 408, 409, 410, 411, 412, 413, 414, 415, 416, 417, 418, 419, 420, 421, 422, 423, 424, 425, 426, 427, 428, 429, 430, 431, 432, 433, 434, 435, 436, 437, 438, 439, 440, 441, 442, 443, 444, 445, 446, 447, 448, 449, 450, 451, 452, 453, 454, 455, 456, 457, 458, 459, 460, 461, 462, 463, 464, 465, 466, 467, 468, 469, 470, 471, 472, 473, 474, 475, 476, 477, 478, 479, 480, 481, 482, 483, 484, 485, 486, 487, 488, 489, 490, 491, 492, 493, 494, 495, 496, 497, 498, 499, 500, 501, 502, 503, 504, 505, 506, 507, 508, 509, 510, 511, 512, 513, 514, 515, 516, 517, 518, 519, 520, 521, 522, 523, 524, 525, 526, 527, 528, 529, 530, 531, 532, 533, 534, 535, 536, 537, 538, 539, 540, 541, 542, 543, 544, 545, 546, 547, 548, 549, 550, 551, 552, 553, 554, 555, 556, 557, 558, 559, 560, 561, 562, 563, 564, 565, 566, 567, 568, 569, 570, 571, 572, 573, 574, 575, 576, 577, 578, 579, 580, 581, 582, 583, 584, 585, 586, 587, 588, 589, 590, 591, 592, 593, 594, 595, 596, 597, 598, 599, 600, 601, 602, 603, 604, 605, 606, 607, 608, 609, 610, 611, 612, 613, 614, 615, 616, 617, 618, 619, 620, 621, 622, 623, 624, 625, 626, 627, 628, 629, 630, 631, 632, 633, 634, 635, 636, 637, 638, 639, 640, 641, 642, 643, 644, 645, 646, 647, 648, 649, 650, 651, 652, 653, 654, 655, 656, 657, 658, 659, 660, 661, 662, 663, 664, 665, 666, 667, 668, 669, 670, 671, 672, 673, 674, 675, 676, 677, 678, 679, 680, 681, 682, 683, 684, 685, 686, 687, 688, 689, 690, 691, 692, 693, 694, 695, 696, 697, 698, 699, 700, 701, 702, 703, 704, 705, 706, 707, 708, 709, 710, 711, 712, 713, 714, 715, 716, 717, 718, 719, 720, 721, 722, 723, 724, 725, 726, 727, 728, 729, 730, 731, 732, 733, 734, 735, 736, 737, 738, 739, 740, 741, 742, 743, 744, 745, 746, 747, 748, 749, 750, 751, 752, 753, 754, 755, 756, 757, 758, 759, 760, 761, 762, 763, 764, 765, 766, 767, 768, 769, 770, 771, 772, 773, 774, 775, 776, 777, 778, 779, 780, 781, 782, 783, 784, 785, 786, 787, 788, 789, 790, 791, 792, 793, 794, 795, 796, 797, 798, 799, 800, 801, 802, 803, 804, 805, 806, 807, 808, 809, 810, 811, 812, 813, 814, 815, 816, 817, 818, 819, 820, 821, 822, 823, 824, 825, 826, 827, 828, 829, 830, 831, 832, 833, 834, 835, 836, 837, 838, 839, 840, 841, 842, 843, 844, 845, 846, 847, 848, 849, 850, 851, 852, 853, 854, 855, 856, 857, 858, 859, 860, 861, 862, 863, 864, 865, 866, 867, 868, 869, 870, 871, 872, 873, 874, 875, 876, 877, 878, 879, 880, 881, 882, 883, 884, 885, 886, 887, 888, 889, 890, 891, 892, 893, 894, 895, 896, 897, 898, 899, 900, 901, 902, 903, 904, 905, 906, 907, 908, 909, 910, 911, 912, 913, 914, 915, 916, 917, 918, 919, 920, 921, 922, 923, 924, 925, 926, 927, 928, 929, 930, 931, 932, 933, 934, 935, 936, 937, 938, 939, 940, 941, 942, 943, 944, 945, 946, 947, 948, 949, 950, 951, 952, 953, 954, 955, 956, 957, 958, 959, 960, 961, 962, 963, 964, 965, 966, 967, 968, 969, 970, 971, 972, 973, 974, 975, 976, 977, 978, 979, 980, 981, 982, 983, 984, 985, 986, 987, 988, 989, 990, 991, 992, 993, 994, 995, 996, 997, 998, 999, 1000, 1001, 1002, 1003, 1004, 1005, 1006, 1007, 1008, 1009, 1010, 1011, 1012, 1013, 1014, 1015, 1016, 1017, 1018, 1019, 1020, 1021, 1022, 1023, 1024, 1025, 1026, 1027, 1028, 1029, 1030, 1031, 1032, 1033, 1034, 1035, 1036, 1037, 1038, 1039, 1040, 1041, 1042, 1043, 1044, 1045, 1046, 1047, 1048, 1049, 1050, 1051, 1052, 1053, 1054, 1055, 1056, 1057, 1058, 1059, 1060, 1061, 1062, 1063, 1064, 1065, 1066}, {10, 11, 12, 13, 14, 15, 16, 17, 18, 19, 20, 21, 22, 23, 24, 25, 26, 27, 28, 29, 30, 31, 32, 33, 34, 35, 36, 37, 38, 39, 40, 41, 42, 43, 44, 45, 46, 47, 48, 49, 50, 51, 52, 53, 54, 55, 56, 57, 58, 59, 60, 61, 62, 63, 64, 65, 66, 67, 68, 69, 70, 71, 72, 73, 74, 75, 76, 77, 78, 79, 80, 81, 82, 83, 84, 85, 86, 87, 88, 89, 90, 91, 92, 93, 94, 95, 96, 97, 98, 99, 100, 101, 102, 103, 104, 105, 106, 107, 108, 109, 110, 111, 112, 113, 114, 115, 116, 117, 118, 119, 120, 121, 122, 123, 124, 125, 126, 127, 128, 129, 130, 131, 132, 133, 134, 135, 136, 137, 138, 139, 140, 141, 142, 143, 144, 145, 146, 147, 148, 149, 150, 151, 152, 153, 154, 155, 156, 157, 158, 159, 160, 161, 162, 163, 164, 165, 166, 167, 168, 169, 170, 171, 172, 173, 174, 175, 176, 177, 178, 179, 180, 181, 182, 183, 184, 185, 186, 187, 188, 189, 190, 191, 192, 193, 194, 195, 196, 197, 198, 199, 200, 201, 202, 203, 204, 205, 206, 207, 208, 209, 210, 211, 212, 213, 214, 215, 216, 217, 218, 219, 220, 221, 222, 223, 224, 225, 226, 227, 228, 229, 230, 231, 232, 233, 234, 235, 236, 237, 238, 239, 240, 241, 242, 243, 244, 245, 246, 247, 248, 249, 250, 251, 252, 253, 254, 255, 256, 257, 258, 259, 260, 261, 262, 263, 264, 265, 266, 267, 268, 269, 270, 271, 272, 273, 274, 275, 276, 277, 278, 279, 280, 281, 282, 283, 284, 285, 286, 287, 288, 289, 290, 291, 292, 293, 294, 295, 296, 297, 298, 299, 300, 301, 302, 303, 304, 305, 306, 307, 308, 309, 310, 311, 312, 313, 314, 315, 316, 317, 318, 319, 320, 321, 322, 323, 324, 325, 326, 327, 328, 329, 330, 331, 332, 333, 334, 335, 336, 337, 338, 339, 340, 341, 342, 343, 344, 345, 346, 347, 348, 349, 350, 351, 352, 353, 354, 355, 356, 357, 358, 359, 360, 361, 362, 363, 364, 365, 366, 367, 368, 369, 370, 371, 372, 373, 374, 375, 376, 377, 378, 379, 380, 381, 382, 383, 384, 385, 386, 387, 388, 389, 390, 391, 392, 393, 394, 395, 396, 397, 398, 399, 400, 401, 402, 403, 404, 405, 406, 407, 408, 409, 410, 411, 412, 413, 414, 415, 416, 417, 418, 419, 420, 421, 422, 423, 424, 425, 426, 427, 428, 429, 430, 431, 432, 433, 434, 435, 436, 437, 438, 439, 440, 441, 442, 443, 444, 445, 446, 447, 448, 449, 450, 451, 452, 453, 454, 455, 456, 457, 458, 459, 460, 461, 462, 463, 464, 465, 466, 467, 468, 469, 470, 471, 472, 473, 474, 475, 476, 477, 478, 479, 480, 481, 482, 483, 484, 485, 486, 487, 488, 489, 490, 491, 492, 493, 494, 495, 496, 497, 498, 499, 500, 501, 502, 503, 504, 505, 506, 507, 508, 509, 510, 511, 512, 513, 514, 515, 516, 517, 518, 519, 520, 521, 522, 523, 524, 525, 526, 527, 528, 529, 530, 531, 532, 533, 534, 535, 536, 537, 538, 539, 540, 541, 542, 543, 544, 545, 546, 547, 548, 549, 550, 551, 552, 553, 554, 555, 556, 557, 558, 559, 560, 561, 562, 563, 564, 565, 566, 567, 568, 569, 570, 571, 572, 573, 574, 575, 576, 577, 578, 579, 580, 581, 582, 583, 584, 585, 586, 587, 588, 589, 590, 591, 592, 593, 594, 595, 596, 597, 598, 599, 600, 601, 602, 603, 604, 605, 606, 607, 608, 609, 610, 611, 612, 613, 614, 615, 616, 617, 618, 619, 620, 621, 622, 623, 624, 625, 626, 627, 628, 629, 630, 631, 632, 633, 634, 635, 636, 637, 638, 639, 640, 641, 642, 643, 644, 645, 646, 647, 648, 649, 650, 651, 652, 653, 654, 655, 656, 657, 658, 659, 660, 661, 662, 663, 664, 665, 666, 667, 668, 669, 670, 671, 672, 673, 674, 675, 676, 677, 678, 679, 680, 681, 682, 683, 684, 685, 686, 687, 688, 689, 690, 691, 692, 693, 694, 695, 696, 697, 698, 699, 700, 701, 702, 703, 704, 705, 706, 707, 708, 709, 710, 711, 712, 713, 714, 715, 716, 717, 718, 719, 720, 721, 722, 723, 724, 725, 726, 727, 728, 729, 730, 731, 732, 733, 734, 735, 736, 737, 738, 739, 740, 741, 742, 743, 744, 745, 746, 747, 748, 749, 750, 751, 752, 753, 754, 755, 756, 757, 758, 759, 760, 761, 762, 763, 764, 765, 766, 767, 768, 769, 770, 771, 772, 773, 774, 775, 776, 777, 778, 779, 780, 781, 782, 783, 784, 785, 786, 787, 788, 789, 790, 791, 792, 793, 794, 795, 796, 797, 798, 799, 800, 801, 802, 803, 804, 805, 806, 807, 808, 809, 810, 811, 812, 813, 814, 815, 816, 817, 818, 819, 820, 821, 822, 823, 824, 825, 826, 827, 828, 829, 830, 831, 832, 833, 834, 835, 836, 837, 838, 839, 840, 841, 842, 843, 844, 845, 846, 847, 848, 849, 850, 851, 852, 853, 854, 855, 856, 857, 858, 859, 860, 861, 862, 863, 864, 865, 866, 867, 868, 869, 870, 871, 872, 873, 874, 875, 876, 877, 878, 879, 880, 881, 882, 883, 884, 885, 886, 887, 888, 889, 890, 891, 892, 893, 894, 895, 896, 897, 898, 899, 900, 901, 902, 903, 904, 905, 906, 907, 908, 909, 910, 911, 912, 913, 914, 915, 916, 917, 918, 919, 920, 921, 922, 923, 924, 925, 926, 927, 928, 929, 930, 931, 932, 933, 934, 935, 936, 937, 938, 939, 940, 941, 942, 943, 944, 945, 946, 947, 948, 949, 950, 951, 952, 953, 954, 955, 956, 957, 958, 959, 960, 961, 962, 963, 964, 965, 966, 967, 968, 969, 970, 971, 972, 973, 974, 975, 976, 977, 978, 979, 980, 981, 982, 983, 984, 985, 986, 987, 988, 989, 990, 991, 992, 993, 994, 995, 996, 997, 998, 999, 1000, 1001, 1002, 1003, 1004, 1005, 1006, 1007, 1008, 1009, 1010, 1011, 1012, 1013, 1014, 1015, 1016, 1017, 1018, 1019, 1020, 1021, 1022, 1023, 1024, 1025, 1026, 1027, 1028, 1029, 1030, 1031, 1032, 1033, 1034, 1035, 1036, 1037, 1038, 1039, 1040, 1041, 1042, 1043, 1044, 1045, 1046, 1047, 1048, 1049, 1050, 1051, 1052, 1053, 1054, 1055, 1056, 1057, 1058, 1059, 1060, 1061, 1062, 1063, 1064, 1065, 1066}, {10, 11, 12, 13, 14, 15, 16, 17, 18, 19, 20, 21, 22, 23, 24, 25, 26, 27, 28, 29, 30, 31, 32, 33, 34, 35, 36, 37, 38, 39, 40, 41, 42, 43, 44, 45, 46, 47, 48, 49, 50, 51, 52, 53, 54, 55, 56, 57, 58, 59, 60, 61, 62, 63, 64, 65, 66, 67, 68, 69, 70, 71, 72, 73, 74, 75, 76, 77, 78, 79, 80, 81, 82, 83, 84, 85, 86, 87, 88, 89, 90, 91, 92, 93, 94, 95, 96, 97, 98, 99, 100, 101, 102, 103, 104, 105, 106, 107, 108, 109, 110, 111, 112, 113, 114, 115, 116, 117, 118, 119, 120, 121, 122, 123, 124, 125, 126, 127, 128, 129, 130, 131, 132, 133, 134, 135, 136, 137, 138, 139, 140, 141, 142, 143, 144, 145, 146, 147, 148, 149, 150, 151, 152, 153, 154, 155, 156, 157, 158, 159, 160, 161, 162, 163, 164, 165, 166, 167, 168, 169, 170, 171, 172, 173, 174, 175, 176, 177, 178, 179, 180, 181, 182, 183, 184, 185, 186, 187, 188, 189, 190, 191, 192, 193, 194, 195, 196, 197, 198, 199, 200, 201, 202, 203, 204, 205, 206, 207, 208, 209, 210, 211, 212, 213, 214, 215, 216, 217, 218, 219, 220, 221, 222, 223, 224, 225, 226, 227, 228, 229, 230, 231, 232, 233, 234, 235, 236, 237, 238, 239, 240, 241, 242, 243, 244, 245, 246, 247, 248, 249, 250, 251, 252, 253, 254, 255, 256, 257, 258, 259, 260, 261, 262, 263, 264, 265, 266, 267, 268, 269, 270, 271, 272, 273, 274, 275, 276, 277, 278, 279, 280, 281, 282, 283, 284, 285, 286, 287, 288, 289, 290, 291, 292, 293, 294, 295, 296, 297, 298, 299, 300, 301, 302, 303, 304, 305, 306, 307, 308, 309, 310, 311, 312, 313, 314, 315, 316, 317, 318, 319, 320, 321, 322, 323, 324, 325, 326, 327, 328, 329, 330, 331, 332, 333, 334, 335, 336, 337, 338, 339, 340, 341, 342, 343, 344, 345, 346, 347, 348, 349, 350, 351, 352, 353, 354, 355, 356, 357, 358, 359, 360, 361, 362, 363, 364, 365, 366, 367, 368, 369, 370, 371, 372, 373, 374, 375, 376, 377, 378, 379, 380, 381, 382, 383, 384, 385, 386, 387, 388, 389, 390, 391, 392, 393, 394, 395, 396, 397, 398, 399, 400, 401, 402, 403, 404, 405, 406, 407, 408, 409, 410, 411, 412, 413, 414, 415, 416, 417, 418, 419, 420, 421, 422, 423, 424, 425, 426, 427, 428, 429, 430, 431, 432, 433, 434, 435, 436, 437, 438, 439, 440, 441, 442, 443, 444, 445, 446, 447, 448, 449, 450, 451, 452, 453, 454, 455, 456, 457, 458, 459, 460, 461, 462, 463, 464, 465, 466, 467, 468, 469, 470, 471, 472, 473, 474, 475, 476, 477, 478, 479, 480, 481, 482, 483, 484, 485, 486, 487, 488, 489, 490, 491, 492, 493, 494, 495, 496, 497, 498, 499, 500, 501, 502, 503, 504, 505, 506, 507, 508, 509, 510, 511, 512, 513, 514, 515, 516, 517, 518, 519, 520, 521, 522, 523, 524, 525, 526, 527, 528, 529, 530, 531, 532, 533, 534, 535, 536, 537, 538, 539, 540, 541, 542, 543, 544, 545, 546, 547, 548, 549, 550, 551, 552, 553, 554, 555, 556, 557, 558, 559, 560, 561, 562, 563, 564, 565, 566, 567, 568, 569, 570, 571, 572, 573, 574, 575, 576, 577, 578, 579, 580, 581, 582, 583, 584, 585, 586, 587, 588, 589, 590, 591, 592, 593, 594, 595, 596, 597, 598, 599, 600, 601, 602, 603, 604, 605, 606, 607, 608, 609, 610, 611, 612, 613, 614, 615, 616, 617, 618, 619, 620, 621, 622, 623, 624, 625, 626, 627, 628, 629, 630, 631, 632, 633, 634, 635, 636, 637, 638, 639, 640, 641, 642, 643, 644, 645, 646, 647, 648, 649, 650, 651, 652, 653, 654, 655, 656, 657, 658, 659, 660, 661, 662, 663, 664, 665, 666, 667, 668, 669, 670, 671, 672, 673, 674, 675, 676, 677, 678, 679, 680, 681, 682, 683, 684, 685, 686, 687, 688, 689, 690, 691, 692, 693, 694, 695, 696, 697, 698, 699, 700, 701, 702, 703, 704, 705, 706, 707, 708, 709, 710, 711, 712, 713, 714, 715, 716, 717, 718, 719, 720, 721, 722, 723, 724, 725, 726, 727, 728, 729, 730, 731, 732, 733, 734, 735, 736, 737, 738, 739, 740, 741, 742, 743, 744, 745, 746, 747, 748, 749, 750, 751, 752, 753, 754, 755, 756, 757, 758, 759, 760, 761, 762, 763, 764, 765, 766, 767, 768, 769, 770, 771, 772, 773, 774, 775, 776, 777, 778, 779, 780, 781, 782, 783, 784, 785, 786, 787, 788, 789, 790, 791, 792, 793, 794, 795, 796, 797, 798, 799, 800, 801, 802, 803, 804, 805, 806, 807, 808, 809, 810, 811, 812, 813, 814, 815, 816, 817, 818, 819, 820, 821, 822, 823, 824, 825, 826, 827, 828, 829, 830, 831, 832, 833, 834, 835, 836, 837, 838, 839, 840, 841, 842, 843, 844, 845, 846, 847, 848, 849, 850, 851, 852, 853, 854, 855, 856, 857, 858, 859, 860, 861, 862, 863, 864, 865, 866, 867, 868, 869, 870, 871, 872, 873, 874, 875, 876, 877, 878, 879, 880, 881, 882, 883, 884, 885, 886, 887, 888, 889, 890, 891, 892, 893, 894, 895, 896, 897, 898, 899, 900, 901, 902, 903, 904, 905, 906, 907, 908, 909, 910, 911, 912, 913, 914, 915, 916, 917, 918, 919, 920, 921, 922, 923, 924, 925, 926, 927, 928, 929, 930, 931, 932, 933, 934, 935, 936, 937, 938, 939, 940, 941, 942, 943, 944, 945, 946, 947, 948, 949, 950, 951, 952, 953, 954, 955, 956, 957, 958, 959, 960, 961, 962, 963, 964, 965, 966, 967, 968, 969, 970, 971, 972, 973, 974, 975, 976, 977, 978, 979, 980, 981, 982, 983, 984, 985, 986, 987, 988, 989, 990, 991, 992, 993, 994, 995, 996, 997, 998, 999, 1000, 1001, 1002, 1003, 1004, 1005, 1006, 1007, 1008, 1009, 1010, 1011, 1012, 1013, 1014, 1015, 1016, 1017, 1018, 1019, 1020, 1021, 1022, 1023, 1024, 1025, 1026, 1027, 1028, 1029, 1030, 1031, 1032, 1033, 1034, 1035, 1036, 1037, 1038, 1039, 1040, 1041, 1042, 1043, 1044, 1045, 1046, 1047, 1048, 1049, 1050, 1051, 1052, 1053, 1054, 1055, 1056, 1057, 1058, 1059, 1060, 1061, 1062, 1063, 1064, 1065, 1066}, {10, 11, 12, 13, 14, 15, 16, 17, 18, 19, 20, 21, 22, 23, 24, 25, 26, 27, 28, 29, 30, 31, 32, 33, 34, 35, 36, 37, 38, 39, 40, 41, 42, 43, 44, 45, 46, 47, 48, 49, 50, 51, 52, 53, 54, 55, 56, 57, 58, 59, 60, 61, 62, 63, 64, 65, 66, 67, 68, 69, 70, 71, 72, 73, 74, 75, 76, 77, 78, 79, 80, 81, 82, 83, 84, 85, 86, 87, 88, 89, 90, 91, 92, 93, 94, 95, 96, 97, 98, 99, 100, 101, 102, 103, 104, 105, 106, 107, 108, 109, 110, 111, 112, 113, 114, 115, 116, 117, 118, 119, 120, 121, 122, 123, 124, 125, 126, 127, 128, 129, 130, 131, 132, 133, 134, 135, 136, 137, 138, 139, 140, 141, 142, 143, 144, 145, 146, 147, 148, 149, 150, 151, 152, 153, 154, 155, 156, 157, 158, 159, 160, 161, 162, 163, 164, 165, 166, 167, 168, 169, 170, 171, 172, 173, 174, 175, 176, 177, 178, 179, 180, 181, 182, 183, 184, 185, 186, 187, 188, 189, 190, 191, 192, 193, 194, 195, 196, 197, 198, 199, 200, 201, 202, 203, 204, 205, 206, 207, 208, 209, 210, 211, 212, 213, 214, 215, 216, 217, 218, 219, 220, 221, 222, 223, 224, 225, 226, 227, 228, 229, 230, 231, 232, 233, 234, 235, 236, 237, 238, 239, 240, 241, 242, 243, 244, 245, 246, 247, 248, 249, 250, 251, 252, 253, 254, 255, 256, 257, 258, 259, 260, 261, 262, 263, 264, 265, 266, 267, 268, 269, 270, 271, 272, 273, 274, 275, 276, 277, 278, 279, 280, 281, 282, 283, 284, 285, 286, 287, 288, 289, 290, 291, 292, 293, 294, 295, 296, 297, 298, 299, 300, 301, 302, 303, 304, 305, 306, 307, 308, 309, 310, 311, 312, 313, 314, 315, 316, 317, 318, 319, 320, 321, 322, 323, 324, 325, 326, 327, 328, 329, 330, 331, 332, 333, 334, 335, 336, 337, 338, 339, 340, 341, 342, 343, 344, 345, 346, 347, 348, 349, 350, 351, 352, 353, 354, 355, 356, 357, 358, 359, 360, 361, 362, 363, 364, 365, 366, 367, 368, 369, 370, 371, 372, 373, 374, 375, 376, 377, 378, 379, 380, 381, 382, 383, 384, 385, 386, 387, 388, 389, 390, 391, 392, 393, 394, 395, 396, 397, 398, 399, 400, 401, 402, 403, 404, 405, 406, 407, 408, 409, 410, 411, 412, 413, 414, 415, 416, 417, 418, 419, 420, 421, 422, 423, 424, 425, 426, 427, 428, 429, 430, 431, 432, 433, 434, 435, 436, 437, 438, 439, 440, 441, 442, 443, 444, 445, 446, 447, 448, 449, 450, 451, 452, 453, 454, 455, 456, 457, 458, 459, 460, 461, 462, 463, 464, 465, 466, 467, 468, 469, 470, 471, 472, 473, 474, 475, 476, 477, 478, 479, 480, 481, 482, 483, 484, 485, 486, 487, 488, 489, 490, 491, 492, 493, 494, 495, 496, 497, 498, 499, 500, 501, 502, 503, 504, 505, 506, 507, 508, 509, 510, 511, 512, 513, 514, 515, 516, 517, 518, 519, 520, 521, 522, 523, 524, 525, 526, 527, 528, 529, 530, 531, 532, 533, 534, 535, 536, 537, 538, 539, 540, 541, 542, 543, 544, 545, 546, 547, 548, 549, 550, 551, 552, 553, 554, 555, 556, 557, 558, 559, 560, 561, 562, 563, 564, 565, 566, 567, 568, 569, 570, 571, 572, 573, 574, 575, 576, 577, 578, 579, 580, 581, 582, 583, 584, 585, 586, 587, 588, 589, 590, 591, 592, 593, 594, 595, 596, 597, 598, 599, 600, 601, 602, 603, 604, 605, 606, 607, 608, 609, 610, 611, 612, 613, 614, 615, 616, 617, 618, 619, 620, 621, 622, 623, 624, 625, 626, 627, 628, 629, 630, 631, 632, 633, 634, 635, 636, 637, 638, 639, 640, 641, 642, 643, 644, 645, 646, 647, 648, 649, 650, 651, 652, 653, 654, 655, 656, 657, 658, 659, 660, 661, 662, 663, 664, 665, 666, 667, 668, 669, 670, 671, 672, 673, 674, 675, 676, 677, 678, 679, 680, 681, 682, 683, 684, 685, 686, 687, 688, 689, 690, 691, 692, 693, 694, 695, 696, 697, 698, 699, 700, 701, 702, 703, 704, 705, 706, 707, 708, 709, 710, 711, 712, 713, 714, 715, 716, 717, 718, 719, 720, 721, 722, 723, 724, 725, 726, 727, 728, 729, 730, 731, 732, 733, 734, 735, 736, 737, 738, 739, 740, 741, 742, 743, 744, 745, 746, 747, 748, 749, 750, 751, 752, 753, 754, 755, 756, 757, 758, 759, 760, 761, 762, 763, 764, 765, 766, 767, 768, 769, 770, 771, 772, 773, 774, 775, 776, 777, 778, 779, 780, 781, 782, 783, 784, 785, 786, 787, 788, 789, 790, 791, 792, 793, 794, 795, 796, 797, 798, 799, 800, 801, 802, 803, 804, 805, 806, 807, 808, 809, 810, 811, 812, 813, 814, 815, 816, 817, 818, 819, 820, 821, 822, 823, 824, 825, 826, 827, 828, 829, 830, 831, 832, 833, 834, 835, 836, 837, 838, 839, 840, 841, 842, 843, 844, 845, 846, 847, 848, 849, 850, 851, 852, 853, 854, 855, 856, 857, 858, 859, 860, 861, 862, 863, 864, 865, 866, 867, 868, 869, 870, 871, 872, 873, 874, 875, 876, 877, 878, 879, 880, 881, 882, 883, 884, 885, 886, 887, 888, 889, 890, 891, 892, 893, 894, 895, 896, 897, 898, 899, 900, 901, 902, 903, 904, 905, 906, 907, 908, 909, 910, 911, 912, 913, 914, 915, 916, 917, 918, 919, 920, 921, 922, 923, 924, 925, 926, 927, 928, 929, 930, 931, 932, 933, 934, 935, 936, 937, 938, 939, 940, 941, 942, 943, 944, 945, 946, 947, 948, 949, 950, 951, 952, 953, 954, 955, 956, 957, 958, 959, 960, 961, 962, 963, 964, 965, 966, 967, 968, 969, 970, 971, 972, 973, 974, 975, 976, 977, 978, 979, 980, 981, 982, 983, 984, 985, 986, 987, 988, 989, 990, 991, 992, 993, 994, 995, 996, 997, 998, 999, 1000, 1001, 1002, 1003, 1004, 1005, 1006, 1007, 1008, 1009, 1010, 1011, 1012, 1013, 1014, 1015, 1016, 1017, 1018, 1019, 1020, 1021, 1022, 1023, 1024, 1025, 1026, 1027, 1028, 1029, 1030, 1031, 1032, 1033, 1034, 1035, 1036, 1037, 1038, 1039, 1040, 1041, 1042, 1043, 1044, 1045, 1046, 1047, 1048, 1049, 1050, 1051, 1052, 1053, 1054, 1055, 1056, 1057, 1058, 1059, 1060, 1061, 1062, 1063, 1064, 1065, 1066}, {10, 11, 12, 13, 14, 15, 16, 17, 18, 19, 20, 21, 22, 23, 24, 25, 26, 27, 28, 29, 30, 31, 32, 33, 34, 35, 36, 37, 38, 39, 40, 41, 42, 43, 44, 45, 46, 47, 48, 49, 50, 51, 52, 53, 54, 55, 56, 57, 58, 59, 60, 61, 62, 63, 64, 65, 66, 67, 68, 69, 70, 71, 72, 73, 74, 75, 76, 77, 78, 79, 80, 81, 82, 83, 84, 85, 86, 87, 88, 89, 90, 91, 92, 93, 94, 95, 96, 97, 98, 99, 100, 101, 102, 103, 104, 105, 106, 107, 108, 109, 110, 111, 112, 113, 114, 115, 116, 117, 118, 119, 120, 121, 122, 123, 124, 125, 126, 127, 128, 129, 130, 131, 132, 133, 134, 135, 136, 137, 138, 139, 140, 141, 142, 143, 144, 145, 146, 147, 148, 149, 150, 151, 152, 153, 154, 155, 156, 157, 158, 159, 160, 161, 162, 163, 164, 165, 166, 167, 168, 169, 170, 171, 172, 173, 174, 175, 176, 177, 178, 179, 180, 181, 182, 183, 184, 185, 186, 187, 188, 189, 190, 191, 192, 193, 194, 195, 196, 197, 198, 199, 200, 201, 202, 203, 204, 205, 206, 207, 208, 209, 210, 211, 212, 213, 214, 215, 216, 217, 218, 219, 220, 221, 222, 223, 224, 225, 226, 227, 228, 229, 230, 231, 232, 233, 234, 235, 236, 237, 238, 239, 240, 241, 242, 243, 244, 245, 246, 247, 248, 249, 250, 251, 252, 253, 254, 255, 256, 257, 258, 259, 260, 261, 262, 263, 264, 265, 266, 267, 268, 269, 270, 271, 272, 273, 274, 275, 276, 277, 278, 279, 280, 281, 282, 283, 284, 285, 286, 287, 288, 289, 290, 291, 292, 293, 294, 295, 296, 297, 298, 299, 300, 301, 302, 303, 304, 305, 306, 307, 308, 309, 310, 311, 312, 313, 314, 315, 316, 317, 318, 319, 320, 321, 322, 323, 324, 325, 326, 327, 328, 329, 330, 331, 332, 333, 334, 335, 336, 337, 338, 339, 340, 341, 342, 343, 344, 345, 346, 347, 348, 349, 350, 351, 352, 353, 354, 355, 356, 357, 358, 359, 360, 361, 362, 363, 364, 365, 366, 367, 368, 369, 370, 371, 372, 373, 374, 375, 376, 377, 378, 379, 380, 381, 382, 383, 384, 385, 386, 387, 388, 389, 390, 391, 392, 393, 394, 395, 396, 397, 398, 399, 400, 401, 402, 403, 404, 405, 406, 407, 408, 409, 410, 411, 412, 413, 414, 415, 416, 417, 418, 419, 420, 421, 422, 423, 424, 425, 426, 427, 428, 429, 430, 431, 432, 433, 434, 435, 436, 437, 438, 439, 440, 441, 442, 443, 444, 445, 446, 447, 448, 449, 450, 451, 452, 453, 454, 455, 456, 457, 458, 459, 460, 461, 462, 463, 464, 465, 466, 467, 468, 469, 470, 471, 472, 473, 474, 475, 476, 477, 478, 479, 480, 481, 482, 483, 484, 485, 486, 487, 488, 489, 490, 491, 492, 493, 494, 495, 496, 497, 498, 499, 500, 501, 502, 503, 504, 505, 506, 507, 508, 509, 510, 511, 512, 513, 514, 515, 516, 517, 518, 519, 520, 521, 522, 523, 524, 525, 526, 527, 528, 529, 530, 531, 532, 533, 534, 535, 536, 537, 538, 539, 540, 541, 542, 543, 544, 545, 546, 547, 548, 549, 550, 551, 552, 553, 554, 555, 556, 557, 558, 559, 560, 561, 562, 563, 564, 565, 566, 567, 568, 569, 570, 571, 572, 573, 574, 575, 576, 577, 578, 579, 580, 581, 582, 583, 584, 585, 586, 587, 588, 589, 590, 591, 592, 593, 594, 595, 596, 597, 598, 599, 600, 601, 602, 603, 604, 605, 606, 607, 608, 609, 610, 611, 612, 613, 614, 615, 616, 617, 618, 619, 620, 621, 622, 623, 624, 625, 626, 627, 628, 629, 630, 631, 632, 633, 634, 635, 636, 637, 638, 639, 640, 641, 642, 643, 644, 645, 646, 647, 648, 649, 650, 651, 652, 653, 654, 655, 656, 657, 658, 659, 660, 661, 662, 663, 664, 665, 666, 667, 668, 669, 670, 671, 672, 673, 674, 675, 676, 677, 678, 679, 680, 681, 682, 683, 684, 685, 686, 687, 688, 689, 690, 691, 692, 693, 694, 695, 696, 697, 698, 699, 700, 701, 702, 703, 704, 705, 706, 707, 708, 709, 710, 711, 712, 713, 714, 715, 716, 717, 718, 719, 720, 721, 722, 723, 724, 725, 726, 727, 728, 729, 730, 731, 732, 733, 734, 735, 736, 737, 738, 739, 740, 741, 742, 743, 744, 745, 746, 747, 748, 749, 750, 751, 752, 753, 754, 755, 756, 757, 758, 759, 760, 761, 762, 763, 764, 765, 766, 767, 768, 769, 770, 771, 772, 773, 774, 775, 776, 777, 778, 779, 780, 781, 782, 783, 784, 785, 786, 787, 788, 789, 790, 791, 792, 793, 794, 795, 796, 797, 798, 799, 800, 801, 802, 803, 804, 805, 806, 807, 808, 809, 810, 811, 812, 813, 814, 815, 816, 817, 818, 819, 820, 821, 822, 823, 824, 825, 826, 827, 828, 829, 830, 831, 832, 833, 834, 835, 836, 837, 838, 839, 840, 841, 842, 843, 844, 845, 846, 847, 848, 849, 850, 851, 852, 853, 854, 855, 856, 857, 858, 859, 860, 861, 862, 863, 864, 865, 866, 867, 868, 869, 870, 871, 872, 873, 874, 875, 876, 877, 878, 879, 880, 881, 882, 883, 884, 885, 886, 887, 888, 889, 890, 891, 892, 893, 894, 895, 896, 897, 898, 899, 900, 901, 902, 903, 904, 905, 906, 907, 908, 909, 910, 911, 912, 913, 914, 915, 916, 917, 918, 919, 920, 921, 922, 923, 924, 925, 926, 927, 928, 929, 930, 931, 932, 933, 934, 935, 936, 937, 938, 939, 940, 941, 942, 943, 944, 945, 946, 947, 948, 949, 950, 951, 952, 953, 954, 955, 956, 957, 958, 959, 960, 961, 962, 963, 964, 965, 966, 967, 968, 969, 970, 971, 972, 973, 974, 975, 976, 977, 978, 979, 980, 981, 982, 983, 984, 985, 986, 987, 988, 989, 990, 991, 992, 993, 994, 995, 996, 997, 998, 999, 1000, 1001, 1002, 1003, 1004, 1005, 1006, 1007, 1008, 1009, 1010, 1011, 1012, 1013, 1014, 1015, 1016, 1017, 1018, 1019, 1020, 1021, 1022, 1023, 1024, 1025, 1026, 1027, 1028, 1029, 1030, 1031, 1032, 1033, 1034, 1035, 1036, 1037, 1038, 1039, 1040, 1041, 1042, 1043, 1044, 1045, 1046, 1047, 1048, 1049, 1050, 1051, 1052, 1053, 1054, 1055, 1056, 1057, 1058, 1059, 1060, 1061, 1062, 1063, 1064, 1065, 1066}, {10, 11, 12, 13, 14, 15, 16, 17, 18, 19, 20, 21, 22, 23, 24, 25, 26, 27, 28, 29, 30, 31, 32, 33, 34, 35, 36, 37, 38, 39, 40, 41, 42, 43, 44, 45, 46, 47, 48, 49, 50, 51, 52, 53, 54, 55, 56, 57, 58, 59, 60, 61, 62, 63, 64, 65, 66, 67, 68, 69, 70, 71, 72, 73, 74, 75, 76, 77, 78, 79, 80, 81, 82, 83, 84, 85, 86, 87, 88, 89, 90, 91, 92, 93, 94, 95, 96, 97, 98, 99, 100, 101, 102, 103, 104, 105, 106, 107, 108, 109, 110, 111, 112, 113, 114, 115, 116, 117, 118, 119, 120, 121, 122, 123, 124, 125, 126, 127, 128, 129, 130, 131, 132, 133, 134, 135, 136, 137, 138, 139, 140, 141, 142, 143, 144, 145, 146, 147, 148, 149, 150, 151, 152, 153, 154, 155, 156, 157, 158, 159, 160, 161, 162, 163, 164, 165, 166, 167, 168, 169, 170, 171, 172, 173, 174, 175, 176, 177, 178, 179, 180, 181, 182, 183, 184, 185, 186, 187, 188, 189, 190, 191, 192, 193, 194, 195, 196, 197, 198, 199, 200, 201, 202, 203, 204, 205, 206, 207, 208, 209, 210, 211, 212, 213, 214, 215, 216, 217, 218, 219, 220, 221, 222, 223, 224, 225, 226, 227, 228, 229, 230, 231, 232, 233, 234, 235, 236, 237, 238, 239, 240, 241, 242, 243, 244, 245, 246, 247, 248, 249, 250, 251, 252, 253, 254, 255, 256, 257, 258, 259, 260, 261, 262, 263, 264, 265, 266, 267, 268, 269, 270, 271, 272, 273, 274, 275, 276, 277, 278, 279, 280, 281, 282, 283, 284, 285, 286, 287, 288, 289, 290, 291, 292, 293, 294, 295, 296, 297, 298, 299, 300, 301, 302, 303, 304, 305, 306, 307, 308, 309, 310, 311, 312, 313, 314, 315, 316, 317, 318, 319, 320, 321, 322, 323, 324, 325, 326, 327, 328, 329, 330, 331, 332, 333, 334, 335, 336, 337, 338, 339, 340, 341, 342, 343, 344, 345, 346, 347, 348, 349, 350, 351, 352, 353, 354, 355, 356, 357, 358, 359, 360, 361, 362, 363, 364, 365, 366, 367, 368, 369, 370, 371, 372, 373, 374, 375, 376, 377, 378, 379, 380, 381, 382, 383, 384, 385, 386, 387, 388, 389, 390, 391, 392, 393, 394, 395, 396, 397, 398, 399, 400, 401, 402, 403, 404, 405, 406, 407, 408, 409, 410, 411, 412, 413, 414, 415, 416, 417, 418, 419, 420, 421, 422, 423, 424, 425, 426, 427, 428, 429, 430, 431, 432, 433, 434, 435, 436, 437, 438, 439, 440, 441, 442, 443, 444, 445, 446, 447, 448, 449, 450, 451, 452, 453, 454, 455, 456, 457, 458, 459, 460, 461, 462, 463, 464, 465, 466, 467, 468, 469, 470, 471, 472, 473, 474, 475, 476, 477, 478, 479, 480, 481, 482, 483, 484, 485, 486, 487, 488, 489, 490, 491, 492, 493, 494, 495, 496, 497, 498, 499, 500, 501, 502, 503, 504, 505, 506, 507, 508, 509, 510, 511, 512, 513, 514, 515, 516, 517, 518, 519, 520, 521, 522, 523, 524, 525, 526, 527, 528, 529, 530, 531, 532, 533, 534, 535, 536, 537, 538, 539, 540, 541, 542, 543, 544, 545, 546, 547, 548, 549, 550, 551, 552, 553, 554, 555, 556, 557, 558, 559, 560, 561, 562, 563, 564, 565, 566, 567, 568, 569, 570, 571, 572, 573, 574, 575, 576, 577, 578, 579, 580, 581, 582, 583, 584, 585, 586, 587, 588, 589, 590, 591, 592, 593, 594, 595, 596, 597, 598, 599, 600, 601, 602, 603, 604, 605, 606, 607, 608, 609, 610, 611, 612, 613, 614, 615, 616, 617, 618, 619, 620, 621, 622, 623, 624, 625, 626, 627, 628, 629, 630, 631, 632, 633, 634, 635, 636, 637, 638, 639, 640, 641, 642, 643, 644, 645, 646, 647, 648, 649, 650, 651, 652, 653, 654, 655, 656, 657, 658, 659, 660, 661, 662, 663, 664, 665, 666, 667, 668, 669, 670, 671, 672, 673, 674, 675, 676, 677, 678, 679, 680, 681, 682, 683, 684, 685, 686, 687, 688, 689, 690, 691, 692, 693, 694, 695, 696, 697, 698, 699, 700, 701, 702, 703, 704, 705, 706, 707, 708, 709, 710, 711, 712, 713, 714, 715, 716, 717, 718, 719, 720, 721, 722, 723, 724, 725, 726, 727, 728, 729, 730, 731, 732, 733, 734, 735, 736, 737, 738, 739, 740, 741, 742, 743, 744, 745, 746, 747, 748, 749, 750, 751, 752, 753, 754, 755, 756, 757, 758, 759, 760, 761, 762, 763, 764, 765, 766, 767, 768, 769, 770, 771, 772, 773, 774, 775, 776, 777, 778, 779, 780, 781, 782, 783, 784, 785, 786, 787, 788, 789, 790, 791, 792, 793, 794, 795, 796, 797, 798, 799, 800, 801, 802, 803, 804, 805, 806, 807, 808, 809, 810, 811, 812, 813, 814, 815, 816, 817, 818, 819, 820, 821, 822, 823, 824, 825, 826, 827, 828, 829, 830, 831, 832, 833, 834, 835, 836, 837, 838, 839, 840, 841, 842, 843, 844, 845, 846, 847, 848, 849, 850, 851, 852, 853, 854, 855, 856, 857, 858, 859, 860, 861, 862, 863, 864, 865, 866, 867, 868, 869, 870, 871, 872, 873, 874, 875, 876, 877, 878, 879, 880, 881, 882, 883, 884, 885, 886, 887, 888, 889, 890, 891, 892, 893, 894, 895, 896, 897, 898, 899, 900, 901, 902, 903, 904, 905, 906, 907, 908, 909, 910, 911, 912, 913, 914, 915, 916, 917, 918, 919, 920, 921, 922, 923, 924, 925, 926, 927, 928, 929, 930, 931, 932, 933, 934, 935, 936, 937, 938, 939, 940, 941, 942, 943, 944, 945, 946, 947, 948, 949, 950, 951, 952, 953, 954, 955, 956, 957, 958, 959, 960, 961, 962, 963, 964, 965, 966, 967, 968, 969, 970, 971, 972, 973, 974, 975, 976, 977, 978, 979, 980, 981, 982, 983, 984, 985, 986, 987, 988, 989, 990, 991, 992, 993, 994, 995, 996, 997, 998, 999, 1000, 1001, 1002, 1003, 1004, 1005, 1006, 1007, 1008, 1009, 1010, 1011, 1012, 1013, 1014, 1015, 1016, 1017, 1018, 1019, 1020, 1021, 1022, 1023, 1024, 1025, 1026, 1027, 1028, 1029, 1030, 1031, 1032, 1033, 1034, 1035, 1036, 1037, 1038, 1039, 1040, 1041, 1042, 1043, 1044, 1045, 1046, 1047, 1048, 1049, 1050, 1051, 1052, 1053, 1054, 1055, 1056, 1057, 1058, 1059, 1060, 1061, 1062, 1063, 1064, 1065, 1066}, {10, 11, 12, 13, 14, 15, 16, 17, 18, 19, 20, 21, 22, 23, 24, 25, 26, 27, 28, 29, 30, 31, 32, 33, 34, 35, 36, 37, 38, 39, 40, 41, 42, 43, 44, 45, 46, 47, 48, 49, 50, 51, 52, 53, 54, 55, 56, 57, 58, 59, 60, 61, 62, 63, 64, 65, 66, 67, 68, 69, 70, 71, 72, 73, 74, 75, 76, 77, 78, 79, 80, 81, 82, 83, 84, 85, 86, 87, 88, 89, 90, 91, 92, 93, 94, 95, 96, 97, 98, 99, 100, 101, 102, 103, 104, 105, 106, 107, 108, 109, 110, 111, 112, 113, 114, 115, 116, 117, 118, 119, 120, 121, 122, 123, 124, 125, 126, 127, 128, 129, 130, 131, 132, 133, 134, 135, 136, 137, 138, 139, 140, 141, 142, 143, 144, 145, 146, 147, 148, 149, 150, 151, 152, 153, 154, 155, 156, 157, 158, 159, 160, 161, 162, 163, 164, 165, 166, 167, 168, 169, 170, 171, 172, 173, 174, 175, 176, 177, 178, 179, 180, 181, 182, 183, 184, 185, 186, 187, 188, 189, 190, 191, 192, 193, 194, 195, 196, 197, 198, 199, 200, 201, 202, 203, 204, 205, 206, 207, 208, 209, 210, 211, 212, 213, 214, 215, 216, 217, 218, 219, 220, 221, 222, 223, 224, 225, 226, 227, 228, 229, 230, 231, 232, 233, 234, 235, 236, 237, 238, 239, 240, 241, 242, 243, 244, 245, 246, 247, 248, 249, 250, 251, 252, 253, 254, 255, 256, 257, 258, 259, 260, 261, 262, 263, 264, 265, 266, 267, 268, 269, 270, 271, 272, 273, 274, 275, 276, 277, 278, 279, 280, 281, 282, 283, 284, 285, 286, 287, 288, 289, 290, 291, 292, 293, 294, 295, 296, 297, 298, 299, 300, 301, 302, 303, 304, 305, 306, 307, 308, 309, 310, 311, 312, 313, 314, 315, 316, 317, 318, 319, 320, 321, 322, 323, 324, 325, 326, 327, 328, 329, 330, 331, 332, 333, 334, 335, 336, 337, 338, 339, 340, 341, 342, 343, 344, 345, 346, 347, 348, 349, 350, 351, 352, 353, 354, 355, 356, 357, 358, 359, 360, 361, 362, 363, 364, 365, 366, 367, 368, 369, 370, 371, 372, 373, 374, 375, 376, 377, 378, 379, 380, 381, 382, 383, 384, 385, 386, 387, 388, 389, 390, 391, 392, 393, 394, 395, 396, 397, 398, 399, 400, 401, 402, 403, 404, 405, 406, 407, 408, 409, 410, 411, 412, 413, 414, 415, 416, 417, 418, 419, 420, 421, 422, 423, 424, 425, 426, 427, 428, 429, 430, 431, 432, 433, 434, 435, 436, 437, 438, 439, 440, 441, 442, 443, 444, 445, 446, 447, 448, 449, 450, 451, 452, 453, 454, 455, 456, 457, 458, 459, 460, 461, 462, 463, 464, 465, 466, 467, 468, 469, 470, 471, 472, 473, 474, 475, 476, 477, 478, 479, 480, 481, 482, 483, 484, 485, 486, 487, 488, 489, 490, 491, 492, 493, 494, 495, 496, 497, 498, 499, 500, 501, 502, 503, 504, 505, 506, 507, 508, 509, 510, 511, 512, 513, 514, 515, 516, 517, 518, 519, 520, 521, 522, 523, 524, 525, 526, 527, 528, 529, 530, 531, 532, 533, 534, 535, 536, 537, 538, 539, 540, 541, 542, 543, 544, 545, 546, 547, 548, 549, 550, 551, 552, 553, 554, 555, 556, 557, 558, 559, 560, 561, 562, 563, 564, 565, 566, 567, 568, 569, 570, 571, 572, 573, 574, 575, 576, 577, 578, 579, 580, 581, 582, 583, 584, 585, 586, 587, 588, 589, 590, 591, 592, 593, 594, 595, 596, 597, 598, 599, 600, 601, 602, 603, 604, 605, 606, 607, 608, 609, 610, 611, 612, 613, 614, 615, 616, 617, 618, 619, 620, 621, 622, 623, 624, 625, 626, 627, 628, 629, 630, 631, 632, 633, 634, 635, 636, 637, 638, 639, 640, 641, 642, 643, 644, 645, 646, 647, 648, 649, 650, 651, 652, 653, 654, 655, 656, 657, 658, 659, 660, 661, 662, 663, 664, 665, 666, 667, 668, 669, 670, 671, 672, 673, 674, 675, 676, 677, 678, 679, 680, 681, 682, 683, 684, 685, 686, 687, 688, 689, 690, 691, 692, 693, 694, 695, 696, 697, 698, 699, 700, 701, 702, 703, 704, 705, 706, 707, 708, 709, 710, 711, 712, 713, 714, 715, 716, 717, 718, 719, 720, 721, 722, 723, 724, 725, 726, 727, 728, 729, 730, 731, 732, 733, 734, 735, 736, 737, 738, 739, 740, 741, 742, 743, 744, 745, 746, 747, 748, 749, 750, 751, 752, 753, 754, 755, 756, 757, 758, 759, 760, 761, 762, 763, 764, 765, 766, 767, 768, 769, 770, 771, 772, 773, 774, 775, 776, 777, 778, 779, 780, 781, 782, 783, 784, 785, 786, 787, 788, 789, 790, 791, 792, 793, 794, 795, 796, 797, 798, 799, 800, 801, 802, 803, 804, 805, 806, 807, 808, 809, 810, 811, 812, 813, 814, 815, 816, 817, 818, 819, 820, 821, 822, 823, 824, 825, 826, 827, 828, 829, 830, 831, 832, 833, 834, 835, 836, 837, 838, 839, 840, 841, 842, 843, 844, 845, 846, 847, 848, 849, 850, 851, 852, 853, 854, 855, 856, 857, 858, 859, 860, 861, 862, 863, 864, 865, 866, 867, 868, 869, 870, 871, 872, 873, 874, 875, 876, 877, 878, 879, 880, 881, 882, 883, 884, 885, 886, 887, 888, 889, 890, 891, 892, 893, 894, 895, 896, 897, 898, 899, 900, 901, 902, 903, 904, 905, 906, 907, 908, 909, 910, 911, 912, 913, 914, 915, 916, 917, 918, 919, 920, 921, 922, 923, 924, 925, 926, 927, 928, 929, 930, 931, 932, 933, 934, 935, 936, 937, 938, 939, 940, 941, 942, 943, 944, 945, 946, 947, 948, 949, 950, 951, 952, 953, 954, 955, 956, 957, 958, 959, 960, 961, 962, 963, 964, 965, 966, 967, 968, 969, 970, 971, 972, 973, 974, 975, 976, 977, 978, 979, 980, 981, 982, 983, 984, 985, 986, 987, 988, 989, 990, 991, 992, 993, 994, 995, 996, 997, 998, 999, 1000, 1001, 1002, 1003, 1004, 1005, 1006, 1007, 1008, 1009, 1010, 1011, 1012, 1013, 1014, 1015, 1016, 1017, 1018, 1019, 1020, 1021, 1022, 1023, 1024, 1025, 1026, 1027, 1028, 1029, 1030, 1031, 1032, 1033, 1034, 1035, 1036, 1037, 1038, 1039, 1040, 1041, 1042, 1043, 1044, 1045, 1046, 1047, 1048, 1049, 1050, 1051, 1052, 1053, 1054, 1055, 1056, 1057, 1058, 1059, 1060, 1061, 1062, 1063, 1064, 1065, 1066}, {10, 11, 12, 13, 14, 15, 16, 17, 18, 19, 20, 21, 22, 23, 24, 25, 26, 27, 28, 29, 30, 31, 32, 33, 34, 35, 36, 37, 38, 39, 40, 41, 42, 43, 44, 45, 46, 47, 48, 49, 50, 51, 52, 53, 54, 55, 56, 57, 58, 59, 60, 61, 62, 63, 64, 65, 66, 67, 68, 69, 70, 71, 72, 73, 74, 75, 76, 77, 78, 79, 80, 81, 82, 83, 84, 85, 86, 87, 88, 89, 90, 91, 92, 93, 94, 95, 96, 97, 98, 99, 100, 101, 102, 103, 104, 105, 106, 107, 108, 109, 110, 111, 112, 113, 114, 115, 116, 117, 118, 119, 120, 121, 122, 123, 124, 125, 126, 127, 128, 129, 130, 131, 132, 133, 134, 135, 136, 137, 138, 139, 140, 141, 142, 143, 144, 145, 146, 147, 148, 149, 150, 151, 152, 153, 154, 155, 156, 157, 158, 159, 160, 161, 162, 163, 164, 165, 166, 167, 168, 169, 170, 171, 172, 173, 174, 175, 176, 177, 178, 179, 180, 181, 182, 183, 184, 185, 186, 187, 188, 189, 190, 191, 192, 193, 194, 195, 196, 197, 198, 199, 200, 201, 202, 203, 204, 205, 206, 207, 208, 209, 210, 211, 212, 213, 214, 215, 216, 217, 218, 219, 220, 221, 222, 223, 224, 225, 226, 227, 228, 229, 230, 231, 232, 233, 234, 235, 236, 237, 238, 239, 240, 241, 242, 243, 244, 245, 246, 247, 248, 249, 250, 251, 252, 253, 254, 255, 256, 257, 258, 259, 260, 261, 262, 263, 264, 265, 266, 267, 268, 269, 270, 271, 272, 273, 274, 275, 276, 277, 278, 279, 280, 281, 282, 283, 284, 285, 286, 287, 288, 289, 290, 291, 292, 293, 294, 295, 296, 297, 298, 299, 300, 301, 302, 303, 304, 305, 306, 307, 308, 309, 310, 311, 312, 313, 314, 315, 316, 317, 318, 319, 320, 321, 322, 323, 324, 325, 326, 327, 328, 329, 330, 331, 332, 333, 334, 335, 336, 337, 338, 339, 340, 341, 342, 343, 344, 345, 346, 347, 348, 349, 350, 351, 352, 353, 354, 355, 356, 357, 358, 359, 360, 361, 362, 363, 364, 365, 366, 367, 368, 369, 370, 371, 372, 373, 374, 375, 376, 377, 378, 379, 380, 381, 382, 383, 384, 385, 386, 387, 388, 389, 390, 391, 392, 393, 394, 395, 396, 397, 398, 399, 400, 401, 402, 403, 404, 405, 406, 407, 408, 409, 410, 411, 412, 413, 414, 415, 416, 417, 418, 419, 420, 421, 422, 423, 424, 425, 426, 427, 428, 429, 430, 431, 432, 433, 434, 435, 436, 437, 438, 439, 440, 441, 442, 443, 444, 445, 446, 447, 448, 449, 450, 451, 452, 453, 454, 455, 456, 457, 458, 459, 460, 461, 462, 463, 464, 465, 466, 467, 468, 469, 470, 471, 472, 473, 474, 475, 476, 477, 478, 479, 480, 481, 482, 483, 484, 485, 486, 487, 488, 489, 490, 491, 492, 493, 494, 495, 496, 497, 498, 499, 500, 501, 502, 503, 504, 505, 506, 507, 508, 509, 510, 511, 512, 513, 514, 515, 516, 517, 518, 519, 520, 521, 522, 523, 524, 525, 526, 527, 528, 529, 530, 531, 532, 533, 534, 535, 536, 537, 538, 539, 540, 541, 542, 543, 544, 545, 546, 547, 548, 549, 550, 551, 552, 553, 554, 555, 556, 557, 558, 559, 560, 561, 562, 563, 564, 565, 566, 567, 568, 569, 570, 571, 572, 573, 574, 575, 576, 577, 578, 579, 580, 581, 582, 583, 584, 585, 586, 587, 588, 589, 590, 591, 592, 593, 594, 595, 596, 597, 598, 599, 600, 601, 602, 603, 604, 605, 606, 607, 608, 609, 610, 611, 612, 613, 614, 615, 616, 617, 618, 619, 620, 621, 622, 623, 624, 625, 626, 627, 628, 629, 630, 631, 632, 633, 634, 635, 636, 637, 638, 639, 640, 641, 642, 643, 644, 645, 646, 647, 648, 649, 650, 651, 652, 653, 654, 655, 656, 657, 658, 659, 660, 661, 662, 663, 664, 665, 666, 667, 668, 669, 670, 671, 672, 673, 674, 675, 676, 677, 678, 679, 680, 681, 682, 683, 684, 685, 686, 687, 688, 689, 690, 691, 692, 693, 694, 695, 696, 697, 698, 699, 700, 701, 702, 703, 704, 705, 706, 707, 708, 709, 710, 711, 712, 713, 714, 715, 716, 717, 718, 719, 720, 721, 722, 723, 724, 725, 726, 727, 728, 729, 730, 731, 732, 733, 734, 735, 736, 737, 738, 739, 740, 741, 742, 743, 744, 745, 746, 747, 748, 749, 750, 751, 752, 753, 754, 755, 756, 757, 758, 759, 760, 761, 762, 763, 764, 765, 766, 767, 768, 769, 770, 771, 772, 773, 774, 775, 776, 777, 778, 779, 780, 781, 782, 783, 784, 785, 786, 787, 788, 789, 790, 791, 792, 793, 794, 795, 796, 797, 798, 799, 800, 801, 802, 803, 804, 805, 806, 807, 808, 809, 810, 811, 812, 813, 814, 815, 816, 817, 818, 819, 820, 821, 822, 823, 824, 825, 826, 827, 828, 829, 830, 831, 832, 833, 834, 835, 836, 837, 838, 839, 840, 841, 842, 843, 844, 845, 846, 847, 848, 849, 850, 851, 852, 853, 854, 855, 856, 857, 858, 859, 860, 861, 862, 863, 864, 865, 866, 867, 868, 869, 870, 871, 872, 873, 874, 875, 876, 877, 878, 879, 880, 881, 882, 883, 884, 885, 886, 887, 888, 889, 890, 891, 892, 893, 894, 895, 896, 897, 898, 899, 900, 901, 902, 903, 904, 905, 906, 907, 908, 909, 910, 911, 912, 913, 914, 915, 916, 917, 918, 919, 920, 921, 922, 923, 924, 925, 926, 927, 928, 929, 930, 931, 932, 933, 934, 935, 936, 937, 938, 939, 940, 941, 942, 943, 944, 945, 946, 947, 948, 949, 950, 951, 952, 953, 954, 955, 956, 957, 958, 959, 960, 961, 962, 963, 964, 965, 966, 967, 968, 969, 970, 971, 972, 973, 974, 975, 976, 977, 978, 979, 980, 981, 982, 983, 984, 985, 986, 987, 988, 989, 990, 991, 992, 993, 994, 995, 996, 997, 998, 999, 1000, 1001, 1002, 1003, 1004, 1005, 1006, 1007, 1008, 1009, 1010, 1011, 1012, 1013, 1014, 1015, 1016, 1017, 1018, 1019, 1020, 1021, 1022, 1023, 1024, 1025, 1026, 1027, 1028, 1029, 1030, 1031, 1032, 1033, 1034, 1035, 1036, 1037, 1038, 1039, 1040, 1041, 1042, 1043, 1044, 1045, 1046, 1047, 1048, 1049, 1050, 1051, 1052, 1053, 1054, 1055, 1056, 1057, 1058, 1059, 1060, 1061, 1062, 1063, 1064, 1065, 1066}, {10, 11, 12, 13, 14, 15, 16, 17, 18, 19, 20, 21, 22, 23, 24, 25, 26, 27, 28, 29, 30, 31, 32, 33, 34, 35, 36, 37, 38, 39, 40, 41, 42, 43, 44, 45, 46, 47, 48, 49, 50, 51, 52, 53, 54, 55, 56, 57, 58, 59, 60, 61, 62, 63, 64, 65, 66, 67, 68, 69, 70, 71, 72, 73, 74, 75, 76, 77, 78, 79, 80, 81, 82, 83, 84, 85, 86, 87, 88, 89, 90, 91, 92, 93, 94, 95, 96, 97, 98, 99, 100, 101, 102, 103, 104, 105, 106, 107, 108, 109, 110, 111, 112, 113, 114, 115, 116, 117, 118, 119, 120, 121, 122, 123, 124, 125, 126, 127, 128, 129, 130, 131, 132, 133, 134, 135, 136, 137, 138, 139, 140, 141, 142, 143, 144, 145, 146, 147, 148, 149, 150, 151, 152, 153, 154, 155, 156, 157, 158, 159, 160, 161, 162, 163, 164, 165, 166, 167, 168, 169, 170, 171, 172, 173, 174, 175, 176, 177, 178, 179, 180, 181, 182, 183, 184, 185, 186, 187, 188, 189, 190, 191, 192, 193, 194, 195, 196, 197, 198, 199, 200, 201, 202, 203, 204, 205, 206, 207, 208, 209, 210, 211, 212, 213, 214, 215, 216, 217, 218, 219, 220, 221, 222, 223, 224, 225, 226, 227, 228, 229, 230, 231, 232, 233, 234, 235, 236, 237, 238, 239, 240, 241, 242, 243, 244, 245, 246, 247, 248, 249, 250, 251, 252, 253, 254, 255, 256, 257, 258, 259, 260, 261, 262, 263, 264, 265, 266, 267, 268, 269, 270, 271, 272, 273, 274, 275, 276, 277, 278, 279, 280, 281, 282, 283, 284, 285, 286, 287, 288, 289, 290, 291, 292, 293, 294, 295, 296, 297, 298, 299, 300, 301, 302, 303, 304, 305, 306, 307, 308, 309, 310, 311, 312, 313, 314, 315, 316, 317, 318, 319, 320, 321, 322, 323, 324, 325, 326, 327, 328, 329, 330, 331, 332, 333, 334, 335, 336, 337, 338, 339, 340, 341, 342, 343, 344, 345, 346, 347, 348, 349, 350, 351, 352, 353, 354, 355, 356, 357, 358, 359, 360, 361, 362, 363, 364, 365, 366, 367, 368, 369, 370, 371, 372, 373, 374, 375, 376, 377, 378, 379, 380, 381, 382, 383, 384, 385, 386, 387, 388, 389, 390, 391, 392, 393, 394, 395, 396, 397, 398, 399, 400, 401, 402, 403, 404, 405, 406, 407, 408, 409, 410, 411, 412, 413, 414, 415, 416, 417, 418, 419, 420, 421, 422, 423, 424, 425, 426, 427, 428, 429, 430, 431, 432, 433, 434, 435, 436, 437, 438, 439, 440, 441, 442, 443, 444, 445, 446, 447, 448, 449, 450, 451, 452, 453, 454, 455, 456, 457, 458, 459, 460, 461, 462, 463, 464, 465, 466, 467, 468, 469, 470, 471, 472, 473, 474, 475, 476, 477, 478, 479, 480, 481, 482, 483, 484, 485, 486, 487, 488, 489, 490, 491, 492, 493, 494, 495, 496, 497, 498, 499, 500, 501, 502, 503, 504, 505, 506, 507, 508, 509, 510, 511, 512, 513, 514, 515, 516, 517, 518, 519, 520, 521, 522, 523, 524, 525, 526, 527, 528, 529, 530, 531, 532, 533, 534, 535, 536, 537, 538, 539, 540, 541, 542, 543, 544, 545, 546, 547, 548, 549, 550, 551, 552, 553, 554, 555, 556, 557, 558, 559, 560, 561, 562, 563, 564, 565, 566, 567, 568, 569, 570, 571, 572, 573, 574, 575, 576, 577, 578, 579, 580, 581, 582, 583, 584, 585, 586, 587, 588, 589, 590, 591, 592, 593, 594, 595, 596, 597, 598, 599, 600, 601, 602, 603, 604, 605, 606, 607, 608, 609, 610, 611, 612, 613, 614, 615, 616, 617, 618, 619, 620, 621, 622, 623, 624, 625, 626, 627, 628, 629, 630, 631, 632, 633, 634, 635, 636, 637, 638, 639, 640, 641, 642, 643, 644, 645, 646, 647, 648, 649, 650, 651, 652, 653, 654, 655, 656, 657, 658, 659, 660, 661, 662, 663, 664, 665, 666, 667, 668, 669, 670, 671, 672, 673, 674, 675, 676, 677, 678, 679, 680, 681, 682, 683, 684, 685, 686, 687, 688, 689, 690, 691, 692, 693, 694, 695, 696, 697, 698, 699, 700, 701, 702, 703, 704, 705, 706, 707, 708, 709, 710, 711, 712, 713, 714, 715, 716, 717, 718, 719, 720, 721, 722, 723, 724, 725, 726, 727, 728, 729, 730, 731, 732, 733, 734, 735, 736, 737, 738, 739, 740, 741, 742, 743, 744, 745, 746, 747, 748, 749, 750, 751, 752, 753, 754, 755, 756, 757, 758, 759, 760, 761, 762, 763, 764, 765, 766, 767, 768, 769, 770, 771, 772, 773, 774, 775, 776, 777, 778, 779, 780, 781, 782, 783, 784, 785, 786, 787, 788, 789, 790, 791, 792, 793, 794, 795, 796, 797, 798, 799, 800, 801, 802, 803, 804, 805, 806, 807, 808, 809, 810, 811, 812, 813, 814, 815, 816, 817, 818, 819, 820, 821, 822, 823, 824, 825, 826, 827, 828, 829, 830, 831, 832, 833, 834, 835, 836, 837, 838, 839, 840, 841, 842, 843, 844, 845, 846, 847, 848, 849, 850, 851, 852, 853, 854, 855, 856, 857, 858, 859, 860, 861, 862, 863, 864, 865, 866, 867, 868, 869, 870, 871, 872, 873, 874, 875, 876, 877, 878, 879, 880, 881, 882, 883, 884, 885, 886, 887, 888, 889, 890, 891, 892, 893, 894, 895, 896, 897, 898, 899, 900, 901, 902, 903, 904, 905, 906, 907, 908, 909, 910, 911, 912, 913, 914, 915, 916, 917, 918, 919, 920, 921, 922, 923, 924, 925, 926, 927, 928, 929, 930, 931, 932, 933, 934, 935, 936, 937, 938, 939, 940, 941, 942, 943, 944, 945, 946, 947, 948, 949, 950, 951, 952, 953, 954, 955, 956, 957, 958, 959, 960, 961, 962, 963, 964, 965, 966, 967, 968, 969, 970, 971, 972, 973, 974, 975, 976, 977, 978, 979, 980, 981, 982, 983, 984, 985, 986, 987, 988, 989, 990, 991, 992, 993, 994, 995, 996, 997, 998, 999, 1000, 1001, 1002, 1003, 1004, 1005, 1006, 1007, 1008, 1009, 1010, 1011, 1012, 1013, 1014, 1015, 1016, 1017, 1018, 1019, 1020, 1021, 1022, 1023, 1024, 1025, 1026, 1027, 1028, 1029, 1030, 1031, 1032, 1033, 1034, 1035, 1036, 1037, 1038, 1039, 1040, 1041, 1042, 1043, 1044, 1045, 1046, 1047, 1048, 1049, 1050, 1051, 1052, 1053, 1054, 1055, 1056, 1057, 1058, 1059, 1060, 1061, 1062, 1063, 1064, 1065, 1066}, {10, 11, 12, 13, 14, 15, 16, 17, 18, 19, 20, 21, 22, 23, 24, 25, 26, 27, 28, 29, 30, 31, 32, 33, 34, 35, 36, 37, 38, 39, 40, 41, 42, 43, 44, 45, 46, 47, 48, 49, 50, 51, 52, 53, 54, 55, 56, 57, 58, 59, 60, 61, 62, 63, 64, 65, 66, 67, 68, 69, 70, 71, 72, 73, 74, 75, 76, 77, 78, 79, 80, 81, 82, 83, 84, 85, 86, 87, 88, 89, 90, 91, 92, 93, 94, 95, 96, 97, 98, 99, 100, 101, 102, 103, 104, 105, 106, 107, 108, 109, 110, 111, 112, 113, 114, 115, 116, 117, 118, 119, 120, 121, 122, 123, 124, 125, 126, 127, 128, 129, 130, 131, 132, 133, 134, 135, 136, 137, 138, 139, 140, 141, 142, 143, 144, 145, 146, 147, 148, 149, 150, 151, 152, 153, 154, 155, 156, 157, 158, 159, 160, 161, 162, 163, 164, 165, 166, 167, 168, 169, 170, 171, 172, 173, 174, 175, 176, 177, 178, 179, 180, 181, 182, 183, 184, 185, 186, 187, 188, 189, 190, 191, 192, 193, 194, 195, 196, 197, 198, 199, 200, 201, 202, 203, 204, 205, 206, 207, 208, 209, 210, 211, 212, 213, 214, 215, 216, 217, 218, 219, 220, 221, 222, 223, 224, 225, 226, 227, 228, 229, 230, 231, 232, 233, 234, 235, 236, 237, 238, 239, 240, 241, 242, 243, 244, 245, 246, 247, 248, 249, 250, 251, 252, 253, 254, 255, 256, 257, 258, 259, 260, 261, 262, 263, 264, 265, 266, 267, 268, 269, 270, 271, 272, 273, 274, 275, 276, 277, 278, 279, 280, 281, 282, 283, 284, 285, 286, 287, 288, 289, 290, 291, 292, 293, 294, 295, 296, 297, 298, 299, 300, 301, 302, 303, 304, 305, 306, 307, 308, 309, 310, 311, 312, 313, 314, 315, 316, 317, 318, 319, 320, 321, 322, 323, 324, 325, 326, 327, 328, 329, 330, 331, 332, 333, 334, 335, 336, 337, 338, 339, 340, 341, 342, 343, 344, 345, 346, 347, 348, 349, 350, 351, 352, 353, 354, 355, 356, 357, 358, 359, 360, 361, 362, 363, 364, 365, 366, 367, 368, 369, 370, 371, 372, 373, 374, 375, 376, 377, 378, 379, 380, 381, 382, 383, 384, 385, 386, 387, 388, 389, 390, 391, 392, 393, 394, 395, 396, 397, 398, 399, 400, 401, 402, 403, 404, 405, 406, 407, 408, 409, 410, 411, 412, 413, 414, 415, 416, 417, 418, 419, 420, 421, 422, 423, 424, 425, 426, 427, 428, 429, 430, 431, 432, 433, 434, 435, 436, 437, 438, 439, 440, 441, 442, 443, 444, 445, 446, 447, 448, 449, 450, 451, 452, 453, 454, 455, 456, 457, 458, 459, 460, 461, 462, 463, 464, 465, 466, 467, 468, 469, 470, 471, 472, 473, 474, 475, 476, 477, 478, 479, 480, 481, 482, 483, 484, 485, 486, 487, 488, 489, 490, 491, 492, 493, 494, 495, 496, 497, 498, 499, 500, 501, 502, 503, 504, 505, 506, 507, 508, 509, 510, 511, 512, 513, 514, 515, 516, 517, 518, 519, 520, 521, 522, 523, 524, 525, 526, 527, 528, 529, 530, 531, 532, 533, 534, 535, 536, 537, 538, 539, 540, 541, 542, 543, 544, 545, 546, 547, 548, 549, 550, 551, 552, 553, 554, 555, 556, 557, 558, 559, 560, 561, 562, 563, 564, 565, 566, 567, 568, 569, 570, 571, 572, 573, 574, 575, 576, 577, 578, 579, 580, 581, 582, 583, 584, 585, 586, 587, 588, 589, 590, 591, 592, 593, 594, 595, 596, 597, 598, 599, 600, 601, 602, 603, 604, 605, 606, 607, 608, 609, 610, 611, 612, 613, 614, 615, 616, 617, 618, 619, 620, 621, 622, 623, 624, 625, 626, 627, 628, 629, 630, 631, 632, 633, 634, 635, 636, 637, 638, 639, 640, 641, 642, 643, 644, 645, 646, 647, 648, 649, 650, 651, 652, 653, 654, 655, 656, 657, 658, 659, 660, 661, 662, 663, 664, 665, 666, 667, 668, 669, 670, 671, 672, 673, 674, 675, 676, 677, 678, 679, 680, 681, 682, 683, 684, 685, 686, 687, 688, 689, 690, 691, 692, 693, 694, 695, 696, 697, 698, 699, 700, 701, 702, 703, 704, 705, 706, 707, 708, 709, 710, 711, 712, 713, 714, 715, 716, 717, 718, 719, 720, 721, 722, 723, 724, 725, 726, 727, 728, 729, 730, 731, 732, 733, 734, 735, 736, 737, 738, 739, 740, 741, 742, 743, 744, 745, 746, 747, 748, 749, 750, 751, 752, 753, 754, 755, 756, 757, 758, 759, 760, 761, 762, 763, 764, 765, 766, 767, 768, 769, 770, 771, 772, 773, 774, 775, 776, 777, 778, 779, 780, 781, 782, 783, 784, 785, 786, 787, 788, 789, 790, 791, 792, 793, 794, 795, 796, 797, 798, 799, 800, 801, 802, 803, 804, 805, 806, 807, 808, 809, 810, 811, 812, 813, 814, 815, 816, 817, 818, 819, 820, 821, 822, 823, 824, 825, 826, 827, 828, 829, 830, 831, 832, 833, 834, 835, 836, 837, 838, 839, 840, 841, 842, 843, 844, 845, 846, 847, 848, 849, 850, 851, 852, 853, 854, 855, 856, 857, 858, 859, 860, 861, 862, 863, 864, 865, 866, 867, 868, 869, 870, 871, 872, 873, 874, 875, 876, 877, 878, 879, 880, 881, 882, 883, 884, 885, 886, 887, 888, 889, 890, 891, 892, 893, 894, 895, 896, 897, 898, 899, 900, 901, 902, 903, 904, 905, 906, 907, 908, 909, 910, 911, 912, 913, 914, 915, 916, 917, 918, 919, 920, 921, 922, 923, 924, 925, 926, 927, 928, 929, 930, 931, 932, 933, 934, 935, 936, 937, 938, 939, 940, 941, 942, 943, 944, 945, 946, 947, 948, 949, 950, 951, 952, 953, 954, 955, 956, 957, 958, 959, 960, 961, 962, 963, 964, 965, 966, 967, 968, 969, 970, 971, 972, 973, 974, 975, 976, 977, 978, 979, 980, 981, 982, 983, 984, 985, 986, 987, 988, 989, 990, 991, 992, 993, 994, 995, 996, 997, 998, 999, 1000, 1001, 1002, 1003, 1004, 1005, 1006, 1007, 1008, 1009, 1010, 1011, 1012, 1013, 1014, 1015, 1016, 1017, 1018, 1019, 1020, 1021, 1022, 1023, 1024, 1025, 1026, 1027, 1028, 1029, 1030, 1031, 1032, 1033, 1034, 1035, 1036, 1037, 1038, 1039, 1040, 1041, 1042, 1043, 1044, 1045, 1046, 1047, 1048, 1049, 1050, 1051, 1052, 1053, 1054, 1055, 1056, 1057, 1058, 1059, 1060, 1061, 1062, 1063, 1064, 1065, 1066}]\n"
     ]
    }
   ],
   "source": [
    "result = [None]*10\n",
    "clusterID = [None]*10\n",
    "for i in range(-10,0):\n",
    "    clusterNo = km.labels_[i]\n",
    "    clusterID[i] = clusterNo\n",
    "    result[i] = (set([(i+1) for (i,j) in enumerate(km.labels_) if j == clusterNo])) #Result[i] will have all the docs in the same cluster as query\n",
    "\n",
    "print(result)"
   ]
  },
  {
   "cell_type": "code",
   "execution_count": 233,
   "metadata": {},
   "outputs": [
    {
     "name": "stdout",
     "output_type": "stream",
     "text": [
      "10\n"
     ]
    }
   ],
   "source": [
    "print(len(result))"
   ]
  },
  {
   "cell_type": "code",
   "execution_count": 234,
   "metadata": {},
   "outputs": [
    {
     "name": "stdout",
     "output_type": "stream",
     "text": [
      "[0, 0, 0, 0, 0, 0, 0, 0, 0, 0]\n"
     ]
    }
   ],
   "source": [
    "print(clusterID)"
   ]
  },
  {
   "cell_type": "code",
   "execution_count": 235,
   "metadata": {},
   "outputs": [
    {
     "data": {
      "text/plain": [
       "set"
      ]
     },
     "execution_count": 235,
     "metadata": {},
     "output_type": "execute_result"
    }
   ],
   "source": [
    "type(result[0])"
   ]
  },
  {
   "cell_type": "markdown",
   "metadata": {},
   "source": [
    "TF-IDF RESULT"
   ]
  },
  {
   "cell_type": "code",
   "execution_count": 236,
   "metadata": {},
   "outputs": [
    {
     "name": "stdout",
     "output_type": "stream",
     "text": [
      "Results - (Precision, Recall) for Level  1057 : \n",
      "Query  1 :  (0.005676442762535478, 1.0)\n",
      "Results - (Precision, Recall) for Level  1057 : \n",
      "Query  2 :  (0.003784295175023652, 1.0)\n",
      "Results - (Precision, Recall) for Level  1057 : \n",
      "Query  3 :  (0.011352885525070956, 1.0)\n",
      "Results - (Precision, Recall) for Level  1057 : \n",
      "Query  4 :  (0.004730368968779565, 1.0)\n",
      "Results - (Precision, Recall) for Level  1057 : \n",
      "Query  5 :  (0.003784295175023652, 1.0)\n",
      "Results - (Precision, Recall) for Level  1057 : \n",
      "Query  6 :  (0.008514664143803218, 1.0)\n",
      "Results - (Precision, Recall) for Level  1057 : \n",
      "Query  7 :  (0.015137180700094607, 1.0)\n",
      "Results - (Precision, Recall) for Level  1057 : \n",
      "Query  8 :  (0.002838221381267739, 1.0)\n",
      "Results - (Precision, Recall) for Level  1057 : \n",
      "Query  9 :  (0.005676442762535478, 1.0)\n",
      "Results - (Precision, Recall) for Level  1057 : \n",
      "Query  10 :  (0.006622516556291391, 1.0)\n"
     ]
    }
   ],
   "source": [
    "import heapq #used as data structure \n",
    "matchList = [None]*10\n",
    "for i in range(10):\n",
    "    count = len(result[i])\n",
    "    print(\"Results - (Precision, Recall) for Level \", count, \": \")\n",
    "    matchList[i] = set([x+1 for x in heapq.nlargest(count, range(len(cos_sim[i])), cos_sim[i].__getitem__)])\n",
    "    #print(matchList[i])\n",
    "    matchCount = len(matchList[i] & query_index[i])\n",
    "    ans = (matchCount/count, matchCount/len(query_index[i]))\n",
    "    print(\"Query \", i+1, \": \", ans)"
   ]
  },
  {
   "cell_type": "markdown",
   "metadata": {},
   "source": [
    "### Cluster result for k means clustering"
   ]
  },
  {
   "cell_type": "code",
   "execution_count": 237,
   "metadata": {},
   "outputs": [
    {
     "name": "stdout",
     "output_type": "stream",
     "text": [
      "Query  1 :  (0.005676442762535478, 1.0)\n",
      "Query  2 :  (0.003784295175023652, 1.0)\n",
      "Query  3 :  (0.011352885525070956, 1.0)\n",
      "Query  4 :  (0.004730368968779565, 1.0)\n",
      "Query  5 :  (0.003784295175023652, 1.0)\n",
      "Query  6 :  (0.008514664143803218, 1.0)\n",
      "Query  7 :  (0.014191106906338695, 0.9375)\n",
      "Query  8 :  (0.002838221381267739, 1.0)\n",
      "Query  9 :  (0.005676442762535478, 1.0)\n",
      "Query  10 :  (0.006622516556291391, 1.0)\n"
     ]
    }
   ],
   "source": [
    "for i in range(10):\n",
    "    matchCount = len(result[i] & query_index[i])\n",
    "    ans = (matchCount/len(result[i]), matchCount/len(query_index[i]))\n",
    "    print(\"Query \", i+1, \": \", ans)"
   ]
  },
  {
   "cell_type": "markdown",
   "metadata": {},
   "source": [
    "### Same using Agglomerative Clustering "
   ]
  },
  {
   "cell_type": "code",
   "execution_count": 238,
   "metadata": {},
   "outputs": [
    {
     "data": {
      "text/plain": [
       "array([6, 7, 5, ..., 4, 4, 4], dtype=int64)"
      ]
     },
     "execution_count": 238,
     "metadata": {},
     "output_type": "execute_result"
    }
   ],
   "source": [
    "cluster = AgglomerativeClustering(n_clusters=8, affinity='euclidean',linkage='ward')\n",
    "cluster.fit_predict(orignalVC)"
   ]
  },
  {
   "cell_type": "code",
   "execution_count": 239,
   "metadata": {},
   "outputs": [
    {
     "name": "stdout",
     "output_type": "stream",
     "text": [
      "Query  1 :  (0.005676442762535478, 1.0)\n",
      "Query  2 :  (0.003784295175023652, 1.0)\n",
      "Query  3 :  (0.011352885525070956, 1.0)\n",
      "Query  4 :  (0.004730368968779565, 1.0)\n",
      "Query  5 :  (0.003784295175023652, 1.0)\n",
      "Query  6 :  (0.008514664143803218, 1.0)\n",
      "Query  7 :  (0.014191106906338695, 0.9375)\n",
      "Query  8 :  (0.002838221381267739, 1.0)\n",
      "Query  9 :  (0.005676442762535478, 1.0)\n",
      "Query  10 :  (0.006622516556291391, 1.0)\n"
     ]
    }
   ],
   "source": [
    "for i in range(10):\n",
    "    matchCount = len(result[i] & query_index[i])\n",
    "    ans = (matchCount/len(result[i]), matchCount/len(query_index[i]))\n",
    "    print(\"Query \", i+1, \": \", ans)"
   ]
  },
  {
   "cell_type": "code",
   "execution_count": 240,
   "metadata": {},
   "outputs": [],
   "source": [
    "for i in range(-10,0):\n",
    "    clusterNo = cluster.labels_[i]\n",
    "    result[i] = (set([(i+1) for (i,j) in enumerate(cluster.labels_) if j == clusterNo]))"
   ]
  },
  {
   "cell_type": "markdown",
   "metadata": {},
   "source": [
    "Finally we have produced output for both the cases. After comparing result in both the cases one can say that they are not supporting the theory. But still the results are good . Precision and recall were good in the case of clustering as well."
   ]
  },
  {
   "cell_type": "markdown",
   "metadata": {},
   "source": [
    "# Comparisions\n",
    "# TF-IDF Result vs Kmeans vs Agglo Clustering \n",
    "\n",
    "TF-IDF <BR>\n",
    "Results - (Precision, Recall) for Level  1057 :<BR>\n",
    "Query  1 :  (0.005676442762535478, 1.0)<BR>\n",
    "Results - (Precision, Recall) for Level  1057 :<BR> \n",
    "Query  2 :  (0.003784295175023652, 1.0)<BR>\n",
    "Results - (Precision, Recall) for Level  1057 :<BR> \n",
    "Query  3 :  (0.011352885525070956, 1.0)<BR>\n",
    "Results - (Precision, Recall) for Level  1057 :<BR> \n",
    "Query  4 :  (0.004730368968779565, 1.0)<BR>\n",
    "Results - (Precision, Recall) for Level  1057 :<BR> \n",
    "Query  5 :  (0.003784295175023652, 1.0)<BR>\n",
    "Results - (Precision, Recall) for Level  1057 :<BR> \n",
    "Query  6 :  (0.008514664143803218, 1.0)<BR>\n",
    "Results - (Precision, Recall) for Level  1057 :<BR> \n",
    "Query  7 :  (0.015137180700094607, 1.0)<BR>\n",
    "Results - (Precision, Recall) for Level  1057 :<BR> \n",
    "Query  8 :  (0.002838221381267739, 1.0)<BR>\n",
    "Results - (Precision, Recall) for Level  1057 :<BR> \n",
    "Query  9 :  (0.005676442762535478, 1.0)<BR>\n",
    "Results - (Precision, Recall) for Level  1057 :<BR> \n",
    "Query  10 :  (0.006622516556291391, 1.0)<BR>\n",
    "KMeans<br>\n",
    "Query  1 :  (0.005676442762535478, 1.0)<br>\n",
    "Query  2 :  (0.003784295175023652, 1.0)<br>\n",
    "Query  3 :  (0.011352885525070956, 1.0)<br>\n",
    "Query  4 :  (0.004730368968779565, 1.0)<br>\n",
    "Query  5 :  (0.003784295175023652, 1.0)<br>\n",
    "Query  6 :  (0.008514664143803218, 1.0)<br>\n",
    "Query  7 :  (0.014191106906338695, 0.9375)<br>\n",
    "Query  8 :  (0.002838221381267739, 1.0)<br>\n",
    "Query  9 :  (0.005676442762535478, 1.0)<br>\n",
    "Query  10 :  (0.006622516556291391, 1.0)<br>\n",
    "Agglo Clustering<br>\n",
    "Query  1 :  (0.005676442762535478, 1.0)<br>\n",
    "Query  2 :  (0.003784295175023652, 1.0)<br>\n",
    "Query  3 :  (0.011352885525070956, 1.0)<br>\n",
    "Query  4 :  (0.004730368968779565, 1.0)<br>\n",
    "Query  5 :  (0.003784295175023652, 1.0)<br>\n",
    "Query  6 :  (0.008514664143803218, 1.0)<br>\n",
    "Query  7 :  (0.014191106906338695, 0.9375)<br>\n",
    "Query  8 :  (0.002838221381267739, 1.0)<br>\n",
    "Query  9 :  (0.005676442762535478, 1.0)<br>\n",
    "Query  10 :  (0.006622516556291391, 1.0)<br>\n",
    "\n",
    "So we retrieved all the docs as in the same cluster as query. Which due to not so perfect clustering was majorly concentrated in 1 cluster only.<br>\n",
    "So we can show that recall increased to 1 for the queries when clustering is involved.<br>\n",
    "For precision we can't predict as depending to clustering the precision can go in both ways.<br>\n",
    "\n",
    "\n",
    "\n",
    "\n",
    "# End\n",
    "    \n",
    "\n",
    "\n"
   ]
  },
  {
   "cell_type": "code",
   "execution_count": null,
   "metadata": {},
   "outputs": [],
   "source": []
  }
 ],
 "metadata": {
  "kernelspec": {
   "display_name": "Python 3.6.13 ('doc_rank')",
   "language": "python",
   "name": "python3"
  },
  "language_info": {
   "codemirror_mode": {
    "name": "ipython",
    "version": 3
   },
   "file_extension": ".py",
   "mimetype": "text/x-python",
   "name": "python",
   "nbconvert_exporter": "python",
   "pygments_lexer": "ipython3",
   "version": "3.6.13"
  },
  "vscode": {
   "interpreter": {
    "hash": "efbae9117a4a2437e367e339096d0a493bf0a0ade0a271b449e3cfcbfca8addb"
   }
  }
 },
 "nbformat": 4,
 "nbformat_minor": 2
}
